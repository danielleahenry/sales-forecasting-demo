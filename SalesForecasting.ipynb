{
  "nbformat": 4,
  "nbformat_minor": 0,
  "metadata": {
    "colab": {
      "provenance": [],
      "authorship_tag": "ABX9TyOZWAEqtrycPr6qaWlx5p7C",
      "include_colab_link": true
    },
    "kernelspec": {
      "name": "python3",
      "display_name": "Python 3"
    },
    "language_info": {
      "name": "python"
    }
  },
  "cells": [
    {
      "cell_type": "markdown",
      "metadata": {
        "id": "view-in-github",
        "colab_type": "text"
      },
      "source": [
        "<a href=\"https://colab.research.google.com/github/danielleahenry/sales-forecasting-demo/blob/main/SalesForecasting.ipynb\" target=\"_parent\"><img src=\"https://colab.research.google.com/assets/colab-badge.svg\" alt=\"Open In Colab\"/></a>"
      ]
    },
    {
      "cell_type": "code",
      "execution_count": null,
      "metadata": {
        "id": "ms55Hh-xUOLv",
        "colab": {
          "base_uri": "https://localhost:8080/"
        },
        "outputId": "fd49974c-df0f-4741-8ee8-3b141635149a"
      },
      "outputs": [
        {
          "output_type": "stream",
          "name": "stdout",
          "text": [
            "\u001b[2K     \u001b[90m━━━━━━━━━━━━━━━━━━━━━━━━━━━━━━━━━━━━━━━━\u001b[0m \u001b[32m48.2/48.2 kB\u001b[0m \u001b[31m1.3 MB/s\u001b[0m eta \u001b[36m0:00:00\u001b[0m\n",
            "\u001b[2K     \u001b[90m━━━━━━━━━━━━━━━━━━━━━━━━━━━━━━━━━━━━━━━━\u001b[0m \u001b[32m152.2/152.2 kB\u001b[0m \u001b[31m4.3 MB/s\u001b[0m eta \u001b[36m0:00:00\u001b[0m\n",
            "\u001b[2K     \u001b[90m━━━━━━━━━━━━━━━━━━━━━━━━━━━━━━━━━━━━━━━━\u001b[0m \u001b[32m108.3/108.3 kB\u001b[0m \u001b[31m7.3 MB/s\u001b[0m eta \u001b[36m0:00:00\u001b[0m\n",
            "\u001b[?25h  Preparing metadata (setup.py) ... \u001b[?25l\u001b[?25hdone\n",
            "\u001b[2K     \u001b[90m━━━━━━━━━━━━━━━━━━━━━━━━━━━━━━━━━━━━━━━━\u001b[0m \u001b[32m913.9/913.9 kB\u001b[0m \u001b[31m16.3 MB/s\u001b[0m eta \u001b[36m0:00:00\u001b[0m\n",
            "\u001b[?25h  Preparing metadata (setup.py) ... \u001b[?25l\u001b[?25hdone\n",
            "\u001b[2K   \u001b[90m━━━━━━━━━━━━━━━━━━━━━━━━━━━━━━━━━━━━━━━━\u001b[0m \u001b[32m165.5/165.5 kB\u001b[0m \u001b[31m12.2 MB/s\u001b[0m eta \u001b[36m0:00:00\u001b[0m\n",
            "\u001b[2K   \u001b[90m━━━━━━━━━━━━━━━━━━━━━━━━━━━━━━━━━━━━━━━━\u001b[0m \u001b[32m98.2/98.2 MB\u001b[0m \u001b[31m11.4 MB/s\u001b[0m eta \u001b[36m0:00:00\u001b[0m\n",
            "\u001b[2K   \u001b[90m━━━━━━━━━━━━━━━━━━━━━━━━━━━━━━━━━━━━━━━━\u001b[0m \u001b[32m1.7/1.7 MB\u001b[0m \u001b[31m62.5 MB/s\u001b[0m eta \u001b[36m0:00:00\u001b[0m\n",
            "\u001b[2K   \u001b[90m━━━━━━━━━━━━━━━━━━━━━━━━━━━━━━━━━━━━━━━━\u001b[0m \u001b[32m139.8/139.8 kB\u001b[0m \u001b[31m9.4 MB/s\u001b[0m eta \u001b[36m0:00:00\u001b[0m\n",
            "\u001b[2K   \u001b[90m━━━━━━━━━━━━━━━━━━━━━━━━━━━━━━━━━━━━━━━━\u001b[0m \u001b[32m177.4/177.4 kB\u001b[0m \u001b[31m12.9 MB/s\u001b[0m eta \u001b[36m0:00:00\u001b[0m\n",
            "\u001b[2K   \u001b[90m━━━━━━━━━━━━━━━━━━━━━━━━━━━━━━━━━━━━━━━━\u001b[0m \u001b[32m3.1/3.1 MB\u001b[0m \u001b[31m73.9 MB/s\u001b[0m eta \u001b[36m0:00:00\u001b[0m\n",
            "\u001b[2K   \u001b[90m━━━━━━━━━━━━━━━━━━━━━━━━━━━━━━━━━━━━━━━━\u001b[0m \u001b[32m2.0/2.0 MB\u001b[0m \u001b[31m65.5 MB/s\u001b[0m eta \u001b[36m0:00:00\u001b[0m\n",
            "\u001b[2K   \u001b[90m━━━━━━━━━━━━━━━━━━━━━━━━━━━━━━━━━━━━━━━━\u001b[0m \u001b[32m447.0/447.0 kB\u001b[0m \u001b[31m25.7 MB/s\u001b[0m eta \u001b[36m0:00:00\u001b[0m\n",
            "\u001b[2K   \u001b[90m━━━━━━━━━━━━━━━━━━━━━━━━━━━━━━━━━━━━━━━━\u001b[0m \u001b[32m109.4/109.4 kB\u001b[0m \u001b[31m7.8 MB/s\u001b[0m eta \u001b[36m0:00:00\u001b[0m\n",
            "\u001b[2K   \u001b[90m━━━━━━━━━━━━━━━━━━━━━━━━━━━━━━━━━━━━━━━━\u001b[0m \u001b[32m295.8/295.8 kB\u001b[0m \u001b[31m19.2 MB/s\u001b[0m eta \u001b[36m0:00:00\u001b[0m\n",
            "\u001b[2K   \u001b[90m━━━━━━━━━━━━━━━━━━━━━━━━━━━━━━━━━━━━━━━━\u001b[0m \u001b[32m3.4/3.4 MB\u001b[0m \u001b[31m75.7 MB/s\u001b[0m eta \u001b[36m0:00:00\u001b[0m\n",
            "\u001b[2K   \u001b[90m━━━━━━━━━━━━━━━━━━━━━━━━━━━━━━━━━━━━━━━━\u001b[0m \u001b[32m2.8/2.8 MB\u001b[0m \u001b[31m66.5 MB/s\u001b[0m eta \u001b[36m0:00:00\u001b[0m\n",
            "\u001b[2K   \u001b[90m━━━━━━━━━━━━━━━━━━━━━━━━━━━━━━━━━━━━━━━━\u001b[0m \u001b[32m2.3/2.3 MB\u001b[0m \u001b[31m72.1 MB/s\u001b[0m eta \u001b[36m0:00:00\u001b[0m\n",
            "\u001b[2K   \u001b[90m━━━━━━━━━━━━━━━━━━━━━━━━━━━━━━━━━━━━━━━━\u001b[0m \u001b[32m194.6/194.6 kB\u001b[0m \u001b[31m12.9 MB/s\u001b[0m eta \u001b[36m0:00:00\u001b[0m\n",
            "\u001b[2K   \u001b[90m━━━━━━━━━━━━━━━━━━━━━━━━━━━━━━━━━━━━━━━━\u001b[0m \u001b[32m46.2/46.2 kB\u001b[0m \u001b[31m2.9 MB/s\u001b[0m eta \u001b[36m0:00:00\u001b[0m\n",
            "\u001b[2K   \u001b[90m━━━━━━━━━━━━━━━━━━━━━━━━━━━━━━━━━━━━━━━━\u001b[0m \u001b[32m58.1/58.1 kB\u001b[0m \u001b[31m4.1 MB/s\u001b[0m eta \u001b[36m0:00:00\u001b[0m\n",
            "\u001b[?25h  Building wheel for xhtml2pdf (setup.py) ... \u001b[?25l\u001b[?25hdone\n",
            "  Building wheel for svglib (setup.py) ... \u001b[?25l\u001b[?25hdone\n",
            "\u001b[31mERROR: pip's dependency resolver does not currently take into account all the packages that are installed. This behaviour is the source of the following dependency conflicts.\n",
            "albumentations 1.4.14 requires pydantic>=2.7.0, but you have pydantic 1.10.18 which is incompatible.\u001b[0m\u001b[31m\n",
            "\u001b[0m"
          ]
        }
      ],
      "source": [
        "%pip install -Uq upgini catboost"
      ]
    },
    {
      "cell_type": "code",
      "source": [
        "from os.path import exists\n",
        "import pandas as pd\n",
        "\n",
        "df_path = \"train.csv\" if exists(\"train.csv.zip\") else \"https://github.com/upgini/upgini/raw/main/notebooks/train.csv.zip\"\n",
        "df = pd.read_csv(df_path)\n",
        "df = df.sample(n=19_000, random_state=0)\n",
        "df[\"store\"] = df[\"store\"].astype(str)\n",
        "df[\"item\"] = df[\"item\"].astype(str)\n",
        "\n",
        "df[\"date\"] = pd.to_datetime(df[\"date\"])\n",
        "\n",
        "df.sort_values(\"date\", inplace = True)\n",
        "df.reset_index(inplace = True, drop = True)\n",
        "df.head()"
      ],
      "metadata": {
        "id": "bZk-riO0U2Qf",
        "colab": {
          "base_uri": "https://localhost:8080/",
          "height": 206
        },
        "collapsed": true,
        "outputId": "750bcfff-e32b-41f1-8a6d-e19b86f09047"
      },
      "execution_count": null,
      "outputs": [
        {
          "output_type": "execute_result",
          "data": {
            "text/plain": [
              "        date store item  sales\n",
              "0 2013-01-01     5   24     26\n",
              "1 2013-01-01    10   21     33\n",
              "2 2013-01-02     2    7     47\n",
              "3 2013-01-02     1   13     31\n",
              "4 2013-01-03     6    1     11"
            ],
            "text/html": [
              "\n",
              "  <div id=\"df-51dcfca2-ad25-4a6d-abef-f6e37abaebf2\" class=\"colab-df-container\">\n",
              "    <div>\n",
              "<style scoped>\n",
              "    .dataframe tbody tr th:only-of-type {\n",
              "        vertical-align: middle;\n",
              "    }\n",
              "\n",
              "    .dataframe tbody tr th {\n",
              "        vertical-align: top;\n",
              "    }\n",
              "\n",
              "    .dataframe thead th {\n",
              "        text-align: right;\n",
              "    }\n",
              "</style>\n",
              "<table border=\"1\" class=\"dataframe\">\n",
              "  <thead>\n",
              "    <tr style=\"text-align: right;\">\n",
              "      <th></th>\n",
              "      <th>date</th>\n",
              "      <th>store</th>\n",
              "      <th>item</th>\n",
              "      <th>sales</th>\n",
              "    </tr>\n",
              "  </thead>\n",
              "  <tbody>\n",
              "    <tr>\n",
              "      <th>0</th>\n",
              "      <td>2013-01-01</td>\n",
              "      <td>5</td>\n",
              "      <td>24</td>\n",
              "      <td>26</td>\n",
              "    </tr>\n",
              "    <tr>\n",
              "      <th>1</th>\n",
              "      <td>2013-01-01</td>\n",
              "      <td>10</td>\n",
              "      <td>21</td>\n",
              "      <td>33</td>\n",
              "    </tr>\n",
              "    <tr>\n",
              "      <th>2</th>\n",
              "      <td>2013-01-02</td>\n",
              "      <td>2</td>\n",
              "      <td>7</td>\n",
              "      <td>47</td>\n",
              "    </tr>\n",
              "    <tr>\n",
              "      <th>3</th>\n",
              "      <td>2013-01-02</td>\n",
              "      <td>1</td>\n",
              "      <td>13</td>\n",
              "      <td>31</td>\n",
              "    </tr>\n",
              "    <tr>\n",
              "      <th>4</th>\n",
              "      <td>2013-01-03</td>\n",
              "      <td>6</td>\n",
              "      <td>1</td>\n",
              "      <td>11</td>\n",
              "    </tr>\n",
              "  </tbody>\n",
              "</table>\n",
              "</div>\n",
              "    <div class=\"colab-df-buttons\">\n",
              "\n",
              "  <div class=\"colab-df-container\">\n",
              "    <button class=\"colab-df-convert\" onclick=\"convertToInteractive('df-51dcfca2-ad25-4a6d-abef-f6e37abaebf2')\"\n",
              "            title=\"Convert this dataframe to an interactive table.\"\n",
              "            style=\"display:none;\">\n",
              "\n",
              "  <svg xmlns=\"http://www.w3.org/2000/svg\" height=\"24px\" viewBox=\"0 -960 960 960\">\n",
              "    <path d=\"M120-120v-720h720v720H120Zm60-500h600v-160H180v160Zm220 220h160v-160H400v160Zm0 220h160v-160H400v160ZM180-400h160v-160H180v160Zm440 0h160v-160H620v160ZM180-180h160v-160H180v160Zm440 0h160v-160H620v160Z\"/>\n",
              "  </svg>\n",
              "    </button>\n",
              "\n",
              "  <style>\n",
              "    .colab-df-container {\n",
              "      display:flex;\n",
              "      gap: 12px;\n",
              "    }\n",
              "\n",
              "    .colab-df-convert {\n",
              "      background-color: #E8F0FE;\n",
              "      border: none;\n",
              "      border-radius: 50%;\n",
              "      cursor: pointer;\n",
              "      display: none;\n",
              "      fill: #1967D2;\n",
              "      height: 32px;\n",
              "      padding: 0 0 0 0;\n",
              "      width: 32px;\n",
              "    }\n",
              "\n",
              "    .colab-df-convert:hover {\n",
              "      background-color: #E2EBFA;\n",
              "      box-shadow: 0px 1px 2px rgba(60, 64, 67, 0.3), 0px 1px 3px 1px rgba(60, 64, 67, 0.15);\n",
              "      fill: #174EA6;\n",
              "    }\n",
              "\n",
              "    .colab-df-buttons div {\n",
              "      margin-bottom: 4px;\n",
              "    }\n",
              "\n",
              "    [theme=dark] .colab-df-convert {\n",
              "      background-color: #3B4455;\n",
              "      fill: #D2E3FC;\n",
              "    }\n",
              "\n",
              "    [theme=dark] .colab-df-convert:hover {\n",
              "      background-color: #434B5C;\n",
              "      box-shadow: 0px 1px 3px 1px rgba(0, 0, 0, 0.15);\n",
              "      filter: drop-shadow(0px 1px 2px rgba(0, 0, 0, 0.3));\n",
              "      fill: #FFFFFF;\n",
              "    }\n",
              "  </style>\n",
              "\n",
              "    <script>\n",
              "      const buttonEl =\n",
              "        document.querySelector('#df-51dcfca2-ad25-4a6d-abef-f6e37abaebf2 button.colab-df-convert');\n",
              "      buttonEl.style.display =\n",
              "        google.colab.kernel.accessAllowed ? 'block' : 'none';\n",
              "\n",
              "      async function convertToInteractive(key) {\n",
              "        const element = document.querySelector('#df-51dcfca2-ad25-4a6d-abef-f6e37abaebf2');\n",
              "        const dataTable =\n",
              "          await google.colab.kernel.invokeFunction('convertToInteractive',\n",
              "                                                    [key], {});\n",
              "        if (!dataTable) return;\n",
              "\n",
              "        const docLinkHtml = 'Like what you see? Visit the ' +\n",
              "          '<a target=\"_blank\" href=https://colab.research.google.com/notebooks/data_table.ipynb>data table notebook</a>'\n",
              "          + ' to learn more about interactive tables.';\n",
              "        element.innerHTML = '';\n",
              "        dataTable['output_type'] = 'display_data';\n",
              "        await google.colab.output.renderOutput(dataTable, element);\n",
              "        const docLink = document.createElement('div');\n",
              "        docLink.innerHTML = docLinkHtml;\n",
              "        element.appendChild(docLink);\n",
              "      }\n",
              "    </script>\n",
              "  </div>\n",
              "\n",
              "\n",
              "<div id=\"df-88fa0cf2-540f-4663-af02-f230b66fc1b7\">\n",
              "  <button class=\"colab-df-quickchart\" onclick=\"quickchart('df-88fa0cf2-540f-4663-af02-f230b66fc1b7')\"\n",
              "            title=\"Suggest charts\"\n",
              "            style=\"display:none;\">\n",
              "\n",
              "<svg xmlns=\"http://www.w3.org/2000/svg\" height=\"24px\"viewBox=\"0 0 24 24\"\n",
              "     width=\"24px\">\n",
              "    <g>\n",
              "        <path d=\"M19 3H5c-1.1 0-2 .9-2 2v14c0 1.1.9 2 2 2h14c1.1 0 2-.9 2-2V5c0-1.1-.9-2-2-2zM9 17H7v-7h2v7zm4 0h-2V7h2v10zm4 0h-2v-4h2v4z\"/>\n",
              "    </g>\n",
              "</svg>\n",
              "  </button>\n",
              "\n",
              "<style>\n",
              "  .colab-df-quickchart {\n",
              "      --bg-color: #E8F0FE;\n",
              "      --fill-color: #1967D2;\n",
              "      --hover-bg-color: #E2EBFA;\n",
              "      --hover-fill-color: #174EA6;\n",
              "      --disabled-fill-color: #AAA;\n",
              "      --disabled-bg-color: #DDD;\n",
              "  }\n",
              "\n",
              "  [theme=dark] .colab-df-quickchart {\n",
              "      --bg-color: #3B4455;\n",
              "      --fill-color: #D2E3FC;\n",
              "      --hover-bg-color: #434B5C;\n",
              "      --hover-fill-color: #FFFFFF;\n",
              "      --disabled-bg-color: #3B4455;\n",
              "      --disabled-fill-color: #666;\n",
              "  }\n",
              "\n",
              "  .colab-df-quickchart {\n",
              "    background-color: var(--bg-color);\n",
              "    border: none;\n",
              "    border-radius: 50%;\n",
              "    cursor: pointer;\n",
              "    display: none;\n",
              "    fill: var(--fill-color);\n",
              "    height: 32px;\n",
              "    padding: 0;\n",
              "    width: 32px;\n",
              "  }\n",
              "\n",
              "  .colab-df-quickchart:hover {\n",
              "    background-color: var(--hover-bg-color);\n",
              "    box-shadow: 0 1px 2px rgba(60, 64, 67, 0.3), 0 1px 3px 1px rgba(60, 64, 67, 0.15);\n",
              "    fill: var(--button-hover-fill-color);\n",
              "  }\n",
              "\n",
              "  .colab-df-quickchart-complete:disabled,\n",
              "  .colab-df-quickchart-complete:disabled:hover {\n",
              "    background-color: var(--disabled-bg-color);\n",
              "    fill: var(--disabled-fill-color);\n",
              "    box-shadow: none;\n",
              "  }\n",
              "\n",
              "  .colab-df-spinner {\n",
              "    border: 2px solid var(--fill-color);\n",
              "    border-color: transparent;\n",
              "    border-bottom-color: var(--fill-color);\n",
              "    animation:\n",
              "      spin 1s steps(1) infinite;\n",
              "  }\n",
              "\n",
              "  @keyframes spin {\n",
              "    0% {\n",
              "      border-color: transparent;\n",
              "      border-bottom-color: var(--fill-color);\n",
              "      border-left-color: var(--fill-color);\n",
              "    }\n",
              "    20% {\n",
              "      border-color: transparent;\n",
              "      border-left-color: var(--fill-color);\n",
              "      border-top-color: var(--fill-color);\n",
              "    }\n",
              "    30% {\n",
              "      border-color: transparent;\n",
              "      border-left-color: var(--fill-color);\n",
              "      border-top-color: var(--fill-color);\n",
              "      border-right-color: var(--fill-color);\n",
              "    }\n",
              "    40% {\n",
              "      border-color: transparent;\n",
              "      border-right-color: var(--fill-color);\n",
              "      border-top-color: var(--fill-color);\n",
              "    }\n",
              "    60% {\n",
              "      border-color: transparent;\n",
              "      border-right-color: var(--fill-color);\n",
              "    }\n",
              "    80% {\n",
              "      border-color: transparent;\n",
              "      border-right-color: var(--fill-color);\n",
              "      border-bottom-color: var(--fill-color);\n",
              "    }\n",
              "    90% {\n",
              "      border-color: transparent;\n",
              "      border-bottom-color: var(--fill-color);\n",
              "    }\n",
              "  }\n",
              "</style>\n",
              "\n",
              "  <script>\n",
              "    async function quickchart(key) {\n",
              "      const quickchartButtonEl =\n",
              "        document.querySelector('#' + key + ' button');\n",
              "      quickchartButtonEl.disabled = true;  // To prevent multiple clicks.\n",
              "      quickchartButtonEl.classList.add('colab-df-spinner');\n",
              "      try {\n",
              "        const charts = await google.colab.kernel.invokeFunction(\n",
              "            'suggestCharts', [key], {});\n",
              "      } catch (error) {\n",
              "        console.error('Error during call to suggestCharts:', error);\n",
              "      }\n",
              "      quickchartButtonEl.classList.remove('colab-df-spinner');\n",
              "      quickchartButtonEl.classList.add('colab-df-quickchart-complete');\n",
              "    }\n",
              "    (() => {\n",
              "      let quickchartButtonEl =\n",
              "        document.querySelector('#df-88fa0cf2-540f-4663-af02-f230b66fc1b7 button');\n",
              "      quickchartButtonEl.style.display =\n",
              "        google.colab.kernel.accessAllowed ? 'block' : 'none';\n",
              "    })();\n",
              "  </script>\n",
              "</div>\n",
              "\n",
              "    </div>\n",
              "  </div>\n"
            ],
            "application/vnd.google.colaboratory.intrinsic+json": {
              "type": "dataframe",
              "variable_name": "df",
              "summary": "{\n  \"name\": \"df\",\n  \"rows\": 2500,\n  \"fields\": [\n    {\n      \"column\": \"date\",\n      \"properties\": {\n        \"dtype\": \"date\",\n        \"min\": \"2013-01-01 00:00:00\",\n        \"max\": \"2017-12-31 00:00:00\",\n        \"num_unique_values\": 1384,\n        \"samples\": [\n          \"2016-02-09 00:00:00\",\n          \"2013-11-02 00:00:00\",\n          \"2013-08-01 00:00:00\"\n        ],\n        \"semantic_type\": \"\",\n        \"description\": \"\"\n      }\n    },\n    {\n      \"column\": \"store\",\n      \"properties\": {\n        \"dtype\": \"category\",\n        \"num_unique_values\": 10,\n        \"samples\": [\n          \"3\",\n          \"10\",\n          \"9\"\n        ],\n        \"semantic_type\": \"\",\n        \"description\": \"\"\n      }\n    },\n    {\n      \"column\": \"item\",\n      \"properties\": {\n        \"dtype\": \"category\",\n        \"num_unique_values\": 50,\n        \"samples\": [\n          \"36\",\n          \"46\",\n          \"28\"\n        ],\n        \"semantic_type\": \"\",\n        \"description\": \"\"\n      }\n    },\n    {\n      \"column\": \"sales\",\n      \"properties\": {\n        \"dtype\": \"number\",\n        \"std\": 29,\n        \"min\": 5,\n        \"max\": 176,\n        \"num_unique_values\": 149,\n        \"samples\": [\n          104,\n          48,\n          116\n        ],\n        \"semantic_type\": \"\",\n        \"description\": \"\"\n      }\n    }\n  ]\n}"
            }
          },
          "metadata": {},
          "execution_count": 3
        }
      ]
    },
    {
      "cell_type": "code",
      "source": [
        "train = df[df[\"date\"] < \"2017-01-01\"]\n",
        "test = df[df[\"date\"] >= \"2016-01-01\"]"
      ],
      "metadata": {
        "id": "5sCsQi_KXJO9"
      },
      "execution_count": null,
      "outputs": []
    },
    {
      "cell_type": "code",
      "source": [
        "#features -> input values, labels -> predictions\n",
        "train_features = train.drop(columns=[\"sales\"])\n",
        "train_target = train[\"sales\"]\n",
        "test_features = test.drop(columns=[\"sales\"])\n",
        "test_target = test[\"sales\"]"
      ],
      "metadata": {
        "id": "3O09rqIPXjZO"
      },
      "execution_count": null,
      "outputs": []
    },
    {
      "cell_type": "code",
      "source": [
        "from upgini import FeaturesEnricher, SearchKey\n",
        "from upgini.metadata import CVType\n",
        "\n",
        "enricher = FeaturesEnricher(\n",
        "    search_keys = {\n",
        "        \"date\": SearchKey.DATE, #want data to refer to same dates\n",
        "    },\n",
        "    CV = CVType.time_series #time series data set\n",
        ")\n",
        "\n",
        "enricher.fit(train_features,\n",
        "             train_target,\n",
        "             eval_set=[(test_features, test_target)])"
      ],
      "metadata": {
        "colab": {
          "base_uri": "https://localhost:8080/",
          "height": 1000
        },
        "collapsed": true,
        "id": "arImEf95ZFh1",
        "outputId": "28a1d859-c04c-437a-c95e-ce4818eaab8e"
      },
      "execution_count": null,
      "outputs": [
        {
          "output_type": "stream",
          "name": "stderr",
          "text": [
            "/usr/local/lib/python3.10/dist-packages/dask/dataframe/__init__.py:42: FutureWarning: \n",
            "Dask dataframe query planning is disabled because dask-expr is not installed.\n",
            "\n",
            "You can install it with `pip install dask[dataframe]` or `conda install dask`.\n",
            "This will raise in a future version.\n",
            "\n",
            "  warnings.warn(msg, FutureWarning)\n"
          ]
        },
        {
          "output_type": "stream",
          "name": "stdout",
          "text": [
            "WARNING: Unsupported arguments: {'CV': <CVType.time_series: 'time_series'>}"
          ]
        },
        {
          "output_type": "display_data",
          "data": {
            "text/plain": [
              "<IPython.core.display.Javascript object>"
            ],
            "application/javascript": [
              "\n",
              "                    async function getVisitorId() {\n",
              "                        return import('https://upgini.github.io/upgini/js/a.js')\n",
              "                            .then(FingerprintJS => FingerprintJS.load())\n",
              "                            .then(fp => fp.get())\n",
              "                            .then(result => result.visitorId);\n",
              "                    }\n",
              "                    "
            ]
          },
          "metadata": {}
        },
        {
          "output_type": "stream",
          "name": "stdout",
          "text": [
            "\n"
          ]
        },
        {
          "output_type": "display_data",
          "data": {
            "text/plain": [
              "[============================================================] 100% Finished"
            ],
            "text/html": [
              "<progress style='width:60ex' max='100' value='100'></progress>  100% Finished</br>"
            ]
          },
          "metadata": {}
        },
        {
          "output_type": "display_data",
          "data": {
            "text/plain": [
              "<IPython.core.display.Javascript object>"
            ],
            "application/javascript": [
              "\n",
              "                    async function getVisitorId() {\n",
              "                        return import('https://upgini.github.io/upgini/js/a.js')\n",
              "                            .then(FingerprintJS => FingerprintJS.load())\n",
              "                            .then(fp => fp.get())\n",
              "                            .then(result => result.visitorId);\n",
              "                    }\n",
              "                    "
            ]
          },
          "metadata": {}
        },
        {
          "output_type": "display_data",
          "data": {
            "text/plain": [
              "<IPython.core.display.Javascript object>"
            ],
            "application/javascript": [
              "\n",
              "                    async function getVisitorId() {\n",
              "                        return import('https://upgini.github.io/upgini/js/a.js')\n",
              "                            .then(FingerprintJS => FingerprintJS.load())\n",
              "                            .then(fp => fp.get())\n",
              "                            .then(result => result.visitorId);\n",
              "                    }\n",
              "                    "
            ]
          },
          "metadata": {}
        },
        {
          "output_type": "display_data",
          "data": {
            "text/plain": [
              "<IPython.core.display.Javascript object>"
            ],
            "application/javascript": [
              "\n",
              "                    async function getVisitorId() {\n",
              "                        return import('https://upgini.github.io/upgini/js/a.js')\n",
              "                            .then(FingerprintJS => FingerprintJS.load())\n",
              "                            .then(fp => fp.get())\n",
              "                            .then(result => result.visitorId);\n",
              "                    }\n",
              "                    "
            ]
          },
          "metadata": {}
        },
        {
          "output_type": "display_data",
          "data": {
            "text/plain": [
              "<IPython.core.display.Javascript object>"
            ],
            "application/javascript": [
              "\n",
              "                    async function getVisitorId() {\n",
              "                        return import('https://upgini.github.io/upgini/js/a.js')\n",
              "                            .then(FingerprintJS => FingerprintJS.load())\n",
              "                            .then(fp => fp.get())\n",
              "                            .then(result => result.visitorId);\n",
              "                    }\n",
              "                    "
            ]
          },
          "metadata": {}
        },
        {
          "output_type": "display_data",
          "data": {
            "text/plain": [
              "<IPython.core.display.Javascript object>"
            ],
            "application/javascript": [
              "\n",
              "                    async function getVisitorId() {\n",
              "                        return import('https://upgini.github.io/upgini/js/a.js')\n",
              "                            .then(FingerprintJS => FingerprintJS.load())\n",
              "                            .then(fp => fp.get())\n",
              "                            .then(result => result.visitorId);\n",
              "                    }\n",
              "                    "
            ]
          },
          "metadata": {}
        },
        {
          "output_type": "display_data",
          "data": {
            "text/plain": [
              "<IPython.core.display.Javascript object>"
            ],
            "application/javascript": [
              "\n",
              "                    async function getVisitorId() {\n",
              "                        return import('https://upgini.github.io/upgini/js/a.js')\n",
              "                            .then(FingerprintJS => FingerprintJS.load())\n",
              "                            .then(fp => fp.get())\n",
              "                            .then(result => result.visitorId);\n",
              "                    }\n",
              "                    "
            ]
          },
          "metadata": {}
        },
        {
          "output_type": "display_data",
          "data": {
            "text/plain": [
              "<IPython.core.display.Javascript object>"
            ],
            "application/javascript": [
              "\n",
              "                    async function getVisitorId() {\n",
              "                        return import('https://upgini.github.io/upgini/js/a.js')\n",
              "                            .then(FingerprintJS => FingerprintJS.load())\n",
              "                            .then(fp => fp.get())\n",
              "                            .then(result => result.visitorId);\n",
              "                    }\n",
              "                    "
            ]
          },
          "metadata": {}
        },
        {
          "output_type": "stream",
          "name": "stdout",
          "text": [
            "\n",
            "WARNING: Search started with DATE search key only\n",
            "Try to add other keys like the COUNTRY, POSTAL_CODE, PHONE NUMBER, EMAIL/HEM, IPv4 to your training dataset\n",
            "for search through all the available data sources.\n",
            "See docs https://github.com/upgini/upgini#-total-239-countries-and-up-to-41-years-of-history\n"
          ]
        },
        {
          "output_type": "display_data",
          "data": {
            "text/plain": [
              "<IPython.core.display.Javascript object>"
            ],
            "application/javascript": [
              "\n",
              "                    async function getVisitorId() {\n",
              "                        return import('https://upgini.github.io/upgini/js/a.js')\n",
              "                            .then(FingerprintJS => FingerprintJS.load())\n",
              "                            .then(fp => fp.get())\n",
              "                            .then(result => result.visitorId);\n",
              "                    }\n",
              "                    "
            ]
          },
          "metadata": {}
        },
        {
          "output_type": "display_data",
          "data": {
            "text/plain": [
              "<IPython.core.display.Javascript object>"
            ],
            "application/javascript": [
              "\n",
              "                    async function getVisitorId() {\n",
              "                        return import('https://upgini.github.io/upgini/js/a.js')\n",
              "                            .then(FingerprintJS => FingerprintJS.load())\n",
              "                            .then(fp => fp.get())\n",
              "                            .then(result => result.visitorId);\n",
              "                    }\n",
              "                    "
            ]
          },
          "metadata": {}
        },
        {
          "output_type": "display_data",
          "data": {
            "text/plain": [
              "<IPython.core.display.Javascript object>"
            ],
            "application/javascript": [
              "\n",
              "                    async function getVisitorId() {\n",
              "                        return import('https://upgini.github.io/upgini/js/a.js')\n",
              "                            .then(FingerprintJS => FingerprintJS.load())\n",
              "                            .then(fp => fp.get())\n",
              "                            .then(result => result.visitorId);\n",
              "                    }\n",
              "                    "
            ]
          },
          "metadata": {}
        },
        {
          "output_type": "stream",
          "name": "stdout",
          "text": [
            "\n",
            "Detected task type: ModelTaskType.REGRESSION\n",
            "\n"
          ]
        },
        {
          "output_type": "display_data",
          "data": {
            "text/plain": [
              "<IPython.core.display.Javascript object>"
            ],
            "application/javascript": [
              "\n",
              "                    async function getVisitorId() {\n",
              "                        return import('https://upgini.github.io/upgini/js/a.js')\n",
              "                            .then(FingerprintJS => FingerprintJS.load())\n",
              "                            .then(fp => fp.get())\n",
              "                            .then(result => result.visitorId);\n",
              "                    }\n",
              "                    "
            ]
          },
          "metadata": {}
        },
        {
          "output_type": "display_data",
          "data": {
            "text/plain": [
              "<IPython.core.display.Javascript object>"
            ],
            "application/javascript": [
              "\n",
              "                    async function getVisitorId() {\n",
              "                        return import('https://upgini.github.io/upgini/js/a.js')\n",
              "                            .then(FingerprintJS => FingerprintJS.load())\n",
              "                            .then(fp => fp.get())\n",
              "                            .then(result => result.visitorId);\n",
              "                    }\n",
              "                    "
            ]
          },
          "metadata": {}
        },
        {
          "output_type": "display_data",
          "data": {
            "text/plain": [
              "<IPython.core.display.Javascript object>"
            ],
            "application/javascript": [
              "\n",
              "                    async function getVisitorId() {\n",
              "                        return import('https://upgini.github.io/upgini/js/a.js')\n",
              "                            .then(FingerprintJS => FingerprintJS.load())\n",
              "                            .then(fp => fp.get())\n",
              "                            .then(result => result.visitorId);\n",
              "                    }\n",
              "                    "
            ]
          },
          "metadata": {}
        },
        {
          "output_type": "display_data",
          "data": {
            "text/plain": [
              "<IPython.core.display.Javascript object>"
            ],
            "application/javascript": [
              "\n",
              "                    async function getVisitorId() {\n",
              "                        return import('https://upgini.github.io/upgini/js/a.js')\n",
              "                            .then(FingerprintJS => FingerprintJS.load())\n",
              "                            .then(fp => fp.get())\n",
              "                            .then(result => result.visitorId);\n",
              "                    }\n",
              "                    "
            ]
          },
          "metadata": {}
        },
        {
          "output_type": "display_data",
          "data": {
            "text/plain": [
              "<IPython.core.display.Javascript object>"
            ],
            "application/javascript": [
              "\n",
              "                    async function getVisitorId() {\n",
              "                        return import('https://upgini.github.io/upgini/js/a.js')\n",
              "                            .then(FingerprintJS => FingerprintJS.load())\n",
              "                            .then(fp => fp.get())\n",
              "                            .then(result => result.visitorId);\n",
              "                    }\n",
              "                    "
            ]
          },
          "metadata": {}
        },
        {
          "output_type": "display_data",
          "data": {
            "text/plain": [
              "<IPython.core.display.Javascript object>"
            ],
            "application/javascript": [
              "\n",
              "                        async function getIP() {\n",
              "                            return fetch(\"https://api64.ipify.org\")\n",
              "                                .then(response => response.text())\n",
              "                                .then(data => data);\n",
              "                        }\n",
              "                        "
            ]
          },
          "metadata": {}
        },
        {
          "output_type": "stream",
          "name": "stdout",
          "text": [
            "\n"
          ]
        },
        {
          "output_type": "display_data",
          "data": {
            "text/plain": [
              "<IPython.core.display.HTML object>"
            ],
            "text/html": [
              "<table><tr><th style='font-weight:bold'>Column name</th><th style='font-weight:bold'>Status</th><th style='font-weight:bold'>Errors</th></tr><tr><td>date</td><td style='background-color:#DAF7A6;color:black'>All valid</td><td>-</td></tr><tr><td>target</td><td style='background-color:#DAF7A6;color:black'>All valid</td><td>-</td></tr></table>"
            ]
          },
          "metadata": {}
        },
        {
          "output_type": "display_data",
          "data": {
            "text/plain": [
              "<IPython.core.display.Javascript object>"
            ],
            "application/javascript": [
              "\n",
              "                    async function getVisitorId() {\n",
              "                        return import('https://upgini.github.io/upgini/js/a.js')\n",
              "                            .then(FingerprintJS => FingerprintJS.load())\n",
              "                            .then(fp => fp.get())\n",
              "                            .then(result => result.visitorId);\n",
              "                    }\n",
              "                    "
            ]
          },
          "metadata": {}
        },
        {
          "output_type": "display_data",
          "data": {
            "text/plain": [
              "<IPython.core.display.Javascript object>"
            ],
            "application/javascript": [
              "\n",
              "                    async function getVisitorId() {\n",
              "                        return import('https://upgini.github.io/upgini/js/a.js')\n",
              "                            .then(FingerprintJS => FingerprintJS.load())\n",
              "                            .then(fp => fp.get())\n",
              "                            .then(result => result.visitorId);\n",
              "                    }\n",
              "                    "
            ]
          },
          "metadata": {}
        },
        {
          "output_type": "display_data",
          "data": {
            "text/plain": [
              "<IPython.core.display.Javascript object>"
            ],
            "application/javascript": [
              "\n",
              "                        async function getIP() {\n",
              "                            return fetch(\"https://api64.ipify.org\")\n",
              "                                .then(response => response.text())\n",
              "                                .then(data => data);\n",
              "                        }\n",
              "                        "
            ]
          },
          "metadata": {}
        },
        {
          "output_type": "display_data",
          "data": {
            "text/plain": [
              "<IPython.core.display.Javascript object>"
            ],
            "application/javascript": [
              "\n",
              "                        async function getIP() {\n",
              "                            return fetch(\"https://api64.ipify.org\")\n",
              "                                .then(response => response.text())\n",
              "                                .then(data => data);\n",
              "                        }\n",
              "                        "
            ]
          },
          "metadata": {}
        },
        {
          "output_type": "display_data",
          "data": {
            "text/plain": [
              "<IPython.core.display.Javascript object>"
            ],
            "application/javascript": [
              "\n",
              "                        async function getIP() {\n",
              "                            return fetch(\"https://api64.ipify.org\")\n",
              "                                .then(response => response.text())\n",
              "                                .then(data => data);\n",
              "                        }\n",
              "                        "
            ]
          },
          "metadata": {}
        },
        {
          "output_type": "display_data",
          "data": {
            "text/plain": [
              "<IPython.core.display.Javascript object>"
            ],
            "application/javascript": [
              "\n",
              "                        async function getIP() {\n",
              "                            return fetch(\"https://api64.ipify.org\")\n",
              "                                .then(response => response.text())\n",
              "                                .then(data => data);\n",
              "                        }\n",
              "                        "
            ]
          },
          "metadata": {}
        },
        {
          "output_type": "display_data",
          "data": {
            "text/plain": [
              "<IPython.core.display.Javascript object>"
            ],
            "application/javascript": [
              "\n",
              "                        async function getIP() {\n",
              "                            return fetch(\"https://api64.ipify.org\")\n",
              "                                .then(response => response.text())\n",
              "                                .then(data => data);\n",
              "                        }\n",
              "                        "
            ]
          },
          "metadata": {}
        },
        {
          "output_type": "display_data",
          "data": {
            "text/plain": [
              "<IPython.core.display.Javascript object>"
            ],
            "application/javascript": [
              "\n",
              "                        async function getIP() {\n",
              "                            return fetch(\"https://api64.ipify.org\")\n",
              "                                .then(response => response.text())\n",
              "                                .then(data => data);\n",
              "                        }\n",
              "                        "
            ]
          },
          "metadata": {}
        },
        {
          "output_type": "display_data",
          "data": {
            "text/plain": [
              "<IPython.core.display.Javascript object>"
            ],
            "application/javascript": [
              "\n",
              "                        async function getIP() {\n",
              "                            return fetch(\"https://api64.ipify.org\")\n",
              "                                .then(response => response.text())\n",
              "                                .then(data => data);\n",
              "                        }\n",
              "                        "
            ]
          },
          "metadata": {}
        },
        {
          "output_type": "display_data",
          "data": {
            "text/plain": [
              "<IPython.core.display.Javascript object>"
            ],
            "application/javascript": [
              "\n",
              "                        async function getIP() {\n",
              "                            return fetch(\"https://api64.ipify.org\")\n",
              "                                .then(response => response.text())\n",
              "                                .then(data => data);\n",
              "                        }\n",
              "                        "
            ]
          },
          "metadata": {}
        },
        {
          "output_type": "display_data",
          "data": {
            "text/plain": [
              "<IPython.core.display.Javascript object>"
            ],
            "application/javascript": [
              "\n",
              "                        async function getIP() {\n",
              "                            return fetch(\"https://api64.ipify.org\")\n",
              "                                .then(response => response.text())\n",
              "                                .then(data => data);\n",
              "                        }\n",
              "                        "
            ]
          },
          "metadata": {}
        },
        {
          "output_type": "display_data",
          "data": {
            "text/plain": [
              "<IPython.core.display.Javascript object>"
            ],
            "application/javascript": [
              "\n",
              "                        async function getIP() {\n",
              "                            return fetch(\"https://api64.ipify.org\")\n",
              "                                .then(response => response.text())\n",
              "                                .then(data => data);\n",
              "                        }\n",
              "                        "
            ]
          },
          "metadata": {}
        },
        {
          "output_type": "display_data",
          "data": {
            "text/plain": [
              "<IPython.core.display.Javascript object>"
            ],
            "application/javascript": [
              "\n",
              "                        async function getIP() {\n",
              "                            return fetch(\"https://api64.ipify.org\")\n",
              "                                .then(response => response.text())\n",
              "                                .then(data => data);\n",
              "                        }\n",
              "                        "
            ]
          },
          "metadata": {}
        },
        {
          "output_type": "display_data",
          "data": {
            "text/plain": [
              "<IPython.core.display.Javascript object>"
            ],
            "application/javascript": [
              "\n",
              "                        async function getIP() {\n",
              "                            return fetch(\"https://api64.ipify.org\")\n",
              "                                .then(response => response.text())\n",
              "                                .then(data => data);\n",
              "                        }\n",
              "                        "
            ]
          },
          "metadata": {}
        },
        {
          "output_type": "display_data",
          "data": {
            "text/plain": [
              "<IPython.core.display.Javascript object>"
            ],
            "application/javascript": [
              "\n",
              "                        async function getIP() {\n",
              "                            return fetch(\"https://api64.ipify.org\")\n",
              "                                .then(response => response.text())\n",
              "                                .then(data => data);\n",
              "                        }\n",
              "                        "
            ]
          },
          "metadata": {}
        },
        {
          "output_type": "display_data",
          "data": {
            "text/plain": [
              "<IPython.core.display.Javascript object>"
            ],
            "application/javascript": [
              "\n",
              "                        async function getIP() {\n",
              "                            return fetch(\"https://api64.ipify.org\")\n",
              "                                .then(response => response.text())\n",
              "                                .then(data => data);\n",
              "                        }\n",
              "                        "
            ]
          },
          "metadata": {}
        },
        {
          "output_type": "display_data",
          "data": {
            "text/plain": [
              "<IPython.core.display.Javascript object>"
            ],
            "application/javascript": [
              "\n",
              "                        async function getIP() {\n",
              "                            return fetch(\"https://api64.ipify.org\")\n",
              "                                .then(response => response.text())\n",
              "                                .then(data => data);\n",
              "                        }\n",
              "                        "
            ]
          },
          "metadata": {}
        },
        {
          "output_type": "display_data",
          "data": {
            "text/plain": [
              "<IPython.core.display.Javascript object>"
            ],
            "application/javascript": [
              "\n",
              "                        async function getIP() {\n",
              "                            return fetch(\"https://api64.ipify.org\")\n",
              "                                .then(response => response.text())\n",
              "                                .then(data => data);\n",
              "                        }\n",
              "                        "
            ]
          },
          "metadata": {}
        },
        {
          "output_type": "display_data",
          "data": {
            "text/plain": [
              "<IPython.core.display.Javascript object>"
            ],
            "application/javascript": [
              "\n",
              "                        async function getIP() {\n",
              "                            return fetch(\"https://api64.ipify.org\")\n",
              "                                .then(response => response.text())\n",
              "                                .then(data => data);\n",
              "                        }\n",
              "                        "
            ]
          },
          "metadata": {}
        },
        {
          "output_type": "stream",
          "name": "stdout",
          "text": [
            "\n",
            "Running search request, search_id=e0d4b0dc-b7fc-451c-b23e-85edc38f85c8\n",
            "We'll send email notification once it's completed, just use your personal api_key from profile.upgini.com\n",
            "\n",
            "\u001b[92m\u001b[1m\n",
            "64 relevant feature(s) found with the search keys: ['date_0e8763']\u001b[0m\n"
          ]
        },
        {
          "output_type": "display_data",
          "data": {
            "text/plain": [
              "<IPython.core.display.HTML object>"
            ],
            "text/html": [
              "<style>\n",
              "            .upgini-df thead th {\n",
              "                font-weight:bold;\n",
              "                text-align: center;\n",
              "                padding: 0.5em;\n",
              "                border-bottom: 2px solid black;\n",
              "            }\n",
              "\n",
              "            .upgini-df tbody td {\n",
              "                padding: 0.5em;\n",
              "            }\n",
              "\n",
              "            .upgini-df tbody tr:nth-child(odd) {\n",
              "                background-color: #ffffff;\n",
              "            }\n",
              "\n",
              "            .upgini-df tbody tr:nth-child(even) {\n",
              "                background-color: #f2f2f2;\n",
              "            }\n",
              "\n",
              "            .upgini-text {\n",
              "                text-align: left;\n",
              "            }\n",
              "\n",
              "            .upgini-number {\n",
              "                text-align: center;\n",
              "            }\n",
              "        </style>\n",
              "        <h2>Relevant features</h2>\n",
              "        <div style=\"display:flex; flex-direction:column; align-items:flex-end; width: fit-content;\">\n",
              "            \n",
              "            <div style=\"text-align: right\">\n",
              "                <button onclick=navigator.clipboard.writeText(decodeURI('Feature%20name%09SHAP%20value%09Coverage%20%25%09Value%20preview%09Provider%09Source%09Updates%0Af_weather_date_weather_umap_34_c3ef5b4f%090.0274%09100.0%094.9432,%204.9067,%205.0762%09Upgini%09Weather%20%26%20climate%20normals%20data%09Daily%0Af_autofe_div_89c56a5f%090.0238%09100.0%090.8501,%20-0.3749,%20-0.585%09Upgini%09AutoFE%3A%20features%20from%20%3Ca%20href%3D%27https%3A%2F%2Fupgini.com%2F%23data_sources%27%20target%3D%27_blank%27%20rel%3D%27noopener%20noreferrer%27%3ECalendar%20data%3C%2Fa%3E,%3Ca%20href%3D%27https%3A%2F%2Fupgini.com%2F%23data_sources%27%20target%3D%27_blank%27%20rel%3D%27noopener%20noreferrer%27%3EMarkets%20data%3C%2Fa%3E%09Daily%0Af_autofe_div_0a5adf97%090.0235%09100.0%09-0.1424,%20-0.2353,%20-0.2248%09Upgini%09AutoFE%3A%20features%20from%20%3Ca%20href%3D%27https%3A%2F%2Fupgini.com%2F%23data_sources%27%20target%3D%27_blank%27%20rel%3D%27noopener%20noreferrer%27%3ECalendar%20data%3C%2Fa%3E,%3Ca%20href%3D%27https%3A%2F%2Fupgini.com%2F%23data_sources%27%20target%3D%27_blank%27%20rel%3D%27noopener%20noreferrer%27%3EMarkets%20data%3C%2Fa%3E%09Daily%0Af_weather_date_weather_umap_48_b39cd0c4%090.0153%09100.0%095.6819,%204.5362,%205.2842%09Upgini%09Weather%20%26%20climate%20normals%20data%09Daily%0Af_weather_date_weather_pca_0_d7e0a1fc%090.0147%09100.0%092.9131,%20-2.1671,%20-2.6741%09Upgini%09Weather%20%26%20climate%20normals%20data%09Daily%0Af_autofe_div_270392eb%090.0141%09100.0%092.0145,%20-0.5468,%20-0.7124%09Upgini%09AutoFE%3A%20features%20from%20%3Ca%20href%3D%27https%3A%2F%2Fupgini.com%2F%23data_sources%27%20target%3D%27_blank%27%20rel%3D%27noopener%20noreferrer%27%3ECalendar%20data%3C%2Fa%3E,%3Ca%20href%3D%27https%3A%2F%2Fupgini.com%2F%23data_sources%27%20target%3D%27_blank%27%20rel%3D%27noopener%20noreferrer%27%3EMarkets%20data%3C%2Fa%3E%09Daily%0Af_autofe_div_a152c923%090.0137%09100.0%090.0001,%20-0.0003,%20-0.0025%09Upgini%09AutoFE%3A%20features%20from%20%3Ca%20href%3D%27https%3A%2F%2Fupgini.com%2F%23data_sources%27%20target%3D%27_blank%27%20rel%3D%27noopener%20noreferrer%27%3ECalendar%20data%3C%2Fa%3E,%3Ca%20href%3D%27https%3A%2F%2Fupgini.com%2F%23data_sources%27%20target%3D%27_blank%27%20rel%3D%27noopener%20noreferrer%27%3EMarkets%20data%3C%2Fa%3E%09Daily%0Af_autofe_mul_af6d166b%090.0134%09100.0%09-0.2295,%20-0.1712,%200.5921%09Upgini%09AutoFE%3A%20features%20from%20%3Ca%20href%3D%27https%3A%2F%2Fupgini.com%2F%23data_sources%27%20target%3D%27_blank%27%20rel%3D%27noopener%20noreferrer%27%3ECalendar%20data%3C%2Fa%3E,%3Ca%20href%3D%27https%3A%2F%2Fupgini.com%2F%23data_sources%27%20target%3D%27_blank%27%20rel%3D%27noopener%20noreferrer%27%3EMarkets%20data%3C%2Fa%3E%09Daily%0Af_weather_date_weather_umap_33_89bb7578%090.012%09100.0%094.607,%205.3201,%204.9672%09Upgini%09Weather%20%26%20climate%20normals%20data%09Daily%0Af_weather_date_weather_umap_31_fa6d9a99%090.0116%09100.0%095.0517,%204.8758,%205.0517%09Upgini%09Weather%20%26%20climate%20normals%20data%09Daily%0Af_autofe_mul_200a930f%090.0098%09100.0%090.5591,%200.8278,%20-0.9023%09Upgini%09AutoFE%3A%20features%20from%20%3Ca%20href%3D%27https%3A%2F%2Fupgini.com%2F%23data_sources%27%20target%3D%27_blank%27%20rel%3D%27noopener%20noreferrer%27%3ECalendar%20data%3C%2Fa%3E,%3Ca%20href%3D%27https%3A%2F%2Fupgini.com%2F%23data_sources%27%20target%3D%27_blank%27%20rel%3D%27noopener%20noreferrer%27%3EMarkets%20data%3C%2Fa%3E%09Daily%0Af_autofe_mul_0cc09d2d%090.009%09100.0%09-50.4031,%20-47.9164,%2014.3772%09Upgini%09AutoFE%3A%20features%20from%20%3Ca%20href%3D%27https%3A%2F%2Fupgini.com%2F%23data_sources%27%20target%3D%27_blank%27%20rel%3D%27noopener%20noreferrer%27%3ECalendar%20data%3C%2Fa%3E,%3Ca%20href%3D%27https%3A%2F%2Fupgini.com%2F%23data_sources%27%20target%3D%27_blank%27%20rel%3D%27noopener%20noreferrer%27%3EMarkets%20data%3C%2Fa%3E%09Daily%0Af_weather_date_weather_umap_35_5ddaa0ba%090.0075%09100.0%095.0889,%204.7445,%205.1876%09Upgini%09Weather%20%26%20climate%20normals%20data%09Daily%0Af_autofe_div_34622286%090.0064%09100.0%090.7255,%20-0.3961,%200.7457%09Upgini%09AutoFE%3A%20features%20from%20%3Ca%20href%3D%27https%3A%2F%2Fupgini.com%2F%23data_sources%27%20target%3D%27_blank%27%20rel%3D%27noopener%20noreferrer%27%3ECalendar%20data%3C%2Fa%3E,%3Ca%20href%3D%27https%3A%2F%2Fupgini.com%2F%23data_sources%27%20target%3D%27_blank%27%20rel%3D%27noopener%20noreferrer%27%3EMarkets%20data%3C%2Fa%3E%09Daily%0Af_autofe_div_3e22df83%090.0059%09100.0%09-0.0095,%20-0.0201,%20-0.0161%09Upgini%09AutoFE%3A%20features%20from%20%3Ca%20href%3D%27https%3A%2F%2Fupgini.com%2F%23data_sources%27%20target%3D%27_blank%27%20rel%3D%27noopener%20noreferrer%27%3ECalendar%20data%3C%2Fa%3E,%3Ca%20href%3D%27https%3A%2F%2Fupgini.com%2F%23data_sources%27%20target%3D%27_blank%27%20rel%3D%27noopener%20noreferrer%27%3EMarkets%20data%3C%2Fa%3E%09Daily%0Af_autofe_mul_0b4c09c3%090.0057%09100.0%09-0.9229,%20-0.4103,%200.4507%09Upgini%09AutoFE%3A%20features%20from%20%3Ca%20href%3D%27https%3A%2F%2Fupgini.com%2F%23data_sources%27%20target%3D%27_blank%27%20rel%3D%27noopener%20noreferrer%27%3ECalendar%20data%3C%2Fa%3E,%3Ca%20href%3D%27https%3A%2F%2Fupgini.com%2F%23data_sources%27%20target%3D%27_blank%27%20rel%3D%27noopener%20noreferrer%27%3EMarkets%20data%3C%2Fa%3E%09Daily%0Af_autofe_div_48404110%090.0057%0985.53490708186841%09-2.2929,%20-0.317,%20-1.8019%09Upgini%09AutoFE%3A%20features%20from%20%3Ca%20href%3D%27https%3A%2F%2Fupgini.com%2F%23data_sources%27%20target%3D%27_blank%27%20rel%3D%27noopener%20noreferrer%27%3ECalendar%20data%3C%2Fa%3E%09Daily%0Af_autofe_mul_08e89348%090.0054%09100.0%09-44.5097,%2041.9696,%20-75.0793%09Upgini%09AutoFE%3A%20features%20from%20%3Ca%20href%3D%27https%3A%2F%2Fupgini.com%2F%23data_sources%27%20target%3D%27_blank%27%20rel%3D%27noopener%20noreferrer%27%3ECalendar%20data%3C%2Fa%3E,%3Ca%20href%3D%27https%3A%2F%2Fupgini.com%2F%23data_sources%27%20target%3D%27_blank%27%20rel%3D%27noopener%20noreferrer%27%3EMarkets%20data%3C%2Fa%3E%09Daily%0Af_events_date_year_cos1_9014a856%090.0054%09100.0%09-0.6584,%200.5982,%20-0.0429%09Upgini%09Calendar%20data%09Daily%0Af_autofe_mul_6a97c336%090.0039%09100.0%090.4841,%200.9003,%20-0.8627%09Upgini%09AutoFE%3A%20features%20from%20%3Ca%20href%3D%27https%3A%2F%2Fupgini.com%2F%23data_sources%27%20target%3D%27_blank%27%20rel%3D%27noopener%20noreferrer%27%3ECalendar%20data%3C%2Fa%3E,%3Ca%20href%3D%27https%3A%2F%2Fupgini.com%2F%23data_sources%27%20target%3D%27_blank%27%20rel%3D%27noopener%20noreferrer%27%3EMarkets%20data%3C%2Fa%3E%09Daily%0Af_autofe_div_b97cf188%090.0038%0985.53490708186841%090.2846,%200.9241,%200.9241%09Upgini%09AutoFE%3A%20features%20from%20%3Ca%20href%3D%27https%3A%2F%2Fupgini.com%2F%23data_sources%27%20target%3D%27_blank%27%20rel%3D%27noopener%20noreferrer%27%3ECalendar%20data%3C%2Fa%3E%09Daily%0Af_autofe_mul_9198eeb1%090.0038%09100.0%09-7352.5591,%2017617.3377,%20-13218...%09Upgini%09AutoFE%3A%20features%20from%20%3Ca%20href%3D%27https%3A%2F%2Fupgini.com%2F%23data_sources%27%20target%3D%27_blank%27%20rel%3D%27noopener%20noreferrer%27%3ECalendar%20data%3C%2Fa%3E,%3Ca%20href%3D%27https%3A%2F%2Fupgini.com%2F%23data_sources%27%20target%3D%27_blank%27%20rel%3D%27noopener%20noreferrer%27%3EMarkets%20data%3C%2Fa%3E%09Daily%0Af_weather_date_weather_umap_5_88023931%090.0033%09100.0%096.0726,%204.8316,%204.2352%09Upgini%09Weather%20%26%20climate%20normals%20data%09Daily%0Af_autofe_div_6ba612bf%090.0031%0967.00150678051232%0993.6597,%20483.6844,%20463.1264%09Upgini%09AutoFE%3A%20features%20from%20%3Ca%20href%3D%27https%3A%2F%2Fupgini.com%2F%23data_sources%27%20target%3D%27_blank%27%20rel%3D%27noopener%20noreferrer%27%3EMarkets%20data%3C%2Fa%3E%09Daily%0Af_autofe_div_1ce27d18%090.0028%09100.0%090.4078,%20-0.8298,%200.3842%09Upgini%09AutoFE%3A%20features%20from%20%3Ca%20href%3D%27https%3A%2F%2Fupgini.com%2F%23data_sources%27%20target%3D%27_blank%27%20rel%3D%27noopener%20noreferrer%27%3ECalendar%20data%3C%2Fa%3E,%3Ca%20href%3D%27https%3A%2F%2Fupgini.com%2F%23data_sources%27%20target%3D%27_blank%27%20rel%3D%27noopener%20noreferrer%27%3EMarkets%20data%3C%2Fa%3E%09Daily%0Af_autofe_mul_c256dd85%090.0023%09100.0%090.5856,%20-0.8958,%200.0%09Upgini%09AutoFE%3A%20features%20from%20%3Ca%20href%3D%27https%3A%2F%2Fupgini.com%2F%23data_sources%27%20target%3D%27_blank%27%20rel%3D%27noopener%20noreferrer%27%3ECalendar%20data%3C%2Fa%3E,%3Ca%20href%3D%27https%3A%2F%2Fupgini.com%2F%23data_sources%27%20target%3D%27_blank%27%20rel%3D%27noopener%20noreferrer%27%3EMarkets%20data%3C%2Fa%3E%09Daily%0Af_autofe_div_c8eca710%090.0021%0985.53490708186841%09-0.7434,%201.2774,%20-0.2575%09Upgini%09AutoFE%3A%20features%20from%20%3Ca%20href%3D%27https%3A%2F%2Fupgini.com%2F%23data_sources%27%20target%3D%27_blank%27%20rel%3D%27noopener%20noreferrer%27%3ECalendar%20data%3C%2Fa%3E%09Daily%0Af_weather_date_weather_umap_25_ed89a1ce%090.0018%09100.0%094.8941,%205.297,%205.1075%09Upgini%09Weather%20%26%20climate%20normals%20data%09Daily%0Af_autofe_div_37ebefcc%090.0018%09100.0%09311.991,%20367.1272,%20359.5135%09Upgini%09AutoFE%3A%20features%20from%20%3Ca%20href%3D%27https%3A%2F%2Fupgini.com%2F%23data_sources%27%20target%3D%27_blank%27%20rel%3D%27noopener%20noreferrer%27%3EMarkets%20data%3C%2Fa%3E%09Daily%0Af_autofe_mul_1d855285%090.0018%09100.0%090.5456,%20-0.4541,%200.5469%09Upgini%09AutoFE%3A%20features%20from%20%3Ca%20href%3D%27https%3A%2F%2Fupgini.com%2F%23data_sources%27%20target%3D%27_blank%27%20rel%3D%27noopener%20noreferrer%27%3ECalendar%20data%3C%2Fa%3E%09Daily%0Af_autofe_mul_d74de64a%090.0016%09100.0%09-0.8653,%200.1023,%20-0.0658%09Upgini%09AutoFE%3A%20features%20from%20%3Ca%20href%3D%27https%3A%2F%2Fupgini.com%2F%23data_sources%27%20target%3D%27_blank%27%20rel%3D%27noopener%20noreferrer%27%3ECalendar%20data%3C%2Fa%3E%09Daily%0Af_autofe_div_67fcefc3%090.0015%0985.53490708186841%09-0.8298,%20-0.2409,%200.2282%09Upgini%09AutoFE%3A%20features%20from%20%3Ca%20href%3D%27https%3A%2F%2Fupgini.com%2F%23data_sources%27%20target%3D%27_blank%27%20rel%3D%27noopener%20noreferrer%27%3ECalendar%20data%3C%2Fa%3E%09Daily%0Af_weather_date_weather_umap_42_4ac1a34c%090.0014%09100.0%095.3486,%205.2765,%205.4243%09Upgini%09Weather%20%26%20climate%20normals%20data%09Daily%0Af_weather_date_weather_umap_6_8de4f955%090.0013%09100.0%097.9718,%207.9552,%203.4097%09Upgini%09Weather%20%26%20climate%20normals%20data%09Daily%0Af_weather_date_weather_umap_22_0342ee9e%090.0013%09100.0%094.7883,%205.3693,%204.2308%09Upgini%09Weather%20%26%20climate%20normals%20data%09Daily%0Af_autofe_mul_0afc7563%090.0012%09100.0%090.0168,%20-0.2505,%20-0.3488%09Upgini%09AutoFE%3A%20features%20from%20%3Ca%20href%3D%27https%3A%2F%2Fupgini.com%2F%23data_sources%27%20target%3D%27_blank%27%20rel%3D%27noopener%20noreferrer%27%3ECalendar%20data%3C%2Fa%3E%09Daily%0Af_autofe_div_93ec22ef%090.0012%09100.0%091.4178,%200.8932,%20-2.7607%09Upgini%09AutoFE%3A%20features%20from%20%3Ca%20href%3D%27https%3A%2F%2Fupgini.com%2F%23data_sources%27%20target%3D%27_blank%27%20rel%3D%27noopener%20noreferrer%27%3ECalendar%20data%3C%2Fa%3E%09Daily%0Af_autofe_div_f4e9d200%090.0012%09100.0%091.188,%200.3644,%20-0.0175%09Upgini%09AutoFE%3A%20features%20from%20%3Ca%20href%3D%27https%3A%2F%2Fupgini.com%2F%23data_sources%27%20target%3D%27_blank%27%20rel%3D%27noopener%20noreferrer%27%3ECalendar%20data%3C%2Fa%3E%09Daily%0Af_autofe_mul_170d2263%090.0011%09100.0%090.573,%200.2479,%20-0.4126%09Upgini%09AutoFE%3A%20features%20from%20%3Ca%20href%3D%27https%3A%2F%2Fupgini.com%2F%23data_sources%27%20target%3D%27_blank%27%20rel%3D%27noopener%20noreferrer%27%3ECalendar%20data%3C%2Fa%3E%09Daily%0Af_autofe_mul_b2bfad41%090.0009%09100.0%090.5239,%200.8391,%200.535%09Upgini%09AutoFE%3A%20features%20from%20%3Ca%20href%3D%27https%3A%2F%2Fupgini.com%2F%23data_sources%27%20target%3D%27_blank%27%20rel%3D%27noopener%20noreferrer%27%3ECalendar%20data%3C%2Fa%3E,%3Ca%20href%3D%27https%3A%2F%2Fupgini.com%2F%23data_sources%27%20target%3D%27_blank%27%20rel%3D%27noopener%20noreferrer%27%3EMarkets%20data%3C%2Fa%3E%09Daily%0Af_autofe_div_2fe3f746%090.0008%0985.53490708186841%09-1.279,%200.7518,%201.3547%09Upgini%09AutoFE%3A%20features%20from%20%3Ca%20href%3D%27https%3A%2F%2Fupgini.com%2F%23data_sources%27%20target%3D%27_blank%27%20rel%3D%27noopener%20noreferrer%27%3ECalendar%20data%3C%2Fa%3E%09Daily%0Af_autofe_div_3793ee8b%090.0008%09100.0%090.1938,%20-1.0853,%200.802%09Upgini%09AutoFE%3A%20features%20from%20%3Ca%20href%3D%27https%3A%2F%2Fupgini.com%2F%23data_sources%27%20target%3D%27_blank%27%20rel%3D%27noopener%20noreferrer%27%3ECalendar%20data%3C%2Fa%3E,%3Ca%20href%3D%27https%3A%2F%2Fupgini.com%2F%23data_sources%27%20target%3D%27_blank%27%20rel%3D%27noopener%20noreferrer%27%3EMarkets%20data%3C%2Fa%3E%09Daily%0Af_autofe_div_35f320cb%090.0007%09100.0%09-0.2487,%20-0.2069,%200.5345%09Upgini%09AutoFE%3A%20features%20from%20%3Ca%20href%3D%27https%3A%2F%2Fupgini.com%2F%23data_sources%27%20target%3D%27_blank%27%20rel%3D%27noopener%20noreferrer%27%3ECalendar%20data%3C%2Fa%3E,%3Ca%20href%3D%27https%3A%2F%2Fupgini.com%2F%23data_sources%27%20target%3D%27_blank%27%20rel%3D%27noopener%20noreferrer%27%3EMarkets%20data%3C%2Fa%3E%09Daily%0Af_autofe_div_fdbe02b3%090.0006%0968.25715720743345%095.9594,%201.6193,%203.7789%09Upgini%09AutoFE%3A%20features%20from%20%3Ca%20href%3D%27https%3A%2F%2Fupgini.com%2F%23data_sources%27%20target%3D%27_blank%27%20rel%3D%27noopener%20noreferrer%27%3ECalendar%20data%3C%2Fa%3E,%3Ca%20href%3D%27https%3A%2F%2Fupgini.com%2F%23data_sources%27%20target%3D%27_blank%27%20rel%3D%27noopener%20noreferrer%27%3EMarkets%20data%3C%2Fa%3E%09Daily%0Af_weather_date_weather_umap_29_e860dd51%090.0006%09100.0%095.3006,%205.206,%205.1681%09Upgini%09Weather%20%26%20climate%20normals%20data%09Daily%0Af_autofe_mul_85c324be%090.0006%09100.0%09-0.0448,%200.5509,%200.2459%09Upgini%09AutoFE%3A%20features%20from%20%3Ca%20href%3D%27https%3A%2F%2Fupgini.com%2F%23data_sources%27%20target%3D%27_blank%27%20rel%3D%27noopener%20noreferrer%27%3ECalendar%20data%3C%2Fa%3E%09Daily%0Af_autofe_div_246b0e42%090.0006%09100.0%090.0048,%200.0034,%200.0023%09Upgini%09AutoFE%3A%20features%20from%20%3Ca%20href%3D%27https%3A%2F%2Fupgini.com%2F%23data_sources%27%20target%3D%27_blank%27%20rel%3D%27noopener%20noreferrer%27%3EMarkets%20data%3C%2Fa%3E%09Daily%0Af_autofe_div_ab7c3e47%090.0006%09100.0%090.7337,%20-0.76,%200.8776%09Upgini%09AutoFE%3A%20features%20from%20%3Ca%20href%3D%27https%3A%2F%2Fupgini.com%2F%23data_sources%27%20target%3D%27_blank%27%20rel%3D%27noopener%20noreferrer%27%3ECalendar%20data%3C%2Fa%3E,%3Ca%20href%3D%27https%3A%2F%2Fupgini.com%2F%23data_sources%27%20target%3D%27_blank%27%20rel%3D%27noopener%20noreferrer%27%3EMarkets%20data%3C%2Fa%3E%09Daily%0Af_autofe_mul_f4d2dd32%090.0005%09100.0%09-0.3597,%200.1705,%20-0.8762%09Upgini%09AutoFE%3A%20features%20from%20%3Ca%20href%3D%27https%3A%2F%2Fupgini.com%2F%23data_sources%27%20target%3D%27_blank%27%20rel%3D%27noopener%20noreferrer%27%3ECalendar%20data%3C%2Fa%3E%09Daily%0Af_autofe_div_1d266053%090.0005%09100.0%090.7116,%20-0.1852,%20-0.791%09Upgini%09AutoFE%3A%20features%20from%20%3Ca%20href%3D%27https%3A%2F%2Fupgini.com%2F%23data_sources%27%20target%3D%27_blank%27%20rel%3D%27noopener%20noreferrer%27%3ECalendar%20data%3C%2Fa%3E,%3Ca%20href%3D%27https%3A%2F%2Fupgini.com%2F%23data_sources%27%20target%3D%27_blank%27%20rel%3D%27noopener%20noreferrer%27%3EMarkets%20data%3C%2Fa%3E%09Daily%0Af_autofe_div_cd6f9b78%090.0005%09100.0%090.051,%200.0623,%200.0372%09Upgini%09AutoFE%3A%20features%20from%20%3Ca%20href%3D%27https%3A%2F%2Fupgini.com%2F%23data_sources%27%20target%3D%27_blank%27%20rel%3D%27noopener%20noreferrer%27%3EMarkets%20data%3C%2Fa%3E%09Daily%0Af_autofe_mul_5656cb90%090.0005%09100.0%090.6115,%200.9997,%20-0.216%09Upgini%09AutoFE%3A%20features%20from%20%3Ca%20href%3D%27https%3A%2F%2Fupgini.com%2F%23data_sources%27%20target%3D%27_blank%27%20rel%3D%27noopener%20noreferrer%27%3ECalendar%20data%3C%2Fa%3E,%3Ca%20href%3D%27https%3A%2F%2Fupgini.com%2F%23data_sources%27%20target%3D%27_blank%27%20rel%3D%27noopener%20noreferrer%27%3EMarkets%20data%3C%2Fa%3E%09Daily%0Af_autofe_div_7b1f0c57%090.0005%0968.85986941235561%09-0.0027,%200.0465,%200.0024%09Upgini%09AutoFE%3A%20features%20from%20%3Ca%20href%3D%27https%3A%2F%2Fupgini.com%2F%23data_sources%27%20target%3D%27_blank%27%20rel%3D%27noopener%20noreferrer%27%3ECalendar%20data%3C%2Fa%3E,%3Ca%20href%3D%27https%3A%2F%2Fupgini.com%2F%23data_sources%27%20target%3D%27_blank%27%20rel%3D%27noopener%20noreferrer%27%3EMarkets%20data%3C%2Fa%3E%09Daily%0Af_autofe_mul_66e8dae9%090.0005%09100.0%090.8358,%200.6912,%200.815%09Upgini%09AutoFE%3A%20features%20from%20%3Ca%20href%3D%27https%3A%2F%2Fupgini.com%2F%23data_sources%27%20target%3D%27_blank%27%20rel%3D%27noopener%20noreferrer%27%3ECalendar%20data%3C%2Fa%3E%09Daily%0Af_autofe_div_3d31a06c%090.0004%0985.53490708186841%090.2575,%20-2.192,%20-0.2846%09Upgini%09AutoFE%3A%20features%20from%20%3Ca%20href%3D%27https%3A%2F%2Fupgini.com%2F%23data_sources%27%20target%3D%27_blank%27%20rel%3D%27noopener%20noreferrer%27%3ECalendar%20data%3C%2Fa%3E%09Daily%0Af_autofe_div_d2e29591%090.0004%09100.0%093.5993,%204.3117,%203.7375%09Upgini%09AutoFE%3A%20features%20from%20%3Ca%20href%3D%27https%3A%2F%2Fupgini.com%2F%23data_sources%27%20target%3D%27_blank%27%20rel%3D%27noopener%20noreferrer%27%3EMarkets%20data%3C%2Fa%3E%09Daily%0Af_autofe_div_b192a036%090.0003%0985.53490708186841%090.2659,%200.2575,%20-0.8883%09Upgini%09AutoFE%3A%20features%20from%20%3Ca%20href%3D%27https%3A%2F%2Fupgini.com%2F%23data_sources%27%20target%3D%27_blank%27%20rel%3D%27noopener%20noreferrer%27%3ECalendar%20data%3C%2Fa%3E%09Daily%0Af_autofe_div_02ddabb4%090.0003%09100.0%09-0.2232,%20-0.227,%200.5965%09Upgini%09AutoFE%3A%20features%20from%20%3Ca%20href%3D%27https%3A%2F%2Fupgini.com%2F%23data_sources%27%20target%3D%27_blank%27%20rel%3D%27noopener%20noreferrer%27%3ECalendar%20data%3C%2Fa%3E,%3Ca%20href%3D%27https%3A%2F%2Fupgini.com%2F%23data_sources%27%20target%3D%27_blank%27%20rel%3D%27noopener%20noreferrer%27%3EMarkets%20data%3C%2Fa%3E%09Daily%0Af_autofe_mul_c4bd8f14%090.0003%09100.0%09-0.2334,%20-0.437,%20-0.4138%09Upgini%09AutoFE%3A%20features%20from%20%3Ca%20href%3D%27https%3A%2F%2Fupgini.com%2F%23data_sources%27%20target%3D%27_blank%27%20rel%3D%27noopener%20noreferrer%27%3ECalendar%20data%3C%2Fa%3E%09Daily%0Af_autofe_div_942365dd%090.0002%09100.0%090.0033,%200.0043,%200.0028%09Upgini%09AutoFE%3A%20features%20from%20%3Ca%20href%3D%27https%3A%2F%2Fupgini.com%2F%23data_sources%27%20target%3D%27_blank%27%20rel%3D%27noopener%20noreferrer%27%3EMarkets%20data%3C%2Fa%3E%09Daily%0Af_events_date_week_sin1_847b5db1%090.0001%09100.0%09-0.7818,%200.4339,%200.7818%09Upgini%09Calendar%20data%09Daily%0Af_financial_date_finance_umap_3_67036e7c%090.0001%09100.0%096.4517,%206.6992,%206.0619%09Upgini%09Markets%20data%09Daily%0Af_weather_date_weather_pca_5_29805999%090.0001%09100.0%093.3128,%20-3.8129,%201.8033%09Upgini%09Weather%20%26%20climate%20normals%20data%09Daily%0Af_weather_date_weather_umap_12_d03be9a0%090.0001%09100.0%094.1878,%205.0218,%205.9104%09Upgini%09Weather%20%26%20climate%20normals%20data%09Daily%0A'))>📂 Copy</button>\n",
              "                <a href='mailto:<Share with...>?subject=Relevant external data sources from Upgini.com&body=Feature%20name%09SHAP%20value%09Coverage%20%25%09Value%20preview%09Provider%09Source%09Updates%0Af_weather_date_weather_umap_34_c3ef5b4f%090.0274%09100.0%094.9432,%204.9067,%205.0762%09Upgini%09Weather%20%26%20climate%20normals%20data%09Daily%0Af_autofe_div_89c56a5f%090.0238%09100.0%090.8501,%20-0.3749,%20-0.585%09Upgini%09AutoFE%3A%20features%20from%20%3Ca%20href%3D%27https%3A%2F%2Fupgini.com%2F%23data_sources%27%20target%3D%27_blank%27%20rel%3D%27noopener%20noreferrer%27%3ECalendar%20data%3C%2Fa%3E,%3Ca%20href%3D%27https%3A%2F%2Fupgini.com%2F%23data_sources%27%20target%3D%27_blank%27%20rel%3D%27noopener%20noreferrer%27%3EMarkets%20data%3C%2Fa%3E%09Daily%0Af_autofe_div_0a5adf97%090.0235%09100.0%09-0.1424,%20-0.2353,%20-0.2248%09Upgini%09AutoFE%3A%20features%20from%20%3Ca%20href%3D%27https%3A%2F%2Fupgini.com%2F%23data_sources%27%20target%3D%27_blank%27%20rel%3D%27noopener%20noreferrer%27%3ECalendar%20data%3C%2Fa%3E,%3Ca%20href%3D%27https%3A%2F%2Fupgini.com%2F%23data_sources%27%20target%3D%27_blank%27%20rel%3D%27noopener%20noreferrer%27%3EMarkets%20data%3C%2Fa%3E%09Daily%0Af_weather_date_weather_umap_48_b39cd0c4%090.0153%09100.0%095.6819,%204.5362,%205.2842%09Upgini%09Weather%20%26%20climate%20normals%20data%09Daily%0Af_weather_date_weather_pca_0_d7e0a1fc%090.0147%09100.0%092.9131,%20-2.1671,%20-2.6741%09Upgini%09Weather%20%26%20climate%20normals%20data%09Daily%0Af_autofe_div_270392eb%090.0141%09100.0%092.0145,%20-0.5468,%20-0.7124%09Upgini%09AutoFE%3A%20features%20from%20%3Ca%20href%3D%27https%3A%2F%2Fupgini.com%2F%23data_sources%27%20target%3D%27_blank%27%20rel%3D%27noopener%20noreferrer%27%3ECalendar%20data%3C%2Fa%3E,%3Ca%20href%3D%27https%3A%2F%2Fupgini.com%2F%23data_sources%27%20target%3D%27_blank%27%20rel%3D%27noopener%20noreferrer%27%3EMarkets%20data%3C%2Fa%3E%09Daily%0Af_autofe_div_a152c923%090.0137%09100.0%090.0001,%20-0.0003,%20-0.0025%09Upgini%09AutoFE%3A%20features%20from%20%3Ca%20href%3D%27https%3A%2F%2Fupgini.com%2F%23data_sources%27%20target%3D%27_blank%27%20rel%3D%27noopener%20noreferrer%27%3ECalendar%20data%3C%2Fa%3E,%3Ca%20href%3D%27https%3A%2F%2Fupgini.com%2F%23data_sources%27%20target%3D%27_blank%27%20rel%3D%27noopener%20noreferrer%27%3EMarkets%20data%3C%2Fa%3E%09Daily%0Af_autofe_mul_af6d166b%090.0134%09100.0%09-0.2295,%20-0.1712,%200.5921%09Upgini%09AutoFE%3A%20features%20from%20%3Ca%20href%3D%27https%3A%2F%2Fupgini.com%2F%23data_sources%27%20target%3D%27_blank%27%20rel%3D%27noopener%20noreferrer%27%3ECalendar%20data%3C%2Fa%3E,%3Ca%20href%3D%27https%3A%2F%2Fupgini.com%2F%23data_sources%27%20target%3D%27_blank%27%20rel%3D%27noopener%20noreferrer%27%3EMarkets%20data%3C%2Fa%3E%09Daily%0Af_weather_date_weather_umap_33_89bb7578%090.012%09100.0%094.607,%205.3201,%204.9672%09Upgini%09Weather%20%26%20climate%20normals%20data%09Daily%0Af_weather_date_weather_umap_31_fa6d9a99%090.0116%09100.0%095.0517,%204.8758,%205.0517%09Upgini%09Weather%20%26%20climate%20normals%20data%09Daily%0Af_autofe_mul_200a930f%090.0098%09100.0%090.5591,%200.8278,%20-0.9023%09Upgini%09AutoFE%3A%20features%20from%20%3Ca%20href%3D%27https%3A%2F%2Fupgini.com%2F%23data_sources%27%20target%3D%27_blank%27%20rel%3D%27noopener%20noreferrer%27%3ECalendar%20data%3C%2Fa%3E,%3Ca%20href%3D%27https%3A%2F%2Fupgini.com%2F%23data_sources%27%20target%3D%27_blank%27%20rel%3D%27noopener%20noreferrer%27%3EMarkets%20data%3C%2Fa%3E%09Daily%0Af_autofe_mul_0cc09d2d%090.009%09100.0%09-50.4031,%20-47.9164,%2014.3772%09Upgini%09AutoFE%3A%20features%20from%20%3Ca%20href%3D%27https%3A%2F%2Fupgini.com%2F%23data_sources%27%20target%3D%27_blank%27%20rel%3D%27noopener%20noreferrer%27%3ECalendar%20data%3C%2Fa%3E,%3Ca%20href%3D%27https%3A%2F%2Fupgini.com%2F%23data_sources%27%20target%3D%27_blank%27%20rel%3D%27noopener%20noreferrer%27%3EMarkets%20data%3C%2Fa%3E%09Daily%0Af_weather_date_weather_umap_35_5ddaa0ba%090.0075%09100.0%095.0889,%204.7445,%205.1876%09Upgini%09Weather%20%26%20climate%20normals%20data%09Daily%0Af_autofe_div_34622286%090.0064%09100.0%090.7255,%20-0.3961,%200.7457%09Upgini%09AutoFE%3A%20features%20from%20%3Ca%20href%3D%27https%3A%2F%2Fupgini.com%2F%23data_sources%27%20target%3D%27_blank%27%20rel%3D%27noopener%20noreferrer%27%3ECalendar%20data%3C%2Fa%3E,%3Ca%20href%3D%27https%3A%2F%2Fupgini.com%2F%23data_sources%27%20target%3D%27_blank%27%20rel%3D%27noopener%20noreferrer%27%3EMarkets%20data%3C%2Fa%3E%09Daily%0Af_autofe_div_3e22df83%090.0059%09100.0%09-0.0095,%20-0.0201,%20-0.0161%09Upgini%09AutoFE%3A%20features%20from%20%3Ca%20href%3D%27https%3A%2F%2Fupgini.com%2F%23data_sources%27%20target%3D%27_blank%27%20rel%3D%27noopener%20noreferrer%27%3ECalendar%20data%3C%2Fa%3E,%3Ca%20href%3D%27https%3A%2F%2Fupgini.com%2F%23data_sources%27%20target%3D%27_blank%27%20rel%3D%27noopener%20noreferrer%27%3EMarkets%20data%3C%2Fa%3E%09Daily%0Af_autofe_mul_0b4c09c3%090.0057%09100.0%09-0.9229,%20-0.4103,%200.4507%09Upgini%09AutoFE%3A%20features%20from%20%3Ca%20href%3D%27https%3A%2F%2Fupgini.com%2F%23data_sources%27%20target%3D%27_blank%27%20rel%3D%27noopener%20noreferrer%27%3ECalendar%20data%3C%2Fa%3E,%3Ca%20href%3D%27https%3A%2F%2Fupgini.com%2F%23data_sources%27%20target%3D%27_blank%27%20rel%3D%27noopener%20noreferrer%27%3EMarkets%20data%3C%2Fa%3E%09Daily%0Af_autofe_div_48404110%090.0057%0985.53490708186841%09-2.2929,%20-0.317,%20-1.8019%09Upgini%09AutoFE%3A%20features%20from%20%3Ca%20href%3D%27https%3A%2F%2Fupgini.com%2F%23data_sources%27%20target%3D%27_blank%27%20rel%3D%27noopener%20noreferrer%27%3ECalendar%20data%3C%2Fa%3E%09Daily%0Af_autofe_mul_08e89348%090.0054%09100.0%09-44.5097,%2041.9696,%20-75.0793%09Upgini%09AutoFE%3A%20features%20from%20%3Ca%20href%3D%27https%3A%2F%2Fupgini.com%2F%23data_sources%27%20target%3D%27_blank%27%20rel%3D%27noopener%20noreferrer%27%3ECalendar%20data%3C%2Fa%3E,%3Ca%20href%3D%27https%3A%2F%2Fupgini.com%2F%23data_sources%27%20target%3D%27_blank%27%20rel%3D%27noopener%20noreferrer%27%3EMarkets%20data%3C%2Fa%3E%09Daily%0Af_events_date_year_cos1_9014a856%090.0054%09100.0%09-0.6584,%200.5982,%20-0.0429%09Upgini%09Calendar%20data%09Daily%0Af_autofe_mul_6a97c336%090.0039%09100.0%090.4841,%200.9003,%20-0.8627%09Upgini%09AutoFE%3A%20features%20from%20%3Ca%20href%3D%27https%3A%2F%2Fupgini.com%2F%23data_sources%27%20target%3D%27_blank%27%20rel%3D%27noopener%20noreferrer%27%3ECalendar%20data%3C%2Fa%3E,%3Ca%20href%3D%27https%3A%2F%2Fupgini.com%2F%23data_sources%27%20target%3D%27_blank%27%20rel%3D%27noopener%20noreferrer%27%3EMarkets%20data%3C%2Fa%3E%09Daily%0Af_autofe_div_b97cf188%090.0038%0985.53490708186841%090.2846,%200.9241,%200.9241%09Upgini%09AutoFE%3A%20features%20from%20%3Ca%20href%3D%27https%3A%2F%2Fupgini.com%2F%23data_sources%27%20target%3D%27_blank%27%20rel%3D%27noopener%20noreferrer%27%3ECalendar%20data%3C%2Fa%3E%09Daily%0Af_autofe_mul_9198eeb1%090.0038%09100.0%09-7352.5591,%2017617.3377,%20-13218...%09Upgini%09AutoFE%3A%20features%20from%20%3Ca%20href%3D%27https%3A%2F%2Fupgini.com%2F%23data_sources%27%20target%3D%27_blank%27%20rel%3D%27noopener%20noreferrer%27%3ECalendar%20data%3C%2Fa%3E,%3Ca%20href%3D%27https%3A%2F%2Fupgini.com%2F%23data_sources%27%20target%3D%27_blank%27%20rel%3D%27noopener%20noreferrer%27%3EMarkets%20data%3C%2Fa%3E%09Daily%0Af_weather_date_weather_umap_5_88023931%090.0033%09100.0%096.0726,%204.8316,%204.2352%09Upgini%09Weather%20%26%20climate%20normals%20data%09Daily%0Af_autofe_div_6ba612bf%090.0031%0967.00150678051232%0993.6597,%20483.6844,%20463.1264%09Upgini%09AutoFE%3A%20features%20from%20%3Ca%20href%3D%27https%3A%2F%2Fupgini.com%2F%23data_sources%27%20target%3D%27_blank%27%20rel%3D%27noopener%20noreferrer%27%3EMarkets%20data%3C%2Fa%3E%09Daily%0Af_autofe_div_1ce27d18%090.0028%09100.0%090.4078,%20-0.8298,%200.3842%09Upgini%09AutoFE%3A%20features%20from%20%3Ca%20href%3D%27https%3A%2F%2Fupgini.com%2F%23data_sources%27%20target%3D%27_blank%27%20rel%3D%27noopener%20noreferrer%27%3ECalendar%20data%3C%2Fa%3E,%3Ca%20href%3D%27https%3A%2F%2Fupgini.com%2F%23data_sources%27%20target%3D%27_blank%27%20rel%3D%27noopener%20noreferrer%27%3EMarkets%20data%3C%2Fa%3E%09Daily%0Af_autofe_mul_c256dd85%090.0023%09100.0%090.5856,%20-0.8958,%200.0%09Upgini%09AutoFE%3A%20features%20from%20%3Ca%20href%3D%27https%3A%2F%2Fupgini.com%2F%23data_sources%27%20target%3D%27_blank%27%20rel%3D%27noopener%20noreferrer%27%3ECalendar%20data%3C%2Fa%3E,%3Ca%20href%3D%27https%3A%2F%2Fupgini.com%2F%23data_sources%27%20target%3D%27_blank%27%20rel%3D%27noopener%20noreferrer%27%3EMarkets%20data%3C%2Fa%3E%09Daily%0Af_autofe_div_c8eca710%090.0021%0985.53490708186841%09-0.7434,%201.2774,%20-0.2575%09Upgini%09AutoFE%3A%20features%20from%20%3Ca%20href%3D%27https%3A%2F%2Fupgini.com%2F%23data_sources%27%20target%3D%27_blank%27%20rel%3D%27noopener%20noreferrer%27%3ECalendar%20data%3C%2Fa%3E%09Daily%0Af_weather_date_weather_umap_25_ed89a1ce%090.0018%09100.0%094.8941,%205.297,%205.1075%09Upgini%09Weather%20%26%20climate%20normals%20data%09Daily%0Af_autofe_div_37ebefcc%090.0018%09100.0%09311.991,%20367.1272,%20359.5135%09Upgini%09AutoFE%3A%20features%20from%20%3Ca%20href%3D%27https%3A%2F%2Fupgini.com%2F%23data_sources%27%20target%3D%27_blank%27%20rel%3D%27noopener%20noreferrer%27%3EMarkets%20data%3C%2Fa%3E%09Daily%0Af_autofe_mul_1d855285%090.0018%09100.0%090.5456,%20-0.4541,%200.5469%09Upgini%09AutoFE%3A%20features%20from%20%3Ca%20href%3D%27https%3A%2F%2Fupgini.com%2F%23data_sources%27%20target%3D%27_blank%27%20rel%3D%27noopener%20noreferrer%27%3ECalendar%20data%3C%2Fa%3E%09Daily%0Af_autofe_mul_d74de64a%090.0016%09100.0%09-0.8653,%200.1023,%20-0.0658%09Upgini%09AutoFE%3A%20features%20from%20%3Ca%20href%3D%27https%3A%2F%2Fupgini.com%2F%23data_sources%27%20target%3D%27_blank%27%20rel%3D%27noopener%20noreferrer%27%3ECalendar%20data%3C%2Fa%3E%09Daily%0Af_autofe_div_67fcefc3%090.0015%0985.53490708186841%09-0.8298,%20-0.2409,%200.2282%09Upgini%09AutoFE%3A%20features%20from%20%3Ca%20href%3D%27https%3A%2F%2Fupgini.com%2F%23data_sources%27%20target%3D%27_blank%27%20rel%3D%27noopener%20noreferrer%27%3ECalendar%20data%3C%2Fa%3E%09Daily%0Af_weather_date_weather_umap_42_4ac1a34c%090.0014%09100.0%095.3486,%205.2765,%205.4243%09Upgini%09Weather%20%26%20climate%20normals%20data%09Daily%0Af_weather_date_weather_umap_6_8de4f955%090.0013%09100.0%097.9718,%207.9552,%203.4097%09Upgini%09Weather%20%26%20climate%20normals%20data%09Daily%0Af_weather_date_weather_umap_22_0342ee9e%090.0013%09100.0%094.7883,%205.3693,%204.2308%09Upgini%09Weather%20%26%20climate%20normals%20data%09Daily%0Af_autofe_mul_0afc7563%090.0012%09100.0%090.0168,%20-0.2505,%20-0.3488%09Upgini%09AutoFE%3A%20features%20from%20%3Ca%20href%3D%27https%3A%2F%2Fupgini.com%2F%23data_sources%27%20target%3D%27_blank%27%20rel%3D%27noopener%20noreferrer%27%3ECalendar%20data%3C%2Fa%3E%09Daily%0Af_autofe_div_93ec22ef%090.0012%09100.0%091.4178,%200.8932,%20-2.7607%09Upgini%09AutoFE%3A%20features%20from%20%3Ca%20href%3D%27https%3A%2F%2Fupgini.com%2F%23data_sources%27%20target%3D%27_blank%27%20rel%3D%27noopener%20noreferrer%27%3ECalendar%20data%3C%2Fa%3E%09Daily%0Af_autofe_div_f4e9d200%090.0012%09100.0%091.188,%200.3644,%20-0.0175%09Upgini%09AutoFE%3A%20features%20from%20%3Ca%20href%3D%27https%3A%2F%2Fupgini.com%2F%23data_sources%27%20target%3D%27_blank%27%20rel%3D%27noopener%20noreferrer%27%3ECalendar%20data%3C%2Fa%3E%09Daily%0Af_autofe_mul_170d2263%090.0011%09100.0%090.573,%200.2479,%20-0.4126%09Upgini%09AutoFE%3A%20features%20from%20%3Ca%20href%3D%27https%3A%2F%2Fupgini.com%2F%23data_sources%27%20target%3D%27_blank%27%20rel%3D%27noopener%20noreferrer%27%3ECalendar%20data%3C%2Fa%3E%09Daily%0Af_autofe_mul_b2bfad41%090.0009%09100.0%090.5239,%200.8391,%200.535%09Upgini%09AutoFE%3A%20features%20from%20%3Ca%20href%3D%27https%3A%2F%2Fupgini.com%2F%23data_sources%27%20target%3D%27_blank%27%20rel%3D%27noopener%20noreferrer%27%3ECalendar%20data%3C%2Fa%3E,%3Ca%20href%3D%27https%3A%2F%2Fupgini.com%2F%23data_sources%27%20target%3D%27_blank%27%20rel%3D%27noopener%20noreferrer%27%3EMarkets%20data%3C%2Fa%3E%09Daily%0Af_autofe_div_2fe3f746%090.0008%0985.53490708186841%09-1.279,%200.7518,%201.3547%09Upgini%09AutoFE%3A%20features%20from%20%3Ca%20href%3D%27https%3A%2F%2Fupgini.com%2F%23data_sources%27%20target%3D%27_blank%27%20rel%3D%27noopener%20noreferrer%27%3ECalendar%20data%3C%2Fa%3E%09Daily%0Af_autofe_div_3793ee8b%090.0008%09100.0%090.1938,%20-1.0853,%200.802%09Upgini%09AutoFE%3A%20features%20from%20%3Ca%20href%3D%27https%3A%2F%2Fupgini.com%2F%23data_sources%27%20target%3D%27_blank%27%20rel%3D%27noopener%20noreferrer%27%3ECalendar%20data%3C%2Fa%3E,%3Ca%20href%3D%27https%3A%2F%2Fupgini.com%2F%23data_sources%27%20target%3D%27_blank%27%20rel%3D%27noopener%20noreferrer%27%3EMarkets%20data%3C%2Fa%3E%09Daily%0Af_autofe_div_35f320cb%090.0007%09100.0%09-0.2487,%20-0.2069,%200.5345%09Upgini%09AutoFE%3A%20features%20from%20%3Ca%20href%3D%27https%3A%2F%2Fupgini.com%2F%23data_sources%27%20target%3D%27_blank%27%20rel%3D%27noopener%20noreferrer%27%3ECalendar%20data%3C%2Fa%3E,%3Ca%20href%3D%27https%3A%2F%2Fupgini.com%2F%23data_sources%27%20target%3D%27_blank%27%20rel%3D%27noopener%20noreferrer%27%3EMarkets%20data%3C%2Fa%3E%09Daily%0Af_autofe_div_fdbe02b3%090.0006%0968.25715720743345%095.9594,%201.6193,%203.7789%09Upgini%09AutoFE%3A%20features%20from%20%3Ca%20href%3D%27https%3A%2F%2Fupgini.com%2F%23data_sources%27%20target%3D%27_blank%27%20rel%3D%27noopener%20noreferrer%27%3ECalendar%20data%3C%2Fa%3E,%3Ca%20href%3D%27https%3A%2F%2Fupgini.com%2F%23data_sources%27%20target%3D%27_blank%27%20rel%3D%27noopener%20noreferrer%27%3EMarkets%20data%3C%2Fa%3E%09Daily%0Af_weather_date_weather_umap_29_e860dd51%090.0006%09100.0%095.3006,%205.206,%205.1681%09Upgini%09Weather%20%26%20climate%20normals%20data%09Daily%0Af_autofe_mul_85c324be%090.0006%09100.0%09-0.0448,%200.5509,%200.2459%09Upgini%09AutoFE%3A%20features%20from%20%3Ca%20href%3D%27https%3A%2F%2Fupgini.com%2F%23data_sources%27%20target%3D%27_blank%27%20rel%3D%27noopener%20noreferrer%27%3ECalendar%20data%3C%2Fa%3E%09Daily%0Af_autofe_div_246b0e42%090.0006%09100.0%090.0048,%200.0034,%200.0023%09Upgini%09AutoFE%3A%20features%20from%20%3Ca%20href%3D%27https%3A%2F%2Fupgini.com%2F%23data_sources%27%20target%3D%27_blank%27%20rel%3D%27noopener%20noreferrer%27%3EMarkets%20data%3C%2Fa%3E%09Daily%0Af_autofe_div_ab7c3e47%090.0006%09100.0%090.7337,%20-0.76,%200.8776%09Upgini%09AutoFE%3A%20features%20from%20%3Ca%20href%3D%27https%3A%2F%2Fupgini.com%2F%23data_sources%27%20target%3D%27_blank%27%20rel%3D%27noopener%20noreferrer%27%3ECalendar%20data%3C%2Fa%3E,%3Ca%20href%3D%27https%3A%2F%2Fupgini.com%2F%23data_sources%27%20target%3D%27_blank%27%20rel%3D%27noopener%20noreferrer%27%3EMarkets%20data%3C%2Fa%3E%09Daily%0Af_autofe_mul_f4d2dd32%090.0005%09100.0%09-0.3597,%200.1705,%20-0.8762%09Upgini%09AutoFE%3A%20features%20from%20%3Ca%20href%3D%27https%3A%2F%2Fupgini.com%2F%23data_sources%27%20target%3D%27_blank%27%20rel%3D%27noopener%20noreferrer%27%3ECalendar%20data%3C%2Fa%3E%09Daily%0Af_autofe_div_1d266053%090.0005%09100.0%090.7116,%20-0.1852,%20-0.791%09Upgini%09AutoFE%3A%20features%20from%20%3Ca%20href%3D%27https%3A%2F%2Fupgini.com%2F%23data_sources%27%20target%3D%27_blank%27%20rel%3D%27noopener%20noreferrer%27%3ECalendar%20data%3C%2Fa%3E,%3Ca%20href%3D%27https%3A%2F%2Fupgini.com%2F%23data_sources%27%20target%3D%27_blank%27%20rel%3D%27noopener%20noreferrer%27%3EMarkets%20data%3C%2Fa%3E%09Daily%0Af_autofe_div_cd6f9b78%090.0005%09100.0%090.051,%200.0623,%200.0372%09Upgini%09AutoFE%3A%20features%20from%20%3Ca%20href%3D%27https%3A%2F%2Fupgini.com%2F%23data_sources%27%20target%3D%27_blank%27%20rel%3D%27noopener%20noreferrer%27%3EMarkets%20data%3C%2Fa%3E%09Daily%0Af_autofe_mul_5656cb90%090.0005%09100.0%090.6115,%200.9997,%20-0.216%09Upgini%09AutoFE%3A%20features%20from%20%3Ca%20href%3D%27https%3A%2F%2Fupgini.com%2F%23data_sources%27%20target%3D%27_blank%27%20rel%3D%27noopener%20noreferrer%27%3ECalendar%20data%3C%2Fa%3E,%3Ca%20href%3D%27https%3A%2F%2Fupgini.com%2F%23data_sources%27%20target%3D%27_blank%27%20rel%3D%27noopener%20noreferrer%27%3EMarkets%20data%3C%2Fa%3E%09Daily%0Af_autofe_div_7b1f0c57%090.0005%0968.85986941235561%09-0.0027,%200.0465,%200.0024%09Upgini%09AutoFE%3A%20features%20from%20%3Ca%20href%3D%27https%3A%2F%2Fupgini.com%2F%23data_sources%27%20target%3D%27_blank%27%20rel%3D%27noopener%20noreferrer%27%3ECalendar%20data%3C%2Fa%3E,%3Ca%20href%3D%27https%3A%2F%2Fupgini.com%2F%23data_sources%27%20target%3D%27_blank%27%20rel%3D%27noopener%20noreferrer%27%3EMarkets%20data%3C%2Fa%3E%09Daily%0Af_autofe_mul_66e8dae9%090.0005%09100.0%090.8358,%200.6912,%200.815%09Upgini%09AutoFE%3A%20features%20from%20%3Ca%20href%3D%27https%3A%2F%2Fupgini.com%2F%23data_sources%27%20target%3D%27_blank%27%20rel%3D%27noopener%20noreferrer%27%3ECalendar%20data%3C%2Fa%3E%09Daily%0Af_autofe_div_3d31a06c%090.0004%0985.53490708186841%090.2575,%20-2.192,%20-0.2846%09Upgini%09AutoFE%3A%20features%20from%20%3Ca%20href%3D%27https%3A%2F%2Fupgini.com%2F%23data_sources%27%20target%3D%27_blank%27%20rel%3D%27noopener%20noreferrer%27%3ECalendar%20data%3C%2Fa%3E%09Daily%0Af_autofe_div_d2e29591%090.0004%09100.0%093.5993,%204.3117,%203.7375%09Upgini%09AutoFE%3A%20features%20from%20%3Ca%20href%3D%27https%3A%2F%2Fupgini.com%2F%23data_sources%27%20target%3D%27_blank%27%20rel%3D%27noopener%20noreferrer%27%3EMarkets%20data%3C%2Fa%3E%09Daily%0Af_autofe_div_b192a036%090.0003%0985.53490708186841%090.2659,%200.2575,%20-0.8883%09Upgini%09AutoFE%3A%20features%20from%20%3Ca%20href%3D%27https%3A%2F%2Fupgini.com%2F%23data_sources%27%20target%3D%27_blank%27%20rel%3D%27noopener%20noreferrer%27%3ECalendar%20data%3C%2Fa%3E%09Daily%0Af_autofe_div_02ddabb4%090.0003%09100.0%09-0.2232,%20-0.227,%200.5965%09Upgini%09AutoFE%3A%20features%20from%20%3Ca%20href%3D%27https%3A%2F%2Fupgini.com%2F%23data_sources%27%20target%3D%27_blank%27%20rel%3D%27noopener%20noreferrer%27%3ECalendar%20data%3C%2Fa%3E,%3Ca%20href%3D%27https%3A%2F%2Fupgini.com%2F%23data_sources%27%20target%3D%27_blank%27%20rel%3D%27noopener%20noreferrer%27%3EMarkets%20data%3C%2Fa%3E%09Daily%0Af_autofe_mul_c4bd8f14%090.0003%09100.0%09-0.2334,%20-0.437,%20-0.4138%09Upgini%09AutoFE%3A%20features%20from%20%3Ca%20href%3D%27https%3A%2F%2Fupgini.com%2F%23data_sources%27%20target%3D%27_blank%27%20rel%3D%27noopener%20noreferrer%27%3ECalendar%20data%3C%2Fa%3E%09Daily%0Af_autofe_div_942365dd%090.0002%09100.0%090.0033,%200.0043,%200.0028%09Upgini%09AutoFE%3A%20features%20from%20%3Ca%20href%3D%27https%3A%2F%2Fupgini.com%2F%23data_sources%27%20target%3D%27_blank%27%20rel%3D%27noopener%20noreferrer%27%3EMarkets%20data%3C%2Fa%3E%09Daily%0Af_events_date_week_sin1_847b5db1%090.0001%09100.0%09-0.7818,%200.4339,%200.7818%09Upgini%09Calendar%20data%09Daily%0Af_financial_date_finance_umap_3_67036e7c%090.0001%09100.0%096.4517,%206.6992,%206.0619%09Upgini%09Markets%20data%09Daily%0Af_weather_date_weather_pca_5_29805999%090.0001%09100.0%093.3128,%20-3.8129,%201.8033%09Upgini%09Weather%20%26%20climate%20normals%20data%09Daily%0Af_weather_date_weather_umap_12_d03be9a0%090.0001%09100.0%094.1878,%205.0218,%205.9104%09Upgini%09Weather%20%26%20climate%20normals%20data%09Daily%0A'>\n",
              "                    <button>📨 Share</button>\n",
              "                </a>\n",
              "            </div>\n",
              "            <table class='upgini-df'><thead><th>Feature name</th><th>SHAP value</th><th>Coverage %</th><th>Value preview</th><th>Provider</th><th>Source</th><th>Updates</th></thead><tbody><tr><td class='upgini-text'><a href='https://docs.upgini.com/public/weather/weather_umap#f_weather_date_weather_umap_34_c3ef5b4f' target='_blank' rel='noopener noreferrer'>f_weather_date_weather_umap_34_c3ef5b4f</a></td><td class='upgini-number'>0.0274</td><td class='upgini-number'>100.0000</td><td class='upgini-text'>4.9432, 4.9067, 5.0762</td><td class='upgini-text'><a href='https://upgini.com' target='_blank' rel='noopener noreferrer'>Upgini</a></td><td class='upgini-text'><a href='https://upgini.com/#data_sources' target='_blank' rel='noopener noreferrer'>Weather & climate normals data</a></td><td class='upgini-text'>Daily</td></tr><tr><td class='upgini-text'>f_autofe_div_89c56a5f</td><td class='upgini-number'>0.0238</td><td class='upgini-number'>100.0000</td><td class='upgini-text'>0.8501, -0.3749, -0.585</td><td class='upgini-text'><a href='https://upgini.com' target='_blank' rel='noopener noreferrer'>Upgini</a></td><td class='upgini-text'>AutoFE: features from <a href='https://upgini.com/#data_sources' target='_blank' rel='noopener noreferrer'>Calendar data</a>,<a href='https://upgini.com/#data_sources' target='_blank' rel='noopener noreferrer'>Markets data</a></td><td class='upgini-text'>Daily</td></tr><tr><td class='upgini-text'>f_autofe_div_0a5adf97</td><td class='upgini-number'>0.0235</td><td class='upgini-number'>100.0000</td><td class='upgini-text'>-0.1424, -0.2353, -0.2248</td><td class='upgini-text'><a href='https://upgini.com' target='_blank' rel='noopener noreferrer'>Upgini</a></td><td class='upgini-text'>AutoFE: features from <a href='https://upgini.com/#data_sources' target='_blank' rel='noopener noreferrer'>Calendar data</a>,<a href='https://upgini.com/#data_sources' target='_blank' rel='noopener noreferrer'>Markets data</a></td><td class='upgini-text'>Daily</td></tr><tr><td class='upgini-text'><a href='https://docs.upgini.com/public/weather/weather_umap#f_weather_date_weather_umap_48_b39cd0c4' target='_blank' rel='noopener noreferrer'>f_weather_date_weather_umap_48_b39cd0c4</a></td><td class='upgini-number'>0.0153</td><td class='upgini-number'>100.0000</td><td class='upgini-text'>5.6819, 4.5362, 5.2842</td><td class='upgini-text'><a href='https://upgini.com' target='_blank' rel='noopener noreferrer'>Upgini</a></td><td class='upgini-text'><a href='https://upgini.com/#data_sources' target='_blank' rel='noopener noreferrer'>Weather & climate normals data</a></td><td class='upgini-text'>Daily</td></tr><tr><td class='upgini-text'><a href='https://docs.upgini.com/public/weather/weather_pca#f_weather_date_weather_pca_0_d7e0a1fc' target='_blank' rel='noopener noreferrer'>f_weather_date_weather_pca_0_d7e0a1fc</a></td><td class='upgini-number'>0.0147</td><td class='upgini-number'>100.0000</td><td class='upgini-text'>2.9131, -2.1671, -2.6741</td><td class='upgini-text'><a href='https://upgini.com' target='_blank' rel='noopener noreferrer'>Upgini</a></td><td class='upgini-text'><a href='https://upgini.com/#data_sources' target='_blank' rel='noopener noreferrer'>Weather & climate normals data</a></td><td class='upgini-text'>Daily</td></tr><tr><td class='upgini-text'>f_autofe_div_270392eb</td><td class='upgini-number'>0.0141</td><td class='upgini-number'>100.0000</td><td class='upgini-text'>2.0145, -0.5468, -0.7124</td><td class='upgini-text'><a href='https://upgini.com' target='_blank' rel='noopener noreferrer'>Upgini</a></td><td class='upgini-text'>AutoFE: features from <a href='https://upgini.com/#data_sources' target='_blank' rel='noopener noreferrer'>Calendar data</a>,<a href='https://upgini.com/#data_sources' target='_blank' rel='noopener noreferrer'>Markets data</a></td><td class='upgini-text'>Daily</td></tr><tr><td class='upgini-text'>f_autofe_div_a152c923</td><td class='upgini-number'>0.0137</td><td class='upgini-number'>100.0000</td><td class='upgini-text'>0.0001, -0.0003, -0.0025</td><td class='upgini-text'><a href='https://upgini.com' target='_blank' rel='noopener noreferrer'>Upgini</a></td><td class='upgini-text'>AutoFE: features from <a href='https://upgini.com/#data_sources' target='_blank' rel='noopener noreferrer'>Calendar data</a>,<a href='https://upgini.com/#data_sources' target='_blank' rel='noopener noreferrer'>Markets data</a></td><td class='upgini-text'>Daily</td></tr><tr><td class='upgini-text'>f_autofe_mul_af6d166b</td><td class='upgini-number'>0.0134</td><td class='upgini-number'>100.0000</td><td class='upgini-text'>-0.2295, -0.1712, 0.5921</td><td class='upgini-text'><a href='https://upgini.com' target='_blank' rel='noopener noreferrer'>Upgini</a></td><td class='upgini-text'>AutoFE: features from <a href='https://upgini.com/#data_sources' target='_blank' rel='noopener noreferrer'>Calendar data</a>,<a href='https://upgini.com/#data_sources' target='_blank' rel='noopener noreferrer'>Markets data</a></td><td class='upgini-text'>Daily</td></tr><tr><td class='upgini-text'><a href='https://docs.upgini.com/public/weather/weather_umap#f_weather_date_weather_umap_33_89bb7578' target='_blank' rel='noopener noreferrer'>f_weather_date_weather_umap_33_89bb7578</a></td><td class='upgini-number'>0.0120</td><td class='upgini-number'>100.0000</td><td class='upgini-text'>4.607, 5.3201, 4.9672</td><td class='upgini-text'><a href='https://upgini.com' target='_blank' rel='noopener noreferrer'>Upgini</a></td><td class='upgini-text'><a href='https://upgini.com/#data_sources' target='_blank' rel='noopener noreferrer'>Weather & climate normals data</a></td><td class='upgini-text'>Daily</td></tr><tr><td class='upgini-text'><a href='https://docs.upgini.com/public/weather/weather_umap#f_weather_date_weather_umap_31_fa6d9a99' target='_blank' rel='noopener noreferrer'>f_weather_date_weather_umap_31_fa6d9a99</a></td><td class='upgini-number'>0.0116</td><td class='upgini-number'>100.0000</td><td class='upgini-text'>5.0517, 4.8758, 5.0517</td><td class='upgini-text'><a href='https://upgini.com' target='_blank' rel='noopener noreferrer'>Upgini</a></td><td class='upgini-text'><a href='https://upgini.com/#data_sources' target='_blank' rel='noopener noreferrer'>Weather & climate normals data</a></td><td class='upgini-text'>Daily</td></tr><tr><td class='upgini-text'>f_autofe_mul_200a930f</td><td class='upgini-number'>0.0098</td><td class='upgini-number'>100.0000</td><td class='upgini-text'>0.5591, 0.8278, -0.9023</td><td class='upgini-text'><a href='https://upgini.com' target='_blank' rel='noopener noreferrer'>Upgini</a></td><td class='upgini-text'>AutoFE: features from <a href='https://upgini.com/#data_sources' target='_blank' rel='noopener noreferrer'>Calendar data</a>,<a href='https://upgini.com/#data_sources' target='_blank' rel='noopener noreferrer'>Markets data</a></td><td class='upgini-text'>Daily</td></tr><tr><td class='upgini-text'>f_autofe_mul_0cc09d2d</td><td class='upgini-number'>0.0090</td><td class='upgini-number'>100.0000</td><td class='upgini-text'>-50.4031, -47.9164, 14.3772</td><td class='upgini-text'><a href='https://upgini.com' target='_blank' rel='noopener noreferrer'>Upgini</a></td><td class='upgini-text'>AutoFE: features from <a href='https://upgini.com/#data_sources' target='_blank' rel='noopener noreferrer'>Calendar data</a>,<a href='https://upgini.com/#data_sources' target='_blank' rel='noopener noreferrer'>Markets data</a></td><td class='upgini-text'>Daily</td></tr><tr><td class='upgini-text'><a href='https://docs.upgini.com/public/weather/weather_umap#f_weather_date_weather_umap_35_5ddaa0ba' target='_blank' rel='noopener noreferrer'>f_weather_date_weather_umap_35_5ddaa0ba</a></td><td class='upgini-number'>0.0075</td><td class='upgini-number'>100.0000</td><td class='upgini-text'>5.0889, 4.7445, 5.1876</td><td class='upgini-text'><a href='https://upgini.com' target='_blank' rel='noopener noreferrer'>Upgini</a></td><td class='upgini-text'><a href='https://upgini.com/#data_sources' target='_blank' rel='noopener noreferrer'>Weather & climate normals data</a></td><td class='upgini-text'>Daily</td></tr><tr><td class='upgini-text'>f_autofe_div_34622286</td><td class='upgini-number'>0.0064</td><td class='upgini-number'>100.0000</td><td class='upgini-text'>0.7255, -0.3961, 0.7457</td><td class='upgini-text'><a href='https://upgini.com' target='_blank' rel='noopener noreferrer'>Upgini</a></td><td class='upgini-text'>AutoFE: features from <a href='https://upgini.com/#data_sources' target='_blank' rel='noopener noreferrer'>Calendar data</a>,<a href='https://upgini.com/#data_sources' target='_blank' rel='noopener noreferrer'>Markets data</a></td><td class='upgini-text'>Daily</td></tr><tr><td class='upgini-text'>f_autofe_div_3e22df83</td><td class='upgini-number'>0.0059</td><td class='upgini-number'>100.0000</td><td class='upgini-text'>-0.0095, -0.0201, -0.0161</td><td class='upgini-text'><a href='https://upgini.com' target='_blank' rel='noopener noreferrer'>Upgini</a></td><td class='upgini-text'>AutoFE: features from <a href='https://upgini.com/#data_sources' target='_blank' rel='noopener noreferrer'>Calendar data</a>,<a href='https://upgini.com/#data_sources' target='_blank' rel='noopener noreferrer'>Markets data</a></td><td class='upgini-text'>Daily</td></tr><tr><td class='upgini-text'>f_autofe_mul_0b4c09c3</td><td class='upgini-number'>0.0057</td><td class='upgini-number'>100.0000</td><td class='upgini-text'>-0.9229, -0.4103, 0.4507</td><td class='upgini-text'><a href='https://upgini.com' target='_blank' rel='noopener noreferrer'>Upgini</a></td><td class='upgini-text'>AutoFE: features from <a href='https://upgini.com/#data_sources' target='_blank' rel='noopener noreferrer'>Calendar data</a>,<a href='https://upgini.com/#data_sources' target='_blank' rel='noopener noreferrer'>Markets data</a></td><td class='upgini-text'>Daily</td></tr><tr><td class='upgini-text'>f_autofe_div_48404110</td><td class='upgini-number'>0.0057</td><td class='upgini-number'>85.5349</td><td class='upgini-text'>-2.2929, -0.317, -1.8019</td><td class='upgini-text'><a href='https://upgini.com' target='_blank' rel='noopener noreferrer'>Upgini</a></td><td class='upgini-text'>AutoFE: features from <a href='https://upgini.com/#data_sources' target='_blank' rel='noopener noreferrer'>Calendar data</a></td><td class='upgini-text'>Daily</td></tr><tr><td class='upgini-text'>f_autofe_mul_08e89348</td><td class='upgini-number'>0.0054</td><td class='upgini-number'>100.0000</td><td class='upgini-text'>-44.5097, 41.9696, -75.0793</td><td class='upgini-text'><a href='https://upgini.com' target='_blank' rel='noopener noreferrer'>Upgini</a></td><td class='upgini-text'>AutoFE: features from <a href='https://upgini.com/#data_sources' target='_blank' rel='noopener noreferrer'>Calendar data</a>,<a href='https://upgini.com/#data_sources' target='_blank' rel='noopener noreferrer'>Markets data</a></td><td class='upgini-text'>Daily</td></tr><tr><td class='upgini-text'><a href='https://docs.upgini.com/public/calendar/calendar#f_events_date_year_cos1_9014a856' target='_blank' rel='noopener noreferrer'>f_events_date_year_cos1_9014a856</a></td><td class='upgini-number'>0.0054</td><td class='upgini-number'>100.0000</td><td class='upgini-text'>-0.6584, 0.5982, -0.0429</td><td class='upgini-text'><a href='https://upgini.com' target='_blank' rel='noopener noreferrer'>Upgini</a></td><td class='upgini-text'><a href='https://upgini.com/#data_sources' target='_blank' rel='noopener noreferrer'>Calendar data</a></td><td class='upgini-text'>Daily</td></tr><tr><td class='upgini-text'>f_autofe_mul_6a97c336</td><td class='upgini-number'>0.0039</td><td class='upgini-number'>100.0000</td><td class='upgini-text'>0.4841, 0.9003, -0.8627</td><td class='upgini-text'><a href='https://upgini.com' target='_blank' rel='noopener noreferrer'>Upgini</a></td><td class='upgini-text'>AutoFE: features from <a href='https://upgini.com/#data_sources' target='_blank' rel='noopener noreferrer'>Calendar data</a>,<a href='https://upgini.com/#data_sources' target='_blank' rel='noopener noreferrer'>Markets data</a></td><td class='upgini-text'>Daily</td></tr><tr><td class='upgini-text'>f_autofe_div_b97cf188</td><td class='upgini-number'>0.0038</td><td class='upgini-number'>85.5349</td><td class='upgini-text'>0.2846, 0.9241, 0.9241</td><td class='upgini-text'><a href='https://upgini.com' target='_blank' rel='noopener noreferrer'>Upgini</a></td><td class='upgini-text'>AutoFE: features from <a href='https://upgini.com/#data_sources' target='_blank' rel='noopener noreferrer'>Calendar data</a></td><td class='upgini-text'>Daily</td></tr><tr><td class='upgini-text'>f_autofe_mul_9198eeb1</td><td class='upgini-number'>0.0038</td><td class='upgini-number'>100.0000</td><td class='upgini-text'>-7352.5591, 17617.3377, -13218...</td><td class='upgini-text'><a href='https://upgini.com' target='_blank' rel='noopener noreferrer'>Upgini</a></td><td class='upgini-text'>AutoFE: features from <a href='https://upgini.com/#data_sources' target='_blank' rel='noopener noreferrer'>Calendar data</a>,<a href='https://upgini.com/#data_sources' target='_blank' rel='noopener noreferrer'>Markets data</a></td><td class='upgini-text'>Daily</td></tr><tr><td class='upgini-text'><a href='https://docs.upgini.com/public/weather/weather_umap#f_weather_date_weather_umap_5_88023931' target='_blank' rel='noopener noreferrer'>f_weather_date_weather_umap_5_88023931</a></td><td class='upgini-number'>0.0033</td><td class='upgini-number'>100.0000</td><td class='upgini-text'>6.0726, 4.8316, 4.2352</td><td class='upgini-text'><a href='https://upgini.com' target='_blank' rel='noopener noreferrer'>Upgini</a></td><td class='upgini-text'><a href='https://upgini.com/#data_sources' target='_blank' rel='noopener noreferrer'>Weather & climate normals data</a></td><td class='upgini-text'>Daily</td></tr><tr><td class='upgini-text'>f_autofe_div_6ba612bf</td><td class='upgini-number'>0.0031</td><td class='upgini-number'>67.0015</td><td class='upgini-text'>93.6597, 483.6844, 463.1264</td><td class='upgini-text'><a href='https://upgini.com' target='_blank' rel='noopener noreferrer'>Upgini</a></td><td class='upgini-text'>AutoFE: features from <a href='https://upgini.com/#data_sources' target='_blank' rel='noopener noreferrer'>Markets data</a></td><td class='upgini-text'>Daily</td></tr><tr><td class='upgini-text'>f_autofe_div_1ce27d18</td><td class='upgini-number'>0.0028</td><td class='upgini-number'>100.0000</td><td class='upgini-text'>0.4078, -0.8298, 0.3842</td><td class='upgini-text'><a href='https://upgini.com' target='_blank' rel='noopener noreferrer'>Upgini</a></td><td class='upgini-text'>AutoFE: features from <a href='https://upgini.com/#data_sources' target='_blank' rel='noopener noreferrer'>Calendar data</a>,<a href='https://upgini.com/#data_sources' target='_blank' rel='noopener noreferrer'>Markets data</a></td><td class='upgini-text'>Daily</td></tr><tr><td class='upgini-text'>f_autofe_mul_c256dd85</td><td class='upgini-number'>0.0023</td><td class='upgini-number'>100.0000</td><td class='upgini-text'>0.5856, -0.8958, 0.0</td><td class='upgini-text'><a href='https://upgini.com' target='_blank' rel='noopener noreferrer'>Upgini</a></td><td class='upgini-text'>AutoFE: features from <a href='https://upgini.com/#data_sources' target='_blank' rel='noopener noreferrer'>Calendar data</a>,<a href='https://upgini.com/#data_sources' target='_blank' rel='noopener noreferrer'>Markets data</a></td><td class='upgini-text'>Daily</td></tr><tr><td class='upgini-text'>f_autofe_div_c8eca710</td><td class='upgini-number'>0.0021</td><td class='upgini-number'>85.5349</td><td class='upgini-text'>-0.7434, 1.2774, -0.2575</td><td class='upgini-text'><a href='https://upgini.com' target='_blank' rel='noopener noreferrer'>Upgini</a></td><td class='upgini-text'>AutoFE: features from <a href='https://upgini.com/#data_sources' target='_blank' rel='noopener noreferrer'>Calendar data</a></td><td class='upgini-text'>Daily</td></tr><tr><td class='upgini-text'><a href='https://docs.upgini.com/public/weather/weather_umap#f_weather_date_weather_umap_25_ed89a1ce' target='_blank' rel='noopener noreferrer'>f_weather_date_weather_umap_25_ed89a1ce</a></td><td class='upgini-number'>0.0018</td><td class='upgini-number'>100.0000</td><td class='upgini-text'>4.8941, 5.297, 5.1075</td><td class='upgini-text'><a href='https://upgini.com' target='_blank' rel='noopener noreferrer'>Upgini</a></td><td class='upgini-text'><a href='https://upgini.com/#data_sources' target='_blank' rel='noopener noreferrer'>Weather & climate normals data</a></td><td class='upgini-text'>Daily</td></tr><tr><td class='upgini-text'>f_autofe_div_37ebefcc</td><td class='upgini-number'>0.0018</td><td class='upgini-number'>100.0000</td><td class='upgini-text'>311.991, 367.1272, 359.5135</td><td class='upgini-text'><a href='https://upgini.com' target='_blank' rel='noopener noreferrer'>Upgini</a></td><td class='upgini-text'>AutoFE: features from <a href='https://upgini.com/#data_sources' target='_blank' rel='noopener noreferrer'>Markets data</a></td><td class='upgini-text'>Daily</td></tr><tr><td class='upgini-text'>f_autofe_mul_1d855285</td><td class='upgini-number'>0.0018</td><td class='upgini-number'>100.0000</td><td class='upgini-text'>0.5456, -0.4541, 0.5469</td><td class='upgini-text'><a href='https://upgini.com' target='_blank' rel='noopener noreferrer'>Upgini</a></td><td class='upgini-text'>AutoFE: features from <a href='https://upgini.com/#data_sources' target='_blank' rel='noopener noreferrer'>Calendar data</a></td><td class='upgini-text'>Daily</td></tr><tr><td class='upgini-text'>f_autofe_mul_d74de64a</td><td class='upgini-number'>0.0016</td><td class='upgini-number'>100.0000</td><td class='upgini-text'>-0.8653, 0.1023, -0.0658</td><td class='upgini-text'><a href='https://upgini.com' target='_blank' rel='noopener noreferrer'>Upgini</a></td><td class='upgini-text'>AutoFE: features from <a href='https://upgini.com/#data_sources' target='_blank' rel='noopener noreferrer'>Calendar data</a></td><td class='upgini-text'>Daily</td></tr><tr><td class='upgini-text'>f_autofe_div_67fcefc3</td><td class='upgini-number'>0.0015</td><td class='upgini-number'>85.5349</td><td class='upgini-text'>-0.8298, -0.2409, 0.2282</td><td class='upgini-text'><a href='https://upgini.com' target='_blank' rel='noopener noreferrer'>Upgini</a></td><td class='upgini-text'>AutoFE: features from <a href='https://upgini.com/#data_sources' target='_blank' rel='noopener noreferrer'>Calendar data</a></td><td class='upgini-text'>Daily</td></tr><tr><td class='upgini-text'><a href='https://docs.upgini.com/public/weather/weather_umap#f_weather_date_weather_umap_42_4ac1a34c' target='_blank' rel='noopener noreferrer'>f_weather_date_weather_umap_42_4ac1a34c</a></td><td class='upgini-number'>0.0014</td><td class='upgini-number'>100.0000</td><td class='upgini-text'>5.3486, 5.2765, 5.4243</td><td class='upgini-text'><a href='https://upgini.com' target='_blank' rel='noopener noreferrer'>Upgini</a></td><td class='upgini-text'><a href='https://upgini.com/#data_sources' target='_blank' rel='noopener noreferrer'>Weather & climate normals data</a></td><td class='upgini-text'>Daily</td></tr><tr><td class='upgini-text'><a href='https://docs.upgini.com/public/weather/weather_umap#f_weather_date_weather_umap_6_8de4f955' target='_blank' rel='noopener noreferrer'>f_weather_date_weather_umap_6_8de4f955</a></td><td class='upgini-number'>0.0013</td><td class='upgini-number'>100.0000</td><td class='upgini-text'>7.9718, 7.9552, 3.4097</td><td class='upgini-text'><a href='https://upgini.com' target='_blank' rel='noopener noreferrer'>Upgini</a></td><td class='upgini-text'><a href='https://upgini.com/#data_sources' target='_blank' rel='noopener noreferrer'>Weather & climate normals data</a></td><td class='upgini-text'>Daily</td></tr><tr><td class='upgini-text'><a href='https://docs.upgini.com/public/weather/weather_umap#f_weather_date_weather_umap_22_0342ee9e' target='_blank' rel='noopener noreferrer'>f_weather_date_weather_umap_22_0342ee9e</a></td><td class='upgini-number'>0.0013</td><td class='upgini-number'>100.0000</td><td class='upgini-text'>4.7883, 5.3693, 4.2308</td><td class='upgini-text'><a href='https://upgini.com' target='_blank' rel='noopener noreferrer'>Upgini</a></td><td class='upgini-text'><a href='https://upgini.com/#data_sources' target='_blank' rel='noopener noreferrer'>Weather & climate normals data</a></td><td class='upgini-text'>Daily</td></tr><tr><td class='upgini-text'>f_autofe_mul_0afc7563</td><td class='upgini-number'>0.0012</td><td class='upgini-number'>100.0000</td><td class='upgini-text'>0.0168, -0.2505, -0.3488</td><td class='upgini-text'><a href='https://upgini.com' target='_blank' rel='noopener noreferrer'>Upgini</a></td><td class='upgini-text'>AutoFE: features from <a href='https://upgini.com/#data_sources' target='_blank' rel='noopener noreferrer'>Calendar data</a></td><td class='upgini-text'>Daily</td></tr><tr><td class='upgini-text'>f_autofe_div_93ec22ef</td><td class='upgini-number'>0.0012</td><td class='upgini-number'>100.0000</td><td class='upgini-text'>1.4178, 0.8932, -2.7607</td><td class='upgini-text'><a href='https://upgini.com' target='_blank' rel='noopener noreferrer'>Upgini</a></td><td class='upgini-text'>AutoFE: features from <a href='https://upgini.com/#data_sources' target='_blank' rel='noopener noreferrer'>Calendar data</a></td><td class='upgini-text'>Daily</td></tr><tr><td class='upgini-text'>f_autofe_div_f4e9d200</td><td class='upgini-number'>0.0012</td><td class='upgini-number'>100.0000</td><td class='upgini-text'>1.188, 0.3644, -0.0175</td><td class='upgini-text'><a href='https://upgini.com' target='_blank' rel='noopener noreferrer'>Upgini</a></td><td class='upgini-text'>AutoFE: features from <a href='https://upgini.com/#data_sources' target='_blank' rel='noopener noreferrer'>Calendar data</a></td><td class='upgini-text'>Daily</td></tr><tr><td class='upgini-text'>f_autofe_mul_170d2263</td><td class='upgini-number'>0.0011</td><td class='upgini-number'>100.0000</td><td class='upgini-text'>0.573, 0.2479, -0.4126</td><td class='upgini-text'><a href='https://upgini.com' target='_blank' rel='noopener noreferrer'>Upgini</a></td><td class='upgini-text'>AutoFE: features from <a href='https://upgini.com/#data_sources' target='_blank' rel='noopener noreferrer'>Calendar data</a></td><td class='upgini-text'>Daily</td></tr><tr><td class='upgini-text'>f_autofe_mul_b2bfad41</td><td class='upgini-number'>0.0009</td><td class='upgini-number'>100.0000</td><td class='upgini-text'>0.5239, 0.8391, 0.535</td><td class='upgini-text'><a href='https://upgini.com' target='_blank' rel='noopener noreferrer'>Upgini</a></td><td class='upgini-text'>AutoFE: features from <a href='https://upgini.com/#data_sources' target='_blank' rel='noopener noreferrer'>Calendar data</a>,<a href='https://upgini.com/#data_sources' target='_blank' rel='noopener noreferrer'>Markets data</a></td><td class='upgini-text'>Daily</td></tr><tr><td class='upgini-text'>f_autofe_div_2fe3f746</td><td class='upgini-number'>0.0008</td><td class='upgini-number'>85.5349</td><td class='upgini-text'>-1.279, 0.7518, 1.3547</td><td class='upgini-text'><a href='https://upgini.com' target='_blank' rel='noopener noreferrer'>Upgini</a></td><td class='upgini-text'>AutoFE: features from <a href='https://upgini.com/#data_sources' target='_blank' rel='noopener noreferrer'>Calendar data</a></td><td class='upgini-text'>Daily</td></tr><tr><td class='upgini-text'>f_autofe_div_3793ee8b</td><td class='upgini-number'>0.0008</td><td class='upgini-number'>100.0000</td><td class='upgini-text'>0.1938, -1.0853, 0.802</td><td class='upgini-text'><a href='https://upgini.com' target='_blank' rel='noopener noreferrer'>Upgini</a></td><td class='upgini-text'>AutoFE: features from <a href='https://upgini.com/#data_sources' target='_blank' rel='noopener noreferrer'>Calendar data</a>,<a href='https://upgini.com/#data_sources' target='_blank' rel='noopener noreferrer'>Markets data</a></td><td class='upgini-text'>Daily</td></tr><tr><td class='upgini-text'>f_autofe_div_35f320cb</td><td class='upgini-number'>0.0007</td><td class='upgini-number'>100.0000</td><td class='upgini-text'>-0.2487, -0.2069, 0.5345</td><td class='upgini-text'><a href='https://upgini.com' target='_blank' rel='noopener noreferrer'>Upgini</a></td><td class='upgini-text'>AutoFE: features from <a href='https://upgini.com/#data_sources' target='_blank' rel='noopener noreferrer'>Calendar data</a>,<a href='https://upgini.com/#data_sources' target='_blank' rel='noopener noreferrer'>Markets data</a></td><td class='upgini-text'>Daily</td></tr><tr><td class='upgini-text'>f_autofe_div_fdbe02b3</td><td class='upgini-number'>0.0006</td><td class='upgini-number'>68.2572</td><td class='upgini-text'>5.9594, 1.6193, 3.7789</td><td class='upgini-text'><a href='https://upgini.com' target='_blank' rel='noopener noreferrer'>Upgini</a></td><td class='upgini-text'>AutoFE: features from <a href='https://upgini.com/#data_sources' target='_blank' rel='noopener noreferrer'>Calendar data</a>,<a href='https://upgini.com/#data_sources' target='_blank' rel='noopener noreferrer'>Markets data</a></td><td class='upgini-text'>Daily</td></tr><tr><td class='upgini-text'><a href='https://docs.upgini.com/public/weather/weather_umap#f_weather_date_weather_umap_29_e860dd51' target='_blank' rel='noopener noreferrer'>f_weather_date_weather_umap_29_e860dd51</a></td><td class='upgini-number'>0.0006</td><td class='upgini-number'>100.0000</td><td class='upgini-text'>5.3006, 5.206, 5.1681</td><td class='upgini-text'><a href='https://upgini.com' target='_blank' rel='noopener noreferrer'>Upgini</a></td><td class='upgini-text'><a href='https://upgini.com/#data_sources' target='_blank' rel='noopener noreferrer'>Weather & climate normals data</a></td><td class='upgini-text'>Daily</td></tr><tr><td class='upgini-text'>f_autofe_mul_85c324be</td><td class='upgini-number'>0.0006</td><td class='upgini-number'>100.0000</td><td class='upgini-text'>-0.0448, 0.5509, 0.2459</td><td class='upgini-text'><a href='https://upgini.com' target='_blank' rel='noopener noreferrer'>Upgini</a></td><td class='upgini-text'>AutoFE: features from <a href='https://upgini.com/#data_sources' target='_blank' rel='noopener noreferrer'>Calendar data</a></td><td class='upgini-text'>Daily</td></tr><tr><td class='upgini-text'>f_autofe_div_246b0e42</td><td class='upgini-number'>0.0006</td><td class='upgini-number'>100.0000</td><td class='upgini-text'>0.0048, 0.0034, 0.0023</td><td class='upgini-text'><a href='https://upgini.com' target='_blank' rel='noopener noreferrer'>Upgini</a></td><td class='upgini-text'>AutoFE: features from <a href='https://upgini.com/#data_sources' target='_blank' rel='noopener noreferrer'>Markets data</a></td><td class='upgini-text'>Daily</td></tr><tr><td class='upgini-text'>f_autofe_div_ab7c3e47</td><td class='upgini-number'>0.0006</td><td class='upgini-number'>100.0000</td><td class='upgini-text'>0.7337, -0.76, 0.8776</td><td class='upgini-text'><a href='https://upgini.com' target='_blank' rel='noopener noreferrer'>Upgini</a></td><td class='upgini-text'>AutoFE: features from <a href='https://upgini.com/#data_sources' target='_blank' rel='noopener noreferrer'>Calendar data</a>,<a href='https://upgini.com/#data_sources' target='_blank' rel='noopener noreferrer'>Markets data</a></td><td class='upgini-text'>Daily</td></tr><tr><td class='upgini-text'>f_autofe_mul_f4d2dd32</td><td class='upgini-number'>0.0005</td><td class='upgini-number'>100.0000</td><td class='upgini-text'>-0.3597, 0.1705, -0.8762</td><td class='upgini-text'><a href='https://upgini.com' target='_blank' rel='noopener noreferrer'>Upgini</a></td><td class='upgini-text'>AutoFE: features from <a href='https://upgini.com/#data_sources' target='_blank' rel='noopener noreferrer'>Calendar data</a></td><td class='upgini-text'>Daily</td></tr><tr><td class='upgini-text'>f_autofe_div_1d266053</td><td class='upgini-number'>0.0005</td><td class='upgini-number'>100.0000</td><td class='upgini-text'>0.7116, -0.1852, -0.791</td><td class='upgini-text'><a href='https://upgini.com' target='_blank' rel='noopener noreferrer'>Upgini</a></td><td class='upgini-text'>AutoFE: features from <a href='https://upgini.com/#data_sources' target='_blank' rel='noopener noreferrer'>Calendar data</a>,<a href='https://upgini.com/#data_sources' target='_blank' rel='noopener noreferrer'>Markets data</a></td><td class='upgini-text'>Daily</td></tr><tr><td class='upgini-text'>f_autofe_div_cd6f9b78</td><td class='upgini-number'>0.0005</td><td class='upgini-number'>100.0000</td><td class='upgini-text'>0.051, 0.0623, 0.0372</td><td class='upgini-text'><a href='https://upgini.com' target='_blank' rel='noopener noreferrer'>Upgini</a></td><td class='upgini-text'>AutoFE: features from <a href='https://upgini.com/#data_sources' target='_blank' rel='noopener noreferrer'>Markets data</a></td><td class='upgini-text'>Daily</td></tr><tr><td class='upgini-text'>f_autofe_mul_5656cb90</td><td class='upgini-number'>0.0005</td><td class='upgini-number'>100.0000</td><td class='upgini-text'>0.6115, 0.9997, -0.216</td><td class='upgini-text'><a href='https://upgini.com' target='_blank' rel='noopener noreferrer'>Upgini</a></td><td class='upgini-text'>AutoFE: features from <a href='https://upgini.com/#data_sources' target='_blank' rel='noopener noreferrer'>Calendar data</a>,<a href='https://upgini.com/#data_sources' target='_blank' rel='noopener noreferrer'>Markets data</a></td><td class='upgini-text'>Daily</td></tr><tr><td class='upgini-text'>f_autofe_div_7b1f0c57</td><td class='upgini-number'>0.0005</td><td class='upgini-number'>68.8599</td><td class='upgini-text'>-0.0027, 0.0465, 0.0024</td><td class='upgini-text'><a href='https://upgini.com' target='_blank' rel='noopener noreferrer'>Upgini</a></td><td class='upgini-text'>AutoFE: features from <a href='https://upgini.com/#data_sources' target='_blank' rel='noopener noreferrer'>Calendar data</a>,<a href='https://upgini.com/#data_sources' target='_blank' rel='noopener noreferrer'>Markets data</a></td><td class='upgini-text'>Daily</td></tr><tr><td class='upgini-text'>f_autofe_mul_66e8dae9</td><td class='upgini-number'>0.0005</td><td class='upgini-number'>100.0000</td><td class='upgini-text'>0.8358, 0.6912, 0.815</td><td class='upgini-text'><a href='https://upgini.com' target='_blank' rel='noopener noreferrer'>Upgini</a></td><td class='upgini-text'>AutoFE: features from <a href='https://upgini.com/#data_sources' target='_blank' rel='noopener noreferrer'>Calendar data</a></td><td class='upgini-text'>Daily</td></tr><tr><td class='upgini-text'>f_autofe_div_3d31a06c</td><td class='upgini-number'>0.0004</td><td class='upgini-number'>85.5349</td><td class='upgini-text'>0.2575, -2.192, -0.2846</td><td class='upgini-text'><a href='https://upgini.com' target='_blank' rel='noopener noreferrer'>Upgini</a></td><td class='upgini-text'>AutoFE: features from <a href='https://upgini.com/#data_sources' target='_blank' rel='noopener noreferrer'>Calendar data</a></td><td class='upgini-text'>Daily</td></tr><tr><td class='upgini-text'>f_autofe_div_d2e29591</td><td class='upgini-number'>0.0004</td><td class='upgini-number'>100.0000</td><td class='upgini-text'>3.5993, 4.3117, 3.7375</td><td class='upgini-text'><a href='https://upgini.com' target='_blank' rel='noopener noreferrer'>Upgini</a></td><td class='upgini-text'>AutoFE: features from <a href='https://upgini.com/#data_sources' target='_blank' rel='noopener noreferrer'>Markets data</a></td><td class='upgini-text'>Daily</td></tr><tr><td class='upgini-text'>f_autofe_div_b192a036</td><td class='upgini-number'>0.0003</td><td class='upgini-number'>85.5349</td><td class='upgini-text'>0.2659, 0.2575, -0.8883</td><td class='upgini-text'><a href='https://upgini.com' target='_blank' rel='noopener noreferrer'>Upgini</a></td><td class='upgini-text'>AutoFE: features from <a href='https://upgini.com/#data_sources' target='_blank' rel='noopener noreferrer'>Calendar data</a></td><td class='upgini-text'>Daily</td></tr><tr><td class='upgini-text'>f_autofe_div_02ddabb4</td><td class='upgini-number'>0.0003</td><td class='upgini-number'>100.0000</td><td class='upgini-text'>-0.2232, -0.227, 0.5965</td><td class='upgini-text'><a href='https://upgini.com' target='_blank' rel='noopener noreferrer'>Upgini</a></td><td class='upgini-text'>AutoFE: features from <a href='https://upgini.com/#data_sources' target='_blank' rel='noopener noreferrer'>Calendar data</a>,<a href='https://upgini.com/#data_sources' target='_blank' rel='noopener noreferrer'>Markets data</a></td><td class='upgini-text'>Daily</td></tr><tr><td class='upgini-text'>f_autofe_mul_c4bd8f14</td><td class='upgini-number'>0.0003</td><td class='upgini-number'>100.0000</td><td class='upgini-text'>-0.2334, -0.437, -0.4138</td><td class='upgini-text'><a href='https://upgini.com' target='_blank' rel='noopener noreferrer'>Upgini</a></td><td class='upgini-text'>AutoFE: features from <a href='https://upgini.com/#data_sources' target='_blank' rel='noopener noreferrer'>Calendar data</a></td><td class='upgini-text'>Daily</td></tr><tr><td class='upgini-text'>f_autofe_div_942365dd</td><td class='upgini-number'>0.0002</td><td class='upgini-number'>100.0000</td><td class='upgini-text'>0.0033, 0.0043, 0.0028</td><td class='upgini-text'><a href='https://upgini.com' target='_blank' rel='noopener noreferrer'>Upgini</a></td><td class='upgini-text'>AutoFE: features from <a href='https://upgini.com/#data_sources' target='_blank' rel='noopener noreferrer'>Markets data</a></td><td class='upgini-text'>Daily</td></tr><tr><td class='upgini-text'><a href='https://docs.upgini.com/public/calendar/calendar#f_events_date_week_sin1_847b5db1' target='_blank' rel='noopener noreferrer'>f_events_date_week_sin1_847b5db1</a></td><td class='upgini-number'>0.0001</td><td class='upgini-number'>100.0000</td><td class='upgini-text'>-0.7818, 0.4339, 0.7818</td><td class='upgini-text'><a href='https://upgini.com' target='_blank' rel='noopener noreferrer'>Upgini</a></td><td class='upgini-text'><a href='https://upgini.com/#data_sources' target='_blank' rel='noopener noreferrer'>Calendar data</a></td><td class='upgini-text'>Daily</td></tr><tr><td class='upgini-text'><a href='https://docs.upgini.com/public/markets/finance_umap#f_financial_date_finance_umap_3_67036e7c' target='_blank' rel='noopener noreferrer'>f_financial_date_finance_umap_3_67036e7c</a></td><td class='upgini-number'>0.0001</td><td class='upgini-number'>100.0000</td><td class='upgini-text'>6.4517, 6.6992, 6.0619</td><td class='upgini-text'><a href='https://upgini.com' target='_blank' rel='noopener noreferrer'>Upgini</a></td><td class='upgini-text'><a href='https://upgini.com/#data_sources' target='_blank' rel='noopener noreferrer'>Markets data</a></td><td class='upgini-text'>Daily</td></tr><tr><td class='upgini-text'><a href='https://docs.upgini.com/public/weather/weather_pca#f_weather_date_weather_pca_5_29805999' target='_blank' rel='noopener noreferrer'>f_weather_date_weather_pca_5_29805999</a></td><td class='upgini-number'>0.0001</td><td class='upgini-number'>100.0000</td><td class='upgini-text'>3.3128, -3.8129, 1.8033</td><td class='upgini-text'><a href='https://upgini.com' target='_blank' rel='noopener noreferrer'>Upgini</a></td><td class='upgini-text'><a href='https://upgini.com/#data_sources' target='_blank' rel='noopener noreferrer'>Weather & climate normals data</a></td><td class='upgini-text'>Daily</td></tr><tr><td class='upgini-text'><a href='https://docs.upgini.com/public/weather/weather_umap#f_weather_date_weather_umap_12_d03be9a0' target='_blank' rel='noopener noreferrer'>f_weather_date_weather_umap_12_d03be9a0</a></td><td class='upgini-number'>0.0001</td><td class='upgini-number'>100.0000</td><td class='upgini-text'>4.1878, 5.0218, 5.9104</td><td class='upgini-text'><a href='https://upgini.com' target='_blank' rel='noopener noreferrer'>Upgini</a></td><td class='upgini-text'><a href='https://upgini.com/#data_sources' target='_blank' rel='noopener noreferrer'>Weather & climate normals data</a></td><td class='upgini-text'>Daily</td></tr></tbody></table>\n",
              "        </div>\n",
              "        "
            ]
          },
          "metadata": {}
        },
        {
          "output_type": "display_data",
          "data": {
            "text/plain": [
              "<IPython.core.display.HTML object>"
            ],
            "text/html": [
              "<style>\n",
              "            .upgini-df thead th {\n",
              "                font-weight:bold;\n",
              "                text-align: center;\n",
              "                padding: 0.5em;\n",
              "                border-bottom: 2px solid black;\n",
              "            }\n",
              "\n",
              "            .upgini-df tbody td {\n",
              "                padding: 0.5em;\n",
              "            }\n",
              "\n",
              "            .upgini-df tbody tr:nth-child(odd) {\n",
              "                background-color: #ffffff;\n",
              "            }\n",
              "\n",
              "            .upgini-df tbody tr:nth-child(even) {\n",
              "                background-color: #f2f2f2;\n",
              "            }\n",
              "\n",
              "            .upgini-text {\n",
              "                text-align: left;\n",
              "            }\n",
              "\n",
              "            .upgini-number {\n",
              "                text-align: center;\n",
              "            }\n",
              "        </style>\n",
              "        <h2>Relevant data sources</h2>\n",
              "        <div style=\"display:flex; flex-direction:column; align-items:flex-end; width: fit-content;\">\n",
              "            \n",
              "            <div style=\"text-align: right\">\n",
              "                <button onclick=navigator.clipboard.writeText(decodeURI('Provider%09Source%09All%20features%20SHAP%09Number%20of%20relevant%20features%0AUpgini%09AutoFE%3A%20features%20from%20%3Ca%20href%3D%27https%3A%2F%2Fupgini.com%2F%23data_sources%27%20target%3D%27_blank%27%20rel%3D%27noopener%20noreferrer%27%3ECalendar%20data%3C%2Fa%3E,%3Ca%20href%3D%27https%3A%2F%2Fupgini.com%2F%23data_sources%27%20target%3D%27_blank%27%20rel%3D%27noopener%20noreferrer%27%3EMarkets%20data%3C%2Fa%3E%090.1489%0924%0AUpgini%09Weather%20%26%20climate%20normals%20data%090.0984%0914%0AUpgini%09AutoFE%3A%20features%20from%20%3Ca%20href%3D%27https%3A%2F%2Fupgini.com%2F%23data_sources%27%20target%3D%27_blank%27%20rel%3D%27noopener%20noreferrer%27%3ECalendar%20data%3C%2Fa%3E%090.0246%0917%0AUpgini%09AutoFE%3A%20features%20from%20%3Ca%20href%3D%27https%3A%2F%2Fupgini.com%2F%23data_sources%27%20target%3D%27_blank%27%20rel%3D%27noopener%20noreferrer%27%3EMarkets%20data%3C%2Fa%3E%090.0066%096%0AUpgini%09Calendar%20data%090.0055000000000000005%092%0AUpgini%09Markets%20data%090.0001%091%0A'))>📂 Copy</button>\n",
              "                <a href='mailto:<Share with...>?subject=Relevant external data sources from Upgini.com&body=Provider%09Source%09All%20features%20SHAP%09Number%20of%20relevant%20features%0AUpgini%09AutoFE%3A%20features%20from%20%3Ca%20href%3D%27https%3A%2F%2Fupgini.com%2F%23data_sources%27%20target%3D%27_blank%27%20rel%3D%27noopener%20noreferrer%27%3ECalendar%20data%3C%2Fa%3E,%3Ca%20href%3D%27https%3A%2F%2Fupgini.com%2F%23data_sources%27%20target%3D%27_blank%27%20rel%3D%27noopener%20noreferrer%27%3EMarkets%20data%3C%2Fa%3E%090.1489%0924%0AUpgini%09Weather%20%26%20climate%20normals%20data%090.0984%0914%0AUpgini%09AutoFE%3A%20features%20from%20%3Ca%20href%3D%27https%3A%2F%2Fupgini.com%2F%23data_sources%27%20target%3D%27_blank%27%20rel%3D%27noopener%20noreferrer%27%3ECalendar%20data%3C%2Fa%3E%090.0246%0917%0AUpgini%09AutoFE%3A%20features%20from%20%3Ca%20href%3D%27https%3A%2F%2Fupgini.com%2F%23data_sources%27%20target%3D%27_blank%27%20rel%3D%27noopener%20noreferrer%27%3EMarkets%20data%3C%2Fa%3E%090.0066%096%0AUpgini%09Calendar%20data%090.0055000000000000005%092%0AUpgini%09Markets%20data%090.0001%091%0A'>\n",
              "                    <button>📨 Share</button>\n",
              "                </a>\n",
              "            </div>\n",
              "            <table class='upgini-df'><thead><th>Provider</th><th>Source</th><th>All features SHAP</th><th>Number of relevant features</th></thead><tbody><tr><td class='upgini-text'><a href='https://upgini.com' target='_blank' rel='noopener noreferrer'>Upgini</a></td><td class='upgini-text'>AutoFE: features from <a href='https://upgini.com/#data_sources' target='_blank' rel='noopener noreferrer'>Calendar data</a>,<a href='https://upgini.com/#data_sources' target='_blank' rel='noopener noreferrer'>Markets data</a></td><td class='upgini-number'>0.1489</td><td class='upgini-number'>24</td></tr><tr><td class='upgini-text'><a href='https://upgini.com' target='_blank' rel='noopener noreferrer'>Upgini</a></td><td class='upgini-text'><a href='https://upgini.com/#data_sources' target='_blank' rel='noopener noreferrer'>Weather & climate normals data</a></td><td class='upgini-number'>0.0984</td><td class='upgini-number'>14</td></tr><tr><td class='upgini-text'><a href='https://upgini.com' target='_blank' rel='noopener noreferrer'>Upgini</a></td><td class='upgini-text'>AutoFE: features from <a href='https://upgini.com/#data_sources' target='_blank' rel='noopener noreferrer'>Calendar data</a></td><td class='upgini-number'>0.0246</td><td class='upgini-number'>17</td></tr><tr><td class='upgini-text'><a href='https://upgini.com' target='_blank' rel='noopener noreferrer'>Upgini</a></td><td class='upgini-text'>AutoFE: features from <a href='https://upgini.com/#data_sources' target='_blank' rel='noopener noreferrer'>Markets data</a></td><td class='upgini-number'>0.0066</td><td class='upgini-number'>6</td></tr><tr><td class='upgini-text'><a href='https://upgini.com' target='_blank' rel='noopener noreferrer'>Upgini</a></td><td class='upgini-text'><a href='https://upgini.com/#data_sources' target='_blank' rel='noopener noreferrer'>Calendar data</a></td><td class='upgini-number'>0.0055</td><td class='upgini-number'>2</td></tr><tr><td class='upgini-text'><a href='https://upgini.com' target='_blank' rel='noopener noreferrer'>Upgini</a></td><td class='upgini-text'><a href='https://upgini.com/#data_sources' target='_blank' rel='noopener noreferrer'>Markets data</a></td><td class='upgini-number'>0.0001</td><td class='upgini-number'>1</td></tr></tbody></table>\n",
              "        </div>\n",
              "        "
            ]
          },
          "metadata": {}
        },
        {
          "output_type": "display_data",
          "data": {
            "text/plain": [
              "<IPython.core.display.HTML object>"
            ],
            "text/html": [
              "<style>\n",
              "            .upgini-df thead th {\n",
              "                font-weight:bold;\n",
              "                text-align: center;\n",
              "                padding: 0.5em;\n",
              "                border-bottom: 2px solid black;\n",
              "            }\n",
              "\n",
              "            .upgini-df tbody td {\n",
              "                padding: 0.5em;\n",
              "            }\n",
              "\n",
              "            .upgini-df tbody tr:nth-child(odd) {\n",
              "                background-color: #ffffff;\n",
              "            }\n",
              "\n",
              "            .upgini-df tbody tr:nth-child(even) {\n",
              "                background-color: #f2f2f2;\n",
              "            }\n",
              "\n",
              "            .upgini-text {\n",
              "                text-align: left;\n",
              "            }\n",
              "\n",
              "            .upgini-number {\n",
              "                text-align: center;\n",
              "            }\n",
              "        </style>\n",
              "        <h2>*Description of AutoFE feature names</h2>\n",
              "        <div style=\"display:flex; flex-direction:column; align-items:flex-end; width: fit-content;\">\n",
              "            \n",
              "            <div style=\"text-align: right\">\n",
              "                <button onclick=navigator.clipboard.writeText(decodeURI('Sources%09Feature%20name%09Feature%201%09Feature%202%09Function%0A%3Ca%20href%3D%27https%3A%2F%2Fupgini.com%2F%23data_sources%27%20target%3D%27_blank%27%20rel%3D%27noopener%20noreferrer%27%3ECalendar%20data%3C%2Fa%3E,%3Ca%20href%3D%27https%3A%2F%2Fupgini.com%2F%23data_sources%27%20target%3D%27_blank%27%20rel%3D%27noopener%20noreferrer%27%3EMarkets%20data%3C%2Fa%3E%09f_autofe_div_89c56a5f%09f_events_date_year_cos1_9014a856%09f_financial_date_natural_gas_7d_to_7d_1y_shift_a5c3c07f%09%2F%0A%3Ca%20href%3D%27https%3A%2F%2Fupgini.com%2F%23data_sources%27%20target%3D%27_blank%27%20rel%3D%27noopener%20noreferrer%27%3ECalendar%20data%3C%2Fa%3E,%3Ca%20href%3D%27https%3A%2F%2Fupgini.com%2F%23data_sources%27%20target%3D%27_blank%27%20rel%3D%27noopener%20noreferrer%27%3EMarkets%20data%3C%2Fa%3E%09f_autofe_div_0a5adf97%09f_events_date_year_cos1_9014a856%09f_financial_date_natural_gas_92dac942%09%2F%0A%3Ca%20href%3D%27https%3A%2F%2Fupgini.com%2F%23data_sources%27%20target%3D%27_blank%27%20rel%3D%27noopener%20noreferrer%27%3ECalendar%20data%3C%2Fa%3E,%3Ca%20href%3D%27https%3A%2F%2Fupgini.com%2F%23data_sources%27%20target%3D%27_blank%27%20rel%3D%27noopener%20noreferrer%27%3EMarkets%20data%3C%2Fa%3E%09f_autofe_div_270392eb%09f_events_date_year_cos1_9014a856%09f_financial_date_vix_7d_to_7d_1y_shift_63e41986%09%2F%0A%3Ca%20href%3D%27https%3A%2F%2Fupgini.com%2F%23data_sources%27%20target%3D%27_blank%27%20rel%3D%27noopener%20noreferrer%27%3ECalendar%20data%3C%2Fa%3E,%3Ca%20href%3D%27https%3A%2F%2Fupgini.com%2F%23data_sources%27%20target%3D%27_blank%27%20rel%3D%27noopener%20noreferrer%27%3EMarkets%20data%3C%2Fa%3E%09f_autofe_div_a152c923%09f_events_date_year_cos1_9014a856%09f_financial_date_stoxx_043cbcd4%09%2F%0A%3Ca%20href%3D%27https%3A%2F%2Fupgini.com%2F%23data_sources%27%20target%3D%27_blank%27%20rel%3D%27noopener%20noreferrer%27%3ECalendar%20data%3C%2Fa%3E,%3Ca%20href%3D%27https%3A%2F%2Fupgini.com%2F%23data_sources%27%20target%3D%27_blank%27%20rel%3D%27noopener%20noreferrer%27%3EMarkets%20data%3C%2Fa%3E%09f_autofe_mul_af6d166b%09f_events_date_week_cos3_7525fe31%09f_financial_date_vix_7d_to_1y_634c77eb%09%2A%0A%3Ca%20href%3D%27https%3A%2F%2Fupgini.com%2F%23data_sources%27%20target%3D%27_blank%27%20rel%3D%27noopener%20noreferrer%27%3ECalendar%20data%3C%2Fa%3E,%3Ca%20href%3D%27https%3A%2F%2Fupgini.com%2F%23data_sources%27%20target%3D%27_blank%27%20rel%3D%27noopener%20noreferrer%27%3EMarkets%20data%3C%2Fa%3E%09f_autofe_mul_200a930f%09f_events_date_year_cos1_9014a856%09f_financial_date_vix_7d_to_7d_1y_shift_63e41986%09%2A%0A%3Ca%20href%3D%27https%3A%2F%2Fupgini.com%2F%23data_sources%27%20target%3D%27_blank%27%20rel%3D%27noopener%20noreferrer%27%3ECalendar%20data%3C%2Fa%3E,%3Ca%20href%3D%27https%3A%2F%2Fupgini.com%2F%23data_sources%27%20target%3D%27_blank%27%20rel%3D%27noopener%20noreferrer%27%3EMarkets%20data%3C%2Fa%3E%09f_autofe_mul_0cc09d2d%09f_events_date_year_cos1_9014a856%09f_financial_date_crude_oil_1f195998%09%2A%0A%3Ca%20href%3D%27https%3A%2F%2Fupgini.com%2F%23data_sources%27%20target%3D%27_blank%27%20rel%3D%27noopener%20noreferrer%27%3ECalendar%20data%3C%2Fa%3E,%3Ca%20href%3D%27https%3A%2F%2Fupgini.com%2F%23data_sources%27%20target%3D%27_blank%27%20rel%3D%27noopener%20noreferrer%27%3EMarkets%20data%3C%2Fa%3E%09f_autofe_div_34622286%09f_events_date_week_sin1_847b5db1%09f_financial_date_snp500_7d_to_1y_378b9f99%09%2F%0A%3Ca%20href%3D%27https%3A%2F%2Fupgini.com%2F%23data_sources%27%20target%3D%27_blank%27%20rel%3D%27noopener%20noreferrer%27%3ECalendar%20data%3C%2Fa%3E,%3Ca%20href%3D%27https%3A%2F%2Fupgini.com%2F%23data_sources%27%20target%3D%27_blank%27%20rel%3D%27noopener%20noreferrer%27%3EMarkets%20data%3C%2Fa%3E%09f_autofe_div_3e22df83%09f_events_date_week_sin1_847b5db1%09f_financial_date_crude_oil_1f195998%09%2F%0A%3Ca%20href%3D%27https%3A%2F%2Fupgini.com%2F%23data_sources%27%20target%3D%27_blank%27%20rel%3D%27noopener%20noreferrer%27%3ECalendar%20data%3C%2Fa%3E,%3Ca%20href%3D%27https%3A%2F%2Fupgini.com%2F%23data_sources%27%20target%3D%27_blank%27%20rel%3D%27noopener%20noreferrer%27%3EMarkets%20data%3C%2Fa%3E%09f_autofe_mul_0b4c09c3%09f_events_date_week_sin1_847b5db1%09f_financial_date_snp500_7d_to_1y_378b9f99%09%2A%0A%3Ca%20href%3D%27https%3A%2F%2Fupgini.com%2F%23data_sources%27%20target%3D%27_blank%27%20rel%3D%27noopener%20noreferrer%27%3ECalendar%20data%3C%2Fa%3E%09f_autofe_div_48404110%09f_events_date_month_cos3_a9200432%09f_events_date_week_sin1_847b5db1%09%2F%0A%3Ca%20href%3D%27https%3A%2F%2Fupgini.com%2F%23data_sources%27%20target%3D%27_blank%27%20rel%3D%27noopener%20noreferrer%27%3ECalendar%20data%3C%2Fa%3E,%3Ca%20href%3D%27https%3A%2F%2Fupgini.com%2F%23data_sources%27%20target%3D%27_blank%27%20rel%3D%27noopener%20noreferrer%27%3EMarkets%20data%3C%2Fa%3E%09f_autofe_mul_08e89348%09f_events_date_week_sin1_847b5db1%09f_financial_date_crude_oil_1f195998%09%2A%0A%3Ca%20href%3D%27https%3A%2F%2Fupgini.com%2F%23data_sources%27%20target%3D%27_blank%27%20rel%3D%27noopener%20noreferrer%27%3ECalendar%20data%3C%2Fa%3E,%3Ca%20href%3D%27https%3A%2F%2Fupgini.com%2F%23data_sources%27%20target%3D%27_blank%27%20rel%3D%27noopener%20noreferrer%27%3EMarkets%20data%3C%2Fa%3E%09f_autofe_mul_6a97c336%09f_events_date_week_cos1_f6a8c1fc%09f_financial_date_vix_7d_to_1y_634c77eb%09%2A%0A%3Ca%20href%3D%27https%3A%2F%2Fupgini.com%2F%23data_sources%27%20target%3D%27_blank%27%20rel%3D%27noopener%20noreferrer%27%3ECalendar%20data%3C%2Fa%3E%09f_autofe_div_b97cf188%09f_events_date_week_cos3_7525fe31%09f_events_date_week_sin2_e28440a5%09%2F%0A%3Ca%20href%3D%27https%3A%2F%2Fupgini.com%2F%23data_sources%27%20target%3D%27_blank%27%20rel%3D%27noopener%20noreferrer%27%3ECalendar%20data%3C%2Fa%3E,%3Ca%20href%3D%27https%3A%2F%2Fupgini.com%2F%23data_sources%27%20target%3D%27_blank%27%20rel%3D%27noopener%20noreferrer%27%3EMarkets%20data%3C%2Fa%3E%09f_autofe_mul_9198eeb1%09f_events_date_week_sin2_e28440a5%09f_financial_date_dow_jones_65aaa996%09%2A%0A%3Ca%20href%3D%27https%3A%2F%2Fupgini.com%2F%23data_sources%27%20target%3D%27_blank%27%20rel%3D%27noopener%20noreferrer%27%3EMarkets%20data%3C%2Fa%3E%09f_autofe_div_6ba612bf%09f_financial_date_stoxx_043cbcd4%09f_financial_date_stoxx_daydiff_763d8dcf%09%2F%0A%3Ca%20href%3D%27https%3A%2F%2Fupgini.com%2F%23data_sources%27%20target%3D%27_blank%27%20rel%3D%27noopener%20noreferrer%27%3ECalendar%20data%3C%2Fa%3E,%3Ca%20href%3D%27https%3A%2F%2Fupgini.com%2F%23data_sources%27%20target%3D%27_blank%27%20rel%3D%27noopener%20noreferrer%27%3EMarkets%20data%3C%2Fa%3E%09f_autofe_div_1ce27d18%09f_events_date_week_sin1_847b5db1%09f_financial_date_crude_oil_7d_to_1y_c3e0ad17%09%2F%0A%3Ca%20href%3D%27https%3A%2F%2Fupgini.com%2F%23data_sources%27%20target%3D%27_blank%27%20rel%3D%27noopener%20noreferrer%27%3ECalendar%20data%3C%2Fa%3E,%3Ca%20href%3D%27https%3A%2F%2Fupgini.com%2F%23data_sources%27%20target%3D%27_blank%27%20rel%3D%27noopener%20noreferrer%27%3EMarkets%20data%3C%2Fa%3E%09f_autofe_mul_c256dd85%09f_events_date_week_sin1_847b5db1%09f_financial_date_crude_oil_7d_to_1y_c3e0ad17%09%2A%0A%3Ca%20href%3D%27https%3A%2F%2Fupgini.com%2F%23data_sources%27%20target%3D%27_blank%27%20rel%3D%27noopener%20noreferrer%27%3ECalendar%20data%3C%2Fa%3E%09f_autofe_div_c8eca710%09f_events_date_month_sin2_75888cbd%09f_events_date_week_sin2_e28440a5%09%2F%0A%3Ca%20href%3D%27https%3A%2F%2Fupgini.com%2F%23data_sources%27%20target%3D%27_blank%27%20rel%3D%27noopener%20noreferrer%27%3EMarkets%20data%3C%2Fa%3E%09f_autofe_div_37ebefcc%09f_financial_date_stoxx_043cbcd4%09f_financial_date_usd_eur_7d_to_1y_200e4902%09%2F%0A%3Ca%20href%3D%27https%3A%2F%2Fupgini.com%2F%23data_sources%27%20target%3D%27_blank%27%20rel%3D%27noopener%20noreferrer%27%3ECalendar%20data%3C%2Fa%3E%09f_autofe_mul_1d855285%09f_events_date_week_sin2_e28440a5%09f_events_date_year_sin3_e4c1ec0e%09%2A%0A%3Ca%20href%3D%27https%3A%2F%2Fupgini.com%2F%23data_sources%27%20target%3D%27_blank%27%20rel%3D%27noopener%20noreferrer%27%3ECalendar%20data%3C%2Fa%3E%09f_autofe_mul_d74de64a%09f_events_date_week_cos3_7525fe31%09f_events_date_year_cos2_7acbaf1b%09%2A%0A%3Ca%20href%3D%27https%3A%2F%2Fupgini.com%2F%23data_sources%27%20target%3D%27_blank%27%20rel%3D%27noopener%20noreferrer%27%3ECalendar%20data%3C%2Fa%3E%09f_autofe_div_67fcefc3%09f_events_date_month_cos4_5ae807f5%09f_events_date_week_sin2_e28440a5%09%2F%0A%3Ca%20href%3D%27https%3A%2F%2Fupgini.com%2F%23data_sources%27%20target%3D%27_blank%27%20rel%3D%27noopener%20noreferrer%27%3ECalendar%20data%3C%2Fa%3E%09f_autofe_mul_0afc7563%09f_events_date_week_sin1_847b5db1%09f_events_date_year_cos1_9014a856%09%2A%0A%3Ca%20href%3D%27https%3A%2F%2Fupgini.com%2F%23data_sources%27%20target%3D%27_blank%27%20rel%3D%27noopener%20noreferrer%27%3ECalendar%20data%3C%2Fa%3E%09f_autofe_div_93ec22ef%09f_events_date_month_cos4_5ae807f5%09f_events_date_year_sin2_59955ffd%09%2F%0A%3Ca%20href%3D%27https%3A%2F%2Fupgini.com%2F%23data_sources%27%20target%3D%27_blank%27%20rel%3D%27noopener%20noreferrer%27%3ECalendar%20data%3C%2Fa%3E%09f_autofe_div_f4e9d200%09f_events_date_year_cos2_7acbaf1b%09f_events_date_year_cos7_9580852c%09%2F%0A%3Ca%20href%3D%27https%3A%2F%2Fupgini.com%2F%23data_sources%27%20target%3D%27_blank%27%20rel%3D%27noopener%20noreferrer%27%3ECalendar%20data%3C%2Fa%3E%09f_autofe_mul_170d2263%09f_events_date_month_sin3_028c028f%09f_events_date_week_sin1_847b5db1%09%2A%0A%3Ca%20href%3D%27https%3A%2F%2Fupgini.com%2F%23data_sources%27%20target%3D%27_blank%27%20rel%3D%27noopener%20noreferrer%27%3ECalendar%20data%3C%2Fa%3E,%3Ca%20href%3D%27https%3A%2F%2Fupgini.com%2F%23data_sources%27%20target%3D%27_blank%27%20rel%3D%27noopener%20noreferrer%27%3EMarkets%20data%3C%2Fa%3E%09f_autofe_mul_b2bfad41%09f_events_date_week_cos2_b0a07cfc%09f_financial_date_vix_7d_to_1y_634c77eb%09%2A%0A%3Ca%20href%3D%27https%3A%2F%2Fupgini.com%2F%23data_sources%27%20target%3D%27_blank%27%20rel%3D%27noopener%20noreferrer%27%3ECalendar%20data%3C%2Fa%3E%09f_autofe_div_2fe3f746%09f_events_date_month_sin1_51d9011f%09f_events_date_week_sin2_e28440a5%09%2F%0A%3Ca%20href%3D%27https%3A%2F%2Fupgini.com%2F%23data_sources%27%20target%3D%27_blank%27%20rel%3D%27noopener%20noreferrer%27%3ECalendar%20data%3C%2Fa%3E,%3Ca%20href%3D%27https%3A%2F%2Fupgini.com%2F%23data_sources%27%20target%3D%27_blank%27%20rel%3D%27noopener%20noreferrer%27%3EMarkets%20data%3C%2Fa%3E%09f_autofe_div_3793ee8b%09f_events_date_month_sin2_75888cbd%09f_financial_date_silver_7d_to_7d_1y_shift_55fa8001%09%2F%0A%3Ca%20href%3D%27https%3A%2F%2Fupgini.com%2F%23data_sources%27%20target%3D%27_blank%27%20rel%3D%27noopener%20noreferrer%27%3ECalendar%20data%3C%2Fa%3E,%3Ca%20href%3D%27https%3A%2F%2Fupgini.com%2F%23data_sources%27%20target%3D%27_blank%27%20rel%3D%27noopener%20noreferrer%27%3EMarkets%20data%3C%2Fa%3E%09f_autofe_div_35f320cb%09f_events_date_week_cos2_b0a07cfc%09f_financial_date_natural_gas_7d_to_1y_7a6f300d%09%2F%0A%3Ca%20href%3D%27https%3A%2F%2Fupgini.com%2F%23data_sources%27%20target%3D%27_blank%27%20rel%3D%27noopener%20noreferrer%27%3ECalendar%20data%3C%2Fa%3E,%3Ca%20href%3D%27https%3A%2F%2Fupgini.com%2F%23data_sources%27%20target%3D%27_blank%27%20rel%3D%27noopener%20noreferrer%27%3EMarkets%20data%3C%2Fa%3E%09f_autofe_div_fdbe02b3%09f_events_date_year_cos7_9580852c%09f_financial_date_usd_daydiff_8bcdeec4%09%2F%0A%3Ca%20href%3D%27https%3A%2F%2Fupgini.com%2F%23data_sources%27%20target%3D%27_blank%27%20rel%3D%27noopener%20noreferrer%27%3ECalendar%20data%3C%2Fa%3E%09f_autofe_mul_85c324be%09f_events_date_month_sin1_51d9011f%09f_events_date_week_cos3_7525fe31%09%2A%0A%3Ca%20href%3D%27https%3A%2F%2Fupgini.com%2F%23data_sources%27%20target%3D%27_blank%27%20rel%3D%27noopener%20noreferrer%27%3EMarkets%20data%3C%2Fa%3E%09f_autofe_div_246b0e42%09f_financial_date_natural_gas_7d_to_7d_1y_shift_a5c3c07f%09f_financial_date_stoxx_043cbcd4%09%2F%0A%3Ca%20href%3D%27https%3A%2F%2Fupgini.com%2F%23data_sources%27%20target%3D%27_blank%27%20rel%3D%27noopener%20noreferrer%27%3ECalendar%20data%3C%2Fa%3E,%3Ca%20href%3D%27https%3A%2F%2Fupgini.com%2F%23data_sources%27%20target%3D%27_blank%27%20rel%3D%27noopener%20noreferrer%27%3EMarkets%20data%3C%2Fa%3E%09f_autofe_div_ab7c3e47%09f_events_date_week_cos1_f6a8c1fc%09f_financial_date_stoxx_7d_to_7d_1y_shift_abef6e91%09%2F%0A%3Ca%20href%3D%27https%3A%2F%2Fupgini.com%2F%23data_sources%27%20target%3D%27_blank%27%20rel%3D%27noopener%20noreferrer%27%3ECalendar%20data%3C%2Fa%3E%09f_autofe_mul_f4d2dd32%09f_events_date_year_sin6_af4ea895%09f_events_date_year_sin7_16d9d7c9%09%2A%0A%3Ca%20href%3D%27https%3A%2F%2Fupgini.com%2F%23data_sources%27%20target%3D%27_blank%27%20rel%3D%27noopener%20noreferrer%27%3ECalendar%20data%3C%2Fa%3E,%3Ca%20href%3D%27https%3A%2F%2Fupgini.com%2F%23data_sources%27%20target%3D%27_blank%27%20rel%3D%27noopener%20noreferrer%27%3EMarkets%20data%3C%2Fa%3E%09f_autofe_div_1d266053%09f_events_date_week_cos3_7525fe31%09f_financial_date_crude_oil_7d_to_1y_c3e0ad17%09%2F%0A%3Ca%20href%3D%27https%3A%2F%2Fupgini.com%2F%23data_sources%27%20target%3D%27_blank%27%20rel%3D%27noopener%20noreferrer%27%3EMarkets%20data%3C%2Fa%3E%09f_autofe_div_cd6f9b78%09f_financial_date_crude_oil_7d_to_1y_c3e0ad17%09f_financial_date_silver_e4e33014%09%2F%0A%3Ca%20href%3D%27https%3A%2F%2Fupgini.com%2F%23data_sources%27%20target%3D%27_blank%27%20rel%3D%27noopener%20noreferrer%27%3ECalendar%20data%3C%2Fa%3E,%3Ca%20href%3D%27https%3A%2F%2Fupgini.com%2F%23data_sources%27%20target%3D%27_blank%27%20rel%3D%27noopener%20noreferrer%27%3EMarkets%20data%3C%2Fa%3E%09f_autofe_mul_5656cb90%09f_events_date_week_cos3_7525fe31%09f_financial_date_crude_oil_1d_to_7d_471b3b15%09%2A%0A%3Ca%20href%3D%27https%3A%2F%2Fupgini.com%2F%23data_sources%27%20target%3D%27_blank%27%20rel%3D%27noopener%20noreferrer%27%3ECalendar%20data%3C%2Fa%3E,%3Ca%20href%3D%27https%3A%2F%2Fupgini.com%2F%23data_sources%27%20target%3D%27_blank%27%20rel%3D%27noopener%20noreferrer%27%3EMarkets%20data%3C%2Fa%3E%09f_autofe_div_7b1f0c57%09f_events_date_month_cos4_5ae807f5%09f_financial_date_dow_jones_daydiff_def4411a%09%2F%0A%3Ca%20href%3D%27https%3A%2F%2Fupgini.com%2F%23data_sources%27%20target%3D%27_blank%27%20rel%3D%27noopener%20noreferrer%27%3ECalendar%20data%3C%2Fa%3E%09f_autofe_mul_66e8dae9%09f_events_date_week_sin2_e28440a5%09f_events_date_year_sin6_af4ea895%09%2A%0A%3Ca%20href%3D%27https%3A%2F%2Fupgini.com%2F%23data_sources%27%20target%3D%27_blank%27%20rel%3D%27noopener%20noreferrer%27%3ECalendar%20data%3C%2Fa%3E%09f_autofe_div_3d31a06c%09f_events_date_month_sin3_028c028f%09f_events_date_week_sin1_847b5db1%09%2F%0A%3Ca%20href%3D%27https%3A%2F%2Fupgini.com%2F%23data_sources%27%20target%3D%27_blank%27%20rel%3D%27noopener%20noreferrer%27%3EMarkets%20data%3C%2Fa%3E%09f_autofe_div_d2e29591%09f_financial_date_natural_gas_92dac942%09f_financial_date_vix_7d_to_1y_634c77eb%09%2F%0A%3Ca%20href%3D%27https%3A%2F%2Fupgini.com%2F%23data_sources%27%20target%3D%27_blank%27%20rel%3D%27noopener%20noreferrer%27%3ECalendar%20data%3C%2Fa%3E%09f_autofe_div_b192a036%09f_events_date_month_sin1_51d9011f%09f_events_date_week_sin1_847b5db1%09%2F%0A%3Ca%20href%3D%27https%3A%2F%2Fupgini.com%2F%23data_sources%27%20target%3D%27_blank%27%20rel%3D%27noopener%20noreferrer%27%3ECalendar%20data%3C%2Fa%3E,%3Ca%20href%3D%27https%3A%2F%2Fupgini.com%2F%23data_sources%27%20target%3D%27_blank%27%20rel%3D%27noopener%20noreferrer%27%3EMarkets%20data%3C%2Fa%3E%09f_autofe_div_02ddabb4%09f_events_date_week_cos3_7525fe31%09f_financial_date_crude_oil_1d_to_7d_471b3b15%09%2F%0A%3Ca%20href%3D%27https%3A%2F%2Fupgini.com%2F%23data_sources%27%20target%3D%27_blank%27%20rel%3D%27noopener%20noreferrer%27%3ECalendar%20data%3C%2Fa%3E%09f_autofe_mul_c4bd8f14%09f_events_date_week_sin2_e28440a5%09f_events_date_year_sin8_6be64013%09%2A%0A%3Ca%20href%3D%27https%3A%2F%2Fupgini.com%2F%23data_sources%27%20target%3D%27_blank%27%20rel%3D%27noopener%20noreferrer%27%3EMarkets%20data%3C%2Fa%3E%09f_autofe_div_942365dd%09f_financial_date_natural_gas_7d_to_1y_7a6f300d%09f_financial_date_stoxx_043cbcd4%09%2F%0A'))>📂 Copy</button>\n",
              "                <a href='mailto:<Share with...>?subject=Relevant external data sources from Upgini.com&body=Sources%09Feature%20name%09Feature%201%09Feature%202%09Function%0A%3Ca%20href%3D%27https%3A%2F%2Fupgini.com%2F%23data_sources%27%20target%3D%27_blank%27%20rel%3D%27noopener%20noreferrer%27%3ECalendar%20data%3C%2Fa%3E,%3Ca%20href%3D%27https%3A%2F%2Fupgini.com%2F%23data_sources%27%20target%3D%27_blank%27%20rel%3D%27noopener%20noreferrer%27%3EMarkets%20data%3C%2Fa%3E%09f_autofe_div_89c56a5f%09f_events_date_year_cos1_9014a856%09f_financial_date_natural_gas_7d_to_7d_1y_shift_a5c3c07f%09%2F%0A%3Ca%20href%3D%27https%3A%2F%2Fupgini.com%2F%23data_sources%27%20target%3D%27_blank%27%20rel%3D%27noopener%20noreferrer%27%3ECalendar%20data%3C%2Fa%3E,%3Ca%20href%3D%27https%3A%2F%2Fupgini.com%2F%23data_sources%27%20target%3D%27_blank%27%20rel%3D%27noopener%20noreferrer%27%3EMarkets%20data%3C%2Fa%3E%09f_autofe_div_0a5adf97%09f_events_date_year_cos1_9014a856%09f_financial_date_natural_gas_92dac942%09%2F%0A%3Ca%20href%3D%27https%3A%2F%2Fupgini.com%2F%23data_sources%27%20target%3D%27_blank%27%20rel%3D%27noopener%20noreferrer%27%3ECalendar%20data%3C%2Fa%3E,%3Ca%20href%3D%27https%3A%2F%2Fupgini.com%2F%23data_sources%27%20target%3D%27_blank%27%20rel%3D%27noopener%20noreferrer%27%3EMarkets%20data%3C%2Fa%3E%09f_autofe_div_270392eb%09f_events_date_year_cos1_9014a856%09f_financial_date_vix_7d_to_7d_1y_shift_63e41986%09%2F%0A%3Ca%20href%3D%27https%3A%2F%2Fupgini.com%2F%23data_sources%27%20target%3D%27_blank%27%20rel%3D%27noopener%20noreferrer%27%3ECalendar%20data%3C%2Fa%3E,%3Ca%20href%3D%27https%3A%2F%2Fupgini.com%2F%23data_sources%27%20target%3D%27_blank%27%20rel%3D%27noopener%20noreferrer%27%3EMarkets%20data%3C%2Fa%3E%09f_autofe_div_a152c923%09f_events_date_year_cos1_9014a856%09f_financial_date_stoxx_043cbcd4%09%2F%0A%3Ca%20href%3D%27https%3A%2F%2Fupgini.com%2F%23data_sources%27%20target%3D%27_blank%27%20rel%3D%27noopener%20noreferrer%27%3ECalendar%20data%3C%2Fa%3E,%3Ca%20href%3D%27https%3A%2F%2Fupgini.com%2F%23data_sources%27%20target%3D%27_blank%27%20rel%3D%27noopener%20noreferrer%27%3EMarkets%20data%3C%2Fa%3E%09f_autofe_mul_af6d166b%09f_events_date_week_cos3_7525fe31%09f_financial_date_vix_7d_to_1y_634c77eb%09%2A%0A%3Ca%20href%3D%27https%3A%2F%2Fupgini.com%2F%23data_sources%27%20target%3D%27_blank%27%20rel%3D%27noopener%20noreferrer%27%3ECalendar%20data%3C%2Fa%3E,%3Ca%20href%3D%27https%3A%2F%2Fupgini.com%2F%23data_sources%27%20target%3D%27_blank%27%20rel%3D%27noopener%20noreferrer%27%3EMarkets%20data%3C%2Fa%3E%09f_autofe_mul_200a930f%09f_events_date_year_cos1_9014a856%09f_financial_date_vix_7d_to_7d_1y_shift_63e41986%09%2A%0A%3Ca%20href%3D%27https%3A%2F%2Fupgini.com%2F%23data_sources%27%20target%3D%27_blank%27%20rel%3D%27noopener%20noreferrer%27%3ECalendar%20data%3C%2Fa%3E,%3Ca%20href%3D%27https%3A%2F%2Fupgini.com%2F%23data_sources%27%20target%3D%27_blank%27%20rel%3D%27noopener%20noreferrer%27%3EMarkets%20data%3C%2Fa%3E%09f_autofe_mul_0cc09d2d%09f_events_date_year_cos1_9014a856%09f_financial_date_crude_oil_1f195998%09%2A%0A%3Ca%20href%3D%27https%3A%2F%2Fupgini.com%2F%23data_sources%27%20target%3D%27_blank%27%20rel%3D%27noopener%20noreferrer%27%3ECalendar%20data%3C%2Fa%3E,%3Ca%20href%3D%27https%3A%2F%2Fupgini.com%2F%23data_sources%27%20target%3D%27_blank%27%20rel%3D%27noopener%20noreferrer%27%3EMarkets%20data%3C%2Fa%3E%09f_autofe_div_34622286%09f_events_date_week_sin1_847b5db1%09f_financial_date_snp500_7d_to_1y_378b9f99%09%2F%0A%3Ca%20href%3D%27https%3A%2F%2Fupgini.com%2F%23data_sources%27%20target%3D%27_blank%27%20rel%3D%27noopener%20noreferrer%27%3ECalendar%20data%3C%2Fa%3E,%3Ca%20href%3D%27https%3A%2F%2Fupgini.com%2F%23data_sources%27%20target%3D%27_blank%27%20rel%3D%27noopener%20noreferrer%27%3EMarkets%20data%3C%2Fa%3E%09f_autofe_div_3e22df83%09f_events_date_week_sin1_847b5db1%09f_financial_date_crude_oil_1f195998%09%2F%0A%3Ca%20href%3D%27https%3A%2F%2Fupgini.com%2F%23data_sources%27%20target%3D%27_blank%27%20rel%3D%27noopener%20noreferrer%27%3ECalendar%20data%3C%2Fa%3E,%3Ca%20href%3D%27https%3A%2F%2Fupgini.com%2F%23data_sources%27%20target%3D%27_blank%27%20rel%3D%27noopener%20noreferrer%27%3EMarkets%20data%3C%2Fa%3E%09f_autofe_mul_0b4c09c3%09f_events_date_week_sin1_847b5db1%09f_financial_date_snp500_7d_to_1y_378b9f99%09%2A%0A%3Ca%20href%3D%27https%3A%2F%2Fupgini.com%2F%23data_sources%27%20target%3D%27_blank%27%20rel%3D%27noopener%20noreferrer%27%3ECalendar%20data%3C%2Fa%3E%09f_autofe_div_48404110%09f_events_date_month_cos3_a9200432%09f_events_date_week_sin1_847b5db1%09%2F%0A%3Ca%20href%3D%27https%3A%2F%2Fupgini.com%2F%23data_sources%27%20target%3D%27_blank%27%20rel%3D%27noopener%20noreferrer%27%3ECalendar%20data%3C%2Fa%3E,%3Ca%20href%3D%27https%3A%2F%2Fupgini.com%2F%23data_sources%27%20target%3D%27_blank%27%20rel%3D%27noopener%20noreferrer%27%3EMarkets%20data%3C%2Fa%3E%09f_autofe_mul_08e89348%09f_events_date_week_sin1_847b5db1%09f_financial_date_crude_oil_1f195998%09%2A%0A%3Ca%20href%3D%27https%3A%2F%2Fupgini.com%2F%23data_sources%27%20target%3D%27_blank%27%20rel%3D%27noopener%20noreferrer%27%3ECalendar%20data%3C%2Fa%3E,%3Ca%20href%3D%27https%3A%2F%2Fupgini.com%2F%23data_sources%27%20target%3D%27_blank%27%20rel%3D%27noopener%20noreferrer%27%3EMarkets%20data%3C%2Fa%3E%09f_autofe_mul_6a97c336%09f_events_date_week_cos1_f6a8c1fc%09f_financial_date_vix_7d_to_1y_634c77eb%09%2A%0A%3Ca%20href%3D%27https%3A%2F%2Fupgini.com%2F%23data_sources%27%20target%3D%27_blank%27%20rel%3D%27noopener%20noreferrer%27%3ECalendar%20data%3C%2Fa%3E%09f_autofe_div_b97cf188%09f_events_date_week_cos3_7525fe31%09f_events_date_week_sin2_e28440a5%09%2F%0A%3Ca%20href%3D%27https%3A%2F%2Fupgini.com%2F%23data_sources%27%20target%3D%27_blank%27%20rel%3D%27noopener%20noreferrer%27%3ECalendar%20data%3C%2Fa%3E,%3Ca%20href%3D%27https%3A%2F%2Fupgini.com%2F%23data_sources%27%20target%3D%27_blank%27%20rel%3D%27noopener%20noreferrer%27%3EMarkets%20data%3C%2Fa%3E%09f_autofe_mul_9198eeb1%09f_events_date_week_sin2_e28440a5%09f_financial_date_dow_jones_65aaa996%09%2A%0A%3Ca%20href%3D%27https%3A%2F%2Fupgini.com%2F%23data_sources%27%20target%3D%27_blank%27%20rel%3D%27noopener%20noreferrer%27%3EMarkets%20data%3C%2Fa%3E%09f_autofe_div_6ba612bf%09f_financial_date_stoxx_043cbcd4%09f_financial_date_stoxx_daydiff_763d8dcf%09%2F%0A%3Ca%20href%3D%27https%3A%2F%2Fupgini.com%2F%23data_sources%27%20target%3D%27_blank%27%20rel%3D%27noopener%20noreferrer%27%3ECalendar%20data%3C%2Fa%3E,%3Ca%20href%3D%27https%3A%2F%2Fupgini.com%2F%23data_sources%27%20target%3D%27_blank%27%20rel%3D%27noopener%20noreferrer%27%3EMarkets%20data%3C%2Fa%3E%09f_autofe_div_1ce27d18%09f_events_date_week_sin1_847b5db1%09f_financial_date_crude_oil_7d_to_1y_c3e0ad17%09%2F%0A%3Ca%20href%3D%27https%3A%2F%2Fupgini.com%2F%23data_sources%27%20target%3D%27_blank%27%20rel%3D%27noopener%20noreferrer%27%3ECalendar%20data%3C%2Fa%3E,%3Ca%20href%3D%27https%3A%2F%2Fupgini.com%2F%23data_sources%27%20target%3D%27_blank%27%20rel%3D%27noopener%20noreferrer%27%3EMarkets%20data%3C%2Fa%3E%09f_autofe_mul_c256dd85%09f_events_date_week_sin1_847b5db1%09f_financial_date_crude_oil_7d_to_1y_c3e0ad17%09%2A%0A%3Ca%20href%3D%27https%3A%2F%2Fupgini.com%2F%23data_sources%27%20target%3D%27_blank%27%20rel%3D%27noopener%20noreferrer%27%3ECalendar%20data%3C%2Fa%3E%09f_autofe_div_c8eca710%09f_events_date_month_sin2_75888cbd%09f_events_date_week_sin2_e28440a5%09%2F%0A%3Ca%20href%3D%27https%3A%2F%2Fupgini.com%2F%23data_sources%27%20target%3D%27_blank%27%20rel%3D%27noopener%20noreferrer%27%3EMarkets%20data%3C%2Fa%3E%09f_autofe_div_37ebefcc%09f_financial_date_stoxx_043cbcd4%09f_financial_date_usd_eur_7d_to_1y_200e4902%09%2F%0A%3Ca%20href%3D%27https%3A%2F%2Fupgini.com%2F%23data_sources%27%20target%3D%27_blank%27%20rel%3D%27noopener%20noreferrer%27%3ECalendar%20data%3C%2Fa%3E%09f_autofe_mul_1d855285%09f_events_date_week_sin2_e28440a5%09f_events_date_year_sin3_e4c1ec0e%09%2A%0A%3Ca%20href%3D%27https%3A%2F%2Fupgini.com%2F%23data_sources%27%20target%3D%27_blank%27%20rel%3D%27noopener%20noreferrer%27%3ECalendar%20data%3C%2Fa%3E%09f_autofe_mul_d74de64a%09f_events_date_week_cos3_7525fe31%09f_events_date_year_cos2_7acbaf1b%09%2A%0A%3Ca%20href%3D%27https%3A%2F%2Fupgini.com%2F%23data_sources%27%20target%3D%27_blank%27%20rel%3D%27noopener%20noreferrer%27%3ECalendar%20data%3C%2Fa%3E%09f_autofe_div_67fcefc3%09f_events_date_month_cos4_5ae807f5%09f_events_date_week_sin2_e28440a5%09%2F%0A%3Ca%20href%3D%27https%3A%2F%2Fupgini.com%2F%23data_sources%27%20target%3D%27_blank%27%20rel%3D%27noopener%20noreferrer%27%3ECalendar%20data%3C%2Fa%3E%09f_autofe_mul_0afc7563%09f_events_date_week_sin1_847b5db1%09f_events_date_year_cos1_9014a856%09%2A%0A%3Ca%20href%3D%27https%3A%2F%2Fupgini.com%2F%23data_sources%27%20target%3D%27_blank%27%20rel%3D%27noopener%20noreferrer%27%3ECalendar%20data%3C%2Fa%3E%09f_autofe_div_93ec22ef%09f_events_date_month_cos4_5ae807f5%09f_events_date_year_sin2_59955ffd%09%2F%0A%3Ca%20href%3D%27https%3A%2F%2Fupgini.com%2F%23data_sources%27%20target%3D%27_blank%27%20rel%3D%27noopener%20noreferrer%27%3ECalendar%20data%3C%2Fa%3E%09f_autofe_div_f4e9d200%09f_events_date_year_cos2_7acbaf1b%09f_events_date_year_cos7_9580852c%09%2F%0A%3Ca%20href%3D%27https%3A%2F%2Fupgini.com%2F%23data_sources%27%20target%3D%27_blank%27%20rel%3D%27noopener%20noreferrer%27%3ECalendar%20data%3C%2Fa%3E%09f_autofe_mul_170d2263%09f_events_date_month_sin3_028c028f%09f_events_date_week_sin1_847b5db1%09%2A%0A%3Ca%20href%3D%27https%3A%2F%2Fupgini.com%2F%23data_sources%27%20target%3D%27_blank%27%20rel%3D%27noopener%20noreferrer%27%3ECalendar%20data%3C%2Fa%3E,%3Ca%20href%3D%27https%3A%2F%2Fupgini.com%2F%23data_sources%27%20target%3D%27_blank%27%20rel%3D%27noopener%20noreferrer%27%3EMarkets%20data%3C%2Fa%3E%09f_autofe_mul_b2bfad41%09f_events_date_week_cos2_b0a07cfc%09f_financial_date_vix_7d_to_1y_634c77eb%09%2A%0A%3Ca%20href%3D%27https%3A%2F%2Fupgini.com%2F%23data_sources%27%20target%3D%27_blank%27%20rel%3D%27noopener%20noreferrer%27%3ECalendar%20data%3C%2Fa%3E%09f_autofe_div_2fe3f746%09f_events_date_month_sin1_51d9011f%09f_events_date_week_sin2_e28440a5%09%2F%0A%3Ca%20href%3D%27https%3A%2F%2Fupgini.com%2F%23data_sources%27%20target%3D%27_blank%27%20rel%3D%27noopener%20noreferrer%27%3ECalendar%20data%3C%2Fa%3E,%3Ca%20href%3D%27https%3A%2F%2Fupgini.com%2F%23data_sources%27%20target%3D%27_blank%27%20rel%3D%27noopener%20noreferrer%27%3EMarkets%20data%3C%2Fa%3E%09f_autofe_div_3793ee8b%09f_events_date_month_sin2_75888cbd%09f_financial_date_silver_7d_to_7d_1y_shift_55fa8001%09%2F%0A%3Ca%20href%3D%27https%3A%2F%2Fupgini.com%2F%23data_sources%27%20target%3D%27_blank%27%20rel%3D%27noopener%20noreferrer%27%3ECalendar%20data%3C%2Fa%3E,%3Ca%20href%3D%27https%3A%2F%2Fupgini.com%2F%23data_sources%27%20target%3D%27_blank%27%20rel%3D%27noopener%20noreferrer%27%3EMarkets%20data%3C%2Fa%3E%09f_autofe_div_35f320cb%09f_events_date_week_cos2_b0a07cfc%09f_financial_date_natural_gas_7d_to_1y_7a6f300d%09%2F%0A%3Ca%20href%3D%27https%3A%2F%2Fupgini.com%2F%23data_sources%27%20target%3D%27_blank%27%20rel%3D%27noopener%20noreferrer%27%3ECalendar%20data%3C%2Fa%3E,%3Ca%20href%3D%27https%3A%2F%2Fupgini.com%2F%23data_sources%27%20target%3D%27_blank%27%20rel%3D%27noopener%20noreferrer%27%3EMarkets%20data%3C%2Fa%3E%09f_autofe_div_fdbe02b3%09f_events_date_year_cos7_9580852c%09f_financial_date_usd_daydiff_8bcdeec4%09%2F%0A%3Ca%20href%3D%27https%3A%2F%2Fupgini.com%2F%23data_sources%27%20target%3D%27_blank%27%20rel%3D%27noopener%20noreferrer%27%3ECalendar%20data%3C%2Fa%3E%09f_autofe_mul_85c324be%09f_events_date_month_sin1_51d9011f%09f_events_date_week_cos3_7525fe31%09%2A%0A%3Ca%20href%3D%27https%3A%2F%2Fupgini.com%2F%23data_sources%27%20target%3D%27_blank%27%20rel%3D%27noopener%20noreferrer%27%3EMarkets%20data%3C%2Fa%3E%09f_autofe_div_246b0e42%09f_financial_date_natural_gas_7d_to_7d_1y_shift_a5c3c07f%09f_financial_date_stoxx_043cbcd4%09%2F%0A%3Ca%20href%3D%27https%3A%2F%2Fupgini.com%2F%23data_sources%27%20target%3D%27_blank%27%20rel%3D%27noopener%20noreferrer%27%3ECalendar%20data%3C%2Fa%3E,%3Ca%20href%3D%27https%3A%2F%2Fupgini.com%2F%23data_sources%27%20target%3D%27_blank%27%20rel%3D%27noopener%20noreferrer%27%3EMarkets%20data%3C%2Fa%3E%09f_autofe_div_ab7c3e47%09f_events_date_week_cos1_f6a8c1fc%09f_financial_date_stoxx_7d_to_7d_1y_shift_abef6e91%09%2F%0A%3Ca%20href%3D%27https%3A%2F%2Fupgini.com%2F%23data_sources%27%20target%3D%27_blank%27%20rel%3D%27noopener%20noreferrer%27%3ECalendar%20data%3C%2Fa%3E%09f_autofe_mul_f4d2dd32%09f_events_date_year_sin6_af4ea895%09f_events_date_year_sin7_16d9d7c9%09%2A%0A%3Ca%20href%3D%27https%3A%2F%2Fupgini.com%2F%23data_sources%27%20target%3D%27_blank%27%20rel%3D%27noopener%20noreferrer%27%3ECalendar%20data%3C%2Fa%3E,%3Ca%20href%3D%27https%3A%2F%2Fupgini.com%2F%23data_sources%27%20target%3D%27_blank%27%20rel%3D%27noopener%20noreferrer%27%3EMarkets%20data%3C%2Fa%3E%09f_autofe_div_1d266053%09f_events_date_week_cos3_7525fe31%09f_financial_date_crude_oil_7d_to_1y_c3e0ad17%09%2F%0A%3Ca%20href%3D%27https%3A%2F%2Fupgini.com%2F%23data_sources%27%20target%3D%27_blank%27%20rel%3D%27noopener%20noreferrer%27%3EMarkets%20data%3C%2Fa%3E%09f_autofe_div_cd6f9b78%09f_financial_date_crude_oil_7d_to_1y_c3e0ad17%09f_financial_date_silver_e4e33014%09%2F%0A%3Ca%20href%3D%27https%3A%2F%2Fupgini.com%2F%23data_sources%27%20target%3D%27_blank%27%20rel%3D%27noopener%20noreferrer%27%3ECalendar%20data%3C%2Fa%3E,%3Ca%20href%3D%27https%3A%2F%2Fupgini.com%2F%23data_sources%27%20target%3D%27_blank%27%20rel%3D%27noopener%20noreferrer%27%3EMarkets%20data%3C%2Fa%3E%09f_autofe_mul_5656cb90%09f_events_date_week_cos3_7525fe31%09f_financial_date_crude_oil_1d_to_7d_471b3b15%09%2A%0A%3Ca%20href%3D%27https%3A%2F%2Fupgini.com%2F%23data_sources%27%20target%3D%27_blank%27%20rel%3D%27noopener%20noreferrer%27%3ECalendar%20data%3C%2Fa%3E,%3Ca%20href%3D%27https%3A%2F%2Fupgini.com%2F%23data_sources%27%20target%3D%27_blank%27%20rel%3D%27noopener%20noreferrer%27%3EMarkets%20data%3C%2Fa%3E%09f_autofe_div_7b1f0c57%09f_events_date_month_cos4_5ae807f5%09f_financial_date_dow_jones_daydiff_def4411a%09%2F%0A%3Ca%20href%3D%27https%3A%2F%2Fupgini.com%2F%23data_sources%27%20target%3D%27_blank%27%20rel%3D%27noopener%20noreferrer%27%3ECalendar%20data%3C%2Fa%3E%09f_autofe_mul_66e8dae9%09f_events_date_week_sin2_e28440a5%09f_events_date_year_sin6_af4ea895%09%2A%0A%3Ca%20href%3D%27https%3A%2F%2Fupgini.com%2F%23data_sources%27%20target%3D%27_blank%27%20rel%3D%27noopener%20noreferrer%27%3ECalendar%20data%3C%2Fa%3E%09f_autofe_div_3d31a06c%09f_events_date_month_sin3_028c028f%09f_events_date_week_sin1_847b5db1%09%2F%0A%3Ca%20href%3D%27https%3A%2F%2Fupgini.com%2F%23data_sources%27%20target%3D%27_blank%27%20rel%3D%27noopener%20noreferrer%27%3EMarkets%20data%3C%2Fa%3E%09f_autofe_div_d2e29591%09f_financial_date_natural_gas_92dac942%09f_financial_date_vix_7d_to_1y_634c77eb%09%2F%0A%3Ca%20href%3D%27https%3A%2F%2Fupgini.com%2F%23data_sources%27%20target%3D%27_blank%27%20rel%3D%27noopener%20noreferrer%27%3ECalendar%20data%3C%2Fa%3E%09f_autofe_div_b192a036%09f_events_date_month_sin1_51d9011f%09f_events_date_week_sin1_847b5db1%09%2F%0A%3Ca%20href%3D%27https%3A%2F%2Fupgini.com%2F%23data_sources%27%20target%3D%27_blank%27%20rel%3D%27noopener%20noreferrer%27%3ECalendar%20data%3C%2Fa%3E,%3Ca%20href%3D%27https%3A%2F%2Fupgini.com%2F%23data_sources%27%20target%3D%27_blank%27%20rel%3D%27noopener%20noreferrer%27%3EMarkets%20data%3C%2Fa%3E%09f_autofe_div_02ddabb4%09f_events_date_week_cos3_7525fe31%09f_financial_date_crude_oil_1d_to_7d_471b3b15%09%2F%0A%3Ca%20href%3D%27https%3A%2F%2Fupgini.com%2F%23data_sources%27%20target%3D%27_blank%27%20rel%3D%27noopener%20noreferrer%27%3ECalendar%20data%3C%2Fa%3E%09f_autofe_mul_c4bd8f14%09f_events_date_week_sin2_e28440a5%09f_events_date_year_sin8_6be64013%09%2A%0A%3Ca%20href%3D%27https%3A%2F%2Fupgini.com%2F%23data_sources%27%20target%3D%27_blank%27%20rel%3D%27noopener%20noreferrer%27%3EMarkets%20data%3C%2Fa%3E%09f_autofe_div_942365dd%09f_financial_date_natural_gas_7d_to_1y_7a6f300d%09f_financial_date_stoxx_043cbcd4%09%2F%0A'>\n",
              "                    <button>📨 Share</button>\n",
              "                </a>\n",
              "            </div>\n",
              "            <table class='upgini-df'><thead><th>Sources</th><th>Feature name</th><th>Feature 1</th><th>Feature 2</th><th>Function</th></thead><tbody><tr><td class='upgini-text'><a href='https://upgini.com/#data_sources' target='_blank' rel='noopener noreferrer'>Calendar data</a>,<a href='https://upgini.com/#data_sources' target='_blank' rel='noopener noreferrer'>Markets data</a></td><td class='upgini-text'>f_autofe_div_89c56a5f</td><td class='upgini-text'>f_events_date_year_cos1_9014a856</td><td class='upgini-text'>f_financial_date_natural_gas_7d_to_7d_1y_shift_a5c3c07f</td><td class='upgini-text'>/</td></tr><tr><td class='upgini-text'><a href='https://upgini.com/#data_sources' target='_blank' rel='noopener noreferrer'>Calendar data</a>,<a href='https://upgini.com/#data_sources' target='_blank' rel='noopener noreferrer'>Markets data</a></td><td class='upgini-text'>f_autofe_div_0a5adf97</td><td class='upgini-text'>f_events_date_year_cos1_9014a856</td><td class='upgini-text'>f_financial_date_natural_gas_92dac942</td><td class='upgini-text'>/</td></tr><tr><td class='upgini-text'><a href='https://upgini.com/#data_sources' target='_blank' rel='noopener noreferrer'>Calendar data</a>,<a href='https://upgini.com/#data_sources' target='_blank' rel='noopener noreferrer'>Markets data</a></td><td class='upgini-text'>f_autofe_div_270392eb</td><td class='upgini-text'>f_events_date_year_cos1_9014a856</td><td class='upgini-text'>f_financial_date_vix_7d_to_7d_1y_shift_63e41986</td><td class='upgini-text'>/</td></tr><tr><td class='upgini-text'><a href='https://upgini.com/#data_sources' target='_blank' rel='noopener noreferrer'>Calendar data</a>,<a href='https://upgini.com/#data_sources' target='_blank' rel='noopener noreferrer'>Markets data</a></td><td class='upgini-text'>f_autofe_div_a152c923</td><td class='upgini-text'>f_events_date_year_cos1_9014a856</td><td class='upgini-text'>f_financial_date_stoxx_043cbcd4</td><td class='upgini-text'>/</td></tr><tr><td class='upgini-text'><a href='https://upgini.com/#data_sources' target='_blank' rel='noopener noreferrer'>Calendar data</a>,<a href='https://upgini.com/#data_sources' target='_blank' rel='noopener noreferrer'>Markets data</a></td><td class='upgini-text'>f_autofe_mul_af6d166b</td><td class='upgini-text'>f_events_date_week_cos3_7525fe31</td><td class='upgini-text'>f_financial_date_vix_7d_to_1y_634c77eb</td><td class='upgini-text'>*</td></tr><tr><td class='upgini-text'><a href='https://upgini.com/#data_sources' target='_blank' rel='noopener noreferrer'>Calendar data</a>,<a href='https://upgini.com/#data_sources' target='_blank' rel='noopener noreferrer'>Markets data</a></td><td class='upgini-text'>f_autofe_mul_200a930f</td><td class='upgini-text'>f_events_date_year_cos1_9014a856</td><td class='upgini-text'>f_financial_date_vix_7d_to_7d_1y_shift_63e41986</td><td class='upgini-text'>*</td></tr><tr><td class='upgini-text'><a href='https://upgini.com/#data_sources' target='_blank' rel='noopener noreferrer'>Calendar data</a>,<a href='https://upgini.com/#data_sources' target='_blank' rel='noopener noreferrer'>Markets data</a></td><td class='upgini-text'>f_autofe_mul_0cc09d2d</td><td class='upgini-text'>f_events_date_year_cos1_9014a856</td><td class='upgini-text'>f_financial_date_crude_oil_1f195998</td><td class='upgini-text'>*</td></tr><tr><td class='upgini-text'><a href='https://upgini.com/#data_sources' target='_blank' rel='noopener noreferrer'>Calendar data</a>,<a href='https://upgini.com/#data_sources' target='_blank' rel='noopener noreferrer'>Markets data</a></td><td class='upgini-text'>f_autofe_div_34622286</td><td class='upgini-text'>f_events_date_week_sin1_847b5db1</td><td class='upgini-text'>f_financial_date_snp500_7d_to_1y_378b9f99</td><td class='upgini-text'>/</td></tr><tr><td class='upgini-text'><a href='https://upgini.com/#data_sources' target='_blank' rel='noopener noreferrer'>Calendar data</a>,<a href='https://upgini.com/#data_sources' target='_blank' rel='noopener noreferrer'>Markets data</a></td><td class='upgini-text'>f_autofe_div_3e22df83</td><td class='upgini-text'>f_events_date_week_sin1_847b5db1</td><td class='upgini-text'>f_financial_date_crude_oil_1f195998</td><td class='upgini-text'>/</td></tr><tr><td class='upgini-text'><a href='https://upgini.com/#data_sources' target='_blank' rel='noopener noreferrer'>Calendar data</a>,<a href='https://upgini.com/#data_sources' target='_blank' rel='noopener noreferrer'>Markets data</a></td><td class='upgini-text'>f_autofe_mul_0b4c09c3</td><td class='upgini-text'>f_events_date_week_sin1_847b5db1</td><td class='upgini-text'>f_financial_date_snp500_7d_to_1y_378b9f99</td><td class='upgini-text'>*</td></tr><tr><td class='upgini-text'><a href='https://upgini.com/#data_sources' target='_blank' rel='noopener noreferrer'>Calendar data</a></td><td class='upgini-text'>f_autofe_div_48404110</td><td class='upgini-text'>f_events_date_month_cos3_a9200432</td><td class='upgini-text'>f_events_date_week_sin1_847b5db1</td><td class='upgini-text'>/</td></tr><tr><td class='upgini-text'><a href='https://upgini.com/#data_sources' target='_blank' rel='noopener noreferrer'>Calendar data</a>,<a href='https://upgini.com/#data_sources' target='_blank' rel='noopener noreferrer'>Markets data</a></td><td class='upgini-text'>f_autofe_mul_08e89348</td><td class='upgini-text'>f_events_date_week_sin1_847b5db1</td><td class='upgini-text'>f_financial_date_crude_oil_1f195998</td><td class='upgini-text'>*</td></tr><tr><td class='upgini-text'><a href='https://upgini.com/#data_sources' target='_blank' rel='noopener noreferrer'>Calendar data</a>,<a href='https://upgini.com/#data_sources' target='_blank' rel='noopener noreferrer'>Markets data</a></td><td class='upgini-text'>f_autofe_mul_6a97c336</td><td class='upgini-text'>f_events_date_week_cos1_f6a8c1fc</td><td class='upgini-text'>f_financial_date_vix_7d_to_1y_634c77eb</td><td class='upgini-text'>*</td></tr><tr><td class='upgini-text'><a href='https://upgini.com/#data_sources' target='_blank' rel='noopener noreferrer'>Calendar data</a></td><td class='upgini-text'>f_autofe_div_b97cf188</td><td class='upgini-text'>f_events_date_week_cos3_7525fe31</td><td class='upgini-text'>f_events_date_week_sin2_e28440a5</td><td class='upgini-text'>/</td></tr><tr><td class='upgini-text'><a href='https://upgini.com/#data_sources' target='_blank' rel='noopener noreferrer'>Calendar data</a>,<a href='https://upgini.com/#data_sources' target='_blank' rel='noopener noreferrer'>Markets data</a></td><td class='upgini-text'>f_autofe_mul_9198eeb1</td><td class='upgini-text'>f_events_date_week_sin2_e28440a5</td><td class='upgini-text'>f_financial_date_dow_jones_65aaa996</td><td class='upgini-text'>*</td></tr><tr><td class='upgini-text'><a href='https://upgini.com/#data_sources' target='_blank' rel='noopener noreferrer'>Markets data</a></td><td class='upgini-text'>f_autofe_div_6ba612bf</td><td class='upgini-text'>f_financial_date_stoxx_043cbcd4</td><td class='upgini-text'>f_financial_date_stoxx_daydiff_763d8dcf</td><td class='upgini-text'>/</td></tr><tr><td class='upgini-text'><a href='https://upgini.com/#data_sources' target='_blank' rel='noopener noreferrer'>Calendar data</a>,<a href='https://upgini.com/#data_sources' target='_blank' rel='noopener noreferrer'>Markets data</a></td><td class='upgini-text'>f_autofe_div_1ce27d18</td><td class='upgini-text'>f_events_date_week_sin1_847b5db1</td><td class='upgini-text'>f_financial_date_crude_oil_7d_to_1y_c3e0ad17</td><td class='upgini-text'>/</td></tr><tr><td class='upgini-text'><a href='https://upgini.com/#data_sources' target='_blank' rel='noopener noreferrer'>Calendar data</a>,<a href='https://upgini.com/#data_sources' target='_blank' rel='noopener noreferrer'>Markets data</a></td><td class='upgini-text'>f_autofe_mul_c256dd85</td><td class='upgini-text'>f_events_date_week_sin1_847b5db1</td><td class='upgini-text'>f_financial_date_crude_oil_7d_to_1y_c3e0ad17</td><td class='upgini-text'>*</td></tr><tr><td class='upgini-text'><a href='https://upgini.com/#data_sources' target='_blank' rel='noopener noreferrer'>Calendar data</a></td><td class='upgini-text'>f_autofe_div_c8eca710</td><td class='upgini-text'>f_events_date_month_sin2_75888cbd</td><td class='upgini-text'>f_events_date_week_sin2_e28440a5</td><td class='upgini-text'>/</td></tr><tr><td class='upgini-text'><a href='https://upgini.com/#data_sources' target='_blank' rel='noopener noreferrer'>Markets data</a></td><td class='upgini-text'>f_autofe_div_37ebefcc</td><td class='upgini-text'>f_financial_date_stoxx_043cbcd4</td><td class='upgini-text'>f_financial_date_usd_eur_7d_to_1y_200e4902</td><td class='upgini-text'>/</td></tr><tr><td class='upgini-text'><a href='https://upgini.com/#data_sources' target='_blank' rel='noopener noreferrer'>Calendar data</a></td><td class='upgini-text'>f_autofe_mul_1d855285</td><td class='upgini-text'>f_events_date_week_sin2_e28440a5</td><td class='upgini-text'>f_events_date_year_sin3_e4c1ec0e</td><td class='upgini-text'>*</td></tr><tr><td class='upgini-text'><a href='https://upgini.com/#data_sources' target='_blank' rel='noopener noreferrer'>Calendar data</a></td><td class='upgini-text'>f_autofe_mul_d74de64a</td><td class='upgini-text'>f_events_date_week_cos3_7525fe31</td><td class='upgini-text'>f_events_date_year_cos2_7acbaf1b</td><td class='upgini-text'>*</td></tr><tr><td class='upgini-text'><a href='https://upgini.com/#data_sources' target='_blank' rel='noopener noreferrer'>Calendar data</a></td><td class='upgini-text'>f_autofe_div_67fcefc3</td><td class='upgini-text'>f_events_date_month_cos4_5ae807f5</td><td class='upgini-text'>f_events_date_week_sin2_e28440a5</td><td class='upgini-text'>/</td></tr><tr><td class='upgini-text'><a href='https://upgini.com/#data_sources' target='_blank' rel='noopener noreferrer'>Calendar data</a></td><td class='upgini-text'>f_autofe_mul_0afc7563</td><td class='upgini-text'>f_events_date_week_sin1_847b5db1</td><td class='upgini-text'>f_events_date_year_cos1_9014a856</td><td class='upgini-text'>*</td></tr><tr><td class='upgini-text'><a href='https://upgini.com/#data_sources' target='_blank' rel='noopener noreferrer'>Calendar data</a></td><td class='upgini-text'>f_autofe_div_93ec22ef</td><td class='upgini-text'>f_events_date_month_cos4_5ae807f5</td><td class='upgini-text'>f_events_date_year_sin2_59955ffd</td><td class='upgini-text'>/</td></tr><tr><td class='upgini-text'><a href='https://upgini.com/#data_sources' target='_blank' rel='noopener noreferrer'>Calendar data</a></td><td class='upgini-text'>f_autofe_div_f4e9d200</td><td class='upgini-text'>f_events_date_year_cos2_7acbaf1b</td><td class='upgini-text'>f_events_date_year_cos7_9580852c</td><td class='upgini-text'>/</td></tr><tr><td class='upgini-text'><a href='https://upgini.com/#data_sources' target='_blank' rel='noopener noreferrer'>Calendar data</a></td><td class='upgini-text'>f_autofe_mul_170d2263</td><td class='upgini-text'>f_events_date_month_sin3_028c028f</td><td class='upgini-text'>f_events_date_week_sin1_847b5db1</td><td class='upgini-text'>*</td></tr><tr><td class='upgini-text'><a href='https://upgini.com/#data_sources' target='_blank' rel='noopener noreferrer'>Calendar data</a>,<a href='https://upgini.com/#data_sources' target='_blank' rel='noopener noreferrer'>Markets data</a></td><td class='upgini-text'>f_autofe_mul_b2bfad41</td><td class='upgini-text'>f_events_date_week_cos2_b0a07cfc</td><td class='upgini-text'>f_financial_date_vix_7d_to_1y_634c77eb</td><td class='upgini-text'>*</td></tr><tr><td class='upgini-text'><a href='https://upgini.com/#data_sources' target='_blank' rel='noopener noreferrer'>Calendar data</a></td><td class='upgini-text'>f_autofe_div_2fe3f746</td><td class='upgini-text'>f_events_date_month_sin1_51d9011f</td><td class='upgini-text'>f_events_date_week_sin2_e28440a5</td><td class='upgini-text'>/</td></tr><tr><td class='upgini-text'><a href='https://upgini.com/#data_sources' target='_blank' rel='noopener noreferrer'>Calendar data</a>,<a href='https://upgini.com/#data_sources' target='_blank' rel='noopener noreferrer'>Markets data</a></td><td class='upgini-text'>f_autofe_div_3793ee8b</td><td class='upgini-text'>f_events_date_month_sin2_75888cbd</td><td class='upgini-text'>f_financial_date_silver_7d_to_7d_1y_shift_55fa8001</td><td class='upgini-text'>/</td></tr><tr><td class='upgini-text'><a href='https://upgini.com/#data_sources' target='_blank' rel='noopener noreferrer'>Calendar data</a>,<a href='https://upgini.com/#data_sources' target='_blank' rel='noopener noreferrer'>Markets data</a></td><td class='upgini-text'>f_autofe_div_35f320cb</td><td class='upgini-text'>f_events_date_week_cos2_b0a07cfc</td><td class='upgini-text'>f_financial_date_natural_gas_7d_to_1y_7a6f300d</td><td class='upgini-text'>/</td></tr><tr><td class='upgini-text'><a href='https://upgini.com/#data_sources' target='_blank' rel='noopener noreferrer'>Calendar data</a>,<a href='https://upgini.com/#data_sources' target='_blank' rel='noopener noreferrer'>Markets data</a></td><td class='upgini-text'>f_autofe_div_fdbe02b3</td><td class='upgini-text'>f_events_date_year_cos7_9580852c</td><td class='upgini-text'>f_financial_date_usd_daydiff_8bcdeec4</td><td class='upgini-text'>/</td></tr><tr><td class='upgini-text'><a href='https://upgini.com/#data_sources' target='_blank' rel='noopener noreferrer'>Calendar data</a></td><td class='upgini-text'>f_autofe_mul_85c324be</td><td class='upgini-text'>f_events_date_month_sin1_51d9011f</td><td class='upgini-text'>f_events_date_week_cos3_7525fe31</td><td class='upgini-text'>*</td></tr><tr><td class='upgini-text'><a href='https://upgini.com/#data_sources' target='_blank' rel='noopener noreferrer'>Markets data</a></td><td class='upgini-text'>f_autofe_div_246b0e42</td><td class='upgini-text'>f_financial_date_natural_gas_7d_to_7d_1y_shift_a5c3c07f</td><td class='upgini-text'>f_financial_date_stoxx_043cbcd4</td><td class='upgini-text'>/</td></tr><tr><td class='upgini-text'><a href='https://upgini.com/#data_sources' target='_blank' rel='noopener noreferrer'>Calendar data</a>,<a href='https://upgini.com/#data_sources' target='_blank' rel='noopener noreferrer'>Markets data</a></td><td class='upgini-text'>f_autofe_div_ab7c3e47</td><td class='upgini-text'>f_events_date_week_cos1_f6a8c1fc</td><td class='upgini-text'>f_financial_date_stoxx_7d_to_7d_1y_shift_abef6e91</td><td class='upgini-text'>/</td></tr><tr><td class='upgini-text'><a href='https://upgini.com/#data_sources' target='_blank' rel='noopener noreferrer'>Calendar data</a></td><td class='upgini-text'>f_autofe_mul_f4d2dd32</td><td class='upgini-text'>f_events_date_year_sin6_af4ea895</td><td class='upgini-text'>f_events_date_year_sin7_16d9d7c9</td><td class='upgini-text'>*</td></tr><tr><td class='upgini-text'><a href='https://upgini.com/#data_sources' target='_blank' rel='noopener noreferrer'>Calendar data</a>,<a href='https://upgini.com/#data_sources' target='_blank' rel='noopener noreferrer'>Markets data</a></td><td class='upgini-text'>f_autofe_div_1d266053</td><td class='upgini-text'>f_events_date_week_cos3_7525fe31</td><td class='upgini-text'>f_financial_date_crude_oil_7d_to_1y_c3e0ad17</td><td class='upgini-text'>/</td></tr><tr><td class='upgini-text'><a href='https://upgini.com/#data_sources' target='_blank' rel='noopener noreferrer'>Markets data</a></td><td class='upgini-text'>f_autofe_div_cd6f9b78</td><td class='upgini-text'>f_financial_date_crude_oil_7d_to_1y_c3e0ad17</td><td class='upgini-text'>f_financial_date_silver_e4e33014</td><td class='upgini-text'>/</td></tr><tr><td class='upgini-text'><a href='https://upgini.com/#data_sources' target='_blank' rel='noopener noreferrer'>Calendar data</a>,<a href='https://upgini.com/#data_sources' target='_blank' rel='noopener noreferrer'>Markets data</a></td><td class='upgini-text'>f_autofe_mul_5656cb90</td><td class='upgini-text'>f_events_date_week_cos3_7525fe31</td><td class='upgini-text'>f_financial_date_crude_oil_1d_to_7d_471b3b15</td><td class='upgini-text'>*</td></tr><tr><td class='upgini-text'><a href='https://upgini.com/#data_sources' target='_blank' rel='noopener noreferrer'>Calendar data</a>,<a href='https://upgini.com/#data_sources' target='_blank' rel='noopener noreferrer'>Markets data</a></td><td class='upgini-text'>f_autofe_div_7b1f0c57</td><td class='upgini-text'>f_events_date_month_cos4_5ae807f5</td><td class='upgini-text'>f_financial_date_dow_jones_daydiff_def4411a</td><td class='upgini-text'>/</td></tr><tr><td class='upgini-text'><a href='https://upgini.com/#data_sources' target='_blank' rel='noopener noreferrer'>Calendar data</a></td><td class='upgini-text'>f_autofe_mul_66e8dae9</td><td class='upgini-text'>f_events_date_week_sin2_e28440a5</td><td class='upgini-text'>f_events_date_year_sin6_af4ea895</td><td class='upgini-text'>*</td></tr><tr><td class='upgini-text'><a href='https://upgini.com/#data_sources' target='_blank' rel='noopener noreferrer'>Calendar data</a></td><td class='upgini-text'>f_autofe_div_3d31a06c</td><td class='upgini-text'>f_events_date_month_sin3_028c028f</td><td class='upgini-text'>f_events_date_week_sin1_847b5db1</td><td class='upgini-text'>/</td></tr><tr><td class='upgini-text'><a href='https://upgini.com/#data_sources' target='_blank' rel='noopener noreferrer'>Markets data</a></td><td class='upgini-text'>f_autofe_div_d2e29591</td><td class='upgini-text'>f_financial_date_natural_gas_92dac942</td><td class='upgini-text'>f_financial_date_vix_7d_to_1y_634c77eb</td><td class='upgini-text'>/</td></tr><tr><td class='upgini-text'><a href='https://upgini.com/#data_sources' target='_blank' rel='noopener noreferrer'>Calendar data</a></td><td class='upgini-text'>f_autofe_div_b192a036</td><td class='upgini-text'>f_events_date_month_sin1_51d9011f</td><td class='upgini-text'>f_events_date_week_sin1_847b5db1</td><td class='upgini-text'>/</td></tr><tr><td class='upgini-text'><a href='https://upgini.com/#data_sources' target='_blank' rel='noopener noreferrer'>Calendar data</a>,<a href='https://upgini.com/#data_sources' target='_blank' rel='noopener noreferrer'>Markets data</a></td><td class='upgini-text'>f_autofe_div_02ddabb4</td><td class='upgini-text'>f_events_date_week_cos3_7525fe31</td><td class='upgini-text'>f_financial_date_crude_oil_1d_to_7d_471b3b15</td><td class='upgini-text'>/</td></tr><tr><td class='upgini-text'><a href='https://upgini.com/#data_sources' target='_blank' rel='noopener noreferrer'>Calendar data</a></td><td class='upgini-text'>f_autofe_mul_c4bd8f14</td><td class='upgini-text'>f_events_date_week_sin2_e28440a5</td><td class='upgini-text'>f_events_date_year_sin8_6be64013</td><td class='upgini-text'>*</td></tr><tr><td class='upgini-text'><a href='https://upgini.com/#data_sources' target='_blank' rel='noopener noreferrer'>Markets data</a></td><td class='upgini-text'>f_autofe_div_942365dd</td><td class='upgini-text'>f_financial_date_natural_gas_7d_to_1y_7a6f300d</td><td class='upgini-text'>f_financial_date_stoxx_043cbcd4</td><td class='upgini-text'>/</td></tr></tbody></table>\n",
              "        </div>\n",
              "        "
            ]
          },
          "metadata": {}
        },
        {
          "output_type": "stream",
          "name": "stdout",
          "text": [
            "Calculating accuracy uplift after enrichment...\n",
            "-\r\n",
            "WARNING: y distributions from the training sample and eval_set differ according to the Kolmogorov-Smirnov test,\n",
            "which makes metrics between the train and eval_set incomparable.\n"
          ]
        },
        {
          "output_type": "display_data",
          "data": {
            "text/plain": [
              "<IPython.core.display.HTML object>"
            ],
            "text/html": [
              "<style>\n",
              "            .upgini-df thead th {\n",
              "                font-weight:bold;\n",
              "                text-align: center;\n",
              "                padding: 0.5em;\n",
              "                border-bottom: 2px solid black;\n",
              "            }\n",
              "\n",
              "            .upgini-df tbody td {\n",
              "                padding: 0.5em;\n",
              "            }\n",
              "\n",
              "            .upgini-df tbody tr:nth-child(odd) {\n",
              "                background-color: #ffffff;\n",
              "            }\n",
              "\n",
              "            .upgini-df tbody tr:nth-child(even) {\n",
              "                background-color: #f2f2f2;\n",
              "            }\n",
              "\n",
              "            .upgini-text {\n",
              "                text-align: left;\n",
              "            }\n",
              "\n",
              "            .upgini-number {\n",
              "                text-align: center;\n",
              "            }\n",
              "        </style>\n",
              "        <h2>Accuracy after enrichment</h2>\n",
              "        <div style=\"display:flex; flex-direction:column; align-items:flex-end; width: fit-content;\">\n",
              "            \n",
              "            <div style=\"text-align: right\">\n",
              "                <button onclick=navigator.clipboard.writeText(decodeURI('Dataset%20type%09Rows%09Mean%20target%09Baseline%20mean_squared_error%09Enriched%20mean_squared_error%09Uplift%0ATrain%091991%0950.4857%09298.2850304379496%09219.70708643930593%0978.57794399864369%0AEval%201%091029%0958.0826%09482.1896597954251%09339.1070077872893%09143.08265200813577%0A'))>📂 Copy</button>\n",
              "                <a href='mailto:<Share with...>?subject=Relevant external data sources from Upgini.com&body=Dataset%20type%09Rows%09Mean%20target%09Baseline%20mean_squared_error%09Enriched%20mean_squared_error%09Uplift%0ATrain%091991%0950.4857%09298.2850304379496%09219.70708643930593%0978.57794399864369%0AEval%201%091029%0958.0826%09482.1896597954251%09339.1070077872893%09143.08265200813577%0A'>\n",
              "                    <button>📨 Share</button>\n",
              "                </a>\n",
              "            </div>\n",
              "            <table class='upgini-df'><thead><th>Dataset type</th><th>Rows</th><th>Mean target</th><th>Baseline mean_squared_error</th><th>Enriched mean_squared_error</th><th>Uplift</th></thead><tbody><tr><td class='upgini-text'>Train</td><td class='upgini-number'>1991</td><td class='upgini-number'>50.4857</td><td class='upgini-number'>298.2850</td><td class='upgini-number'>219.7071</td><td class='upgini-number'>78.5779</td></tr><tr><td class='upgini-text'>Eval 1</td><td class='upgini-number'>1029</td><td class='upgini-number'>58.0826</td><td class='upgini-number'>482.1897</td><td class='upgini-number'>339.1070</td><td class='upgini-number'>143.0827</td></tr></tbody></table>\n",
              "        </div>\n",
              "        "
            ]
          },
          "metadata": {}
        },
        {
          "output_type": "display_data",
          "data": {
            "text/plain": [
              "<IPython.core.display.HTML object>"
            ],
            "text/html": [
              "<a download=\"upgini-report-b1b10fe9-7ca0-4b99-87e2-8ae0a32c5408.pdf\" href=\"data:application/pdf;base64,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\" target=\"_blank\">\n",
              "        <button>📊 Download PDF report</button></a>"
            ]
          },
          "metadata": {}
        }
      ]
    },
    {
      "cell_type": "code",
      "source": [
        "from catboost import CatBoostRegressor\n",
        "from catboost.utils import eval_metric\n",
        "\n",
        "model = CatBoostRegressor(verbose=False, allow_writing_files=False, random_state=0)\n",
        "\n",
        "enricher.calculate_metrics(\n",
        "    train_features, train_target,\n",
        "    eval_set = [(test_features, test_target)],\n",
        "    estimator = model,\n",
        "    scoring = \"mean_absolute_percentage_error\"\n",
        ")\n"
      ],
      "metadata": {
        "colab": {
          "base_uri": "https://localhost:8080/",
          "height": 184
        },
        "id": "ZYHg-p04ePbp",
        "outputId": "f116bc02-bfd3-4c54-f298-236722e74d21",
        "collapsed": true
      },
      "execution_count": null,
      "outputs": [
        {
          "output_type": "stream",
          "name": "stdout",
          "text": [
            "Calculating accuracy uplift after enrichment...\n",
            "-\r\n",
            "WARNING: y distributions from the training sample and eval_set differ according to the Kolmogorov-Smirnov test,\n",
            "which makes metrics between the train and eval_set incomparable.\n"
          ]
        },
        {
          "output_type": "execute_result",
          "data": {
            "text/plain": [
              "  Dataset type  Rows  Mean target  Baseline mean_absolute_percentage_error  \\\n",
              "0        Train  1991      50.4857                                 0.310902   \n",
              "1       Eval 1  1029      58.0826                                 0.267034   \n",
              "\n",
              "   Enriched mean_absolute_percentage_error    Uplift  \n",
              "0                                 0.197872  0.113030  \n",
              "1                                 0.162507  0.104527  "
            ],
            "text/html": [
              "\n",
              "  <div id=\"df-55e07d69-1b36-4b97-820b-e625834f589a\" class=\"colab-df-container\">\n",
              "    <div>\n",
              "<style scoped>\n",
              "    .dataframe tbody tr th:only-of-type {\n",
              "        vertical-align: middle;\n",
              "    }\n",
              "\n",
              "    .dataframe tbody tr th {\n",
              "        vertical-align: top;\n",
              "    }\n",
              "\n",
              "    .dataframe thead th {\n",
              "        text-align: right;\n",
              "    }\n",
              "</style>\n",
              "<table border=\"1\" class=\"dataframe\">\n",
              "  <thead>\n",
              "    <tr style=\"text-align: right;\">\n",
              "      <th></th>\n",
              "      <th>Dataset type</th>\n",
              "      <th>Rows</th>\n",
              "      <th>Mean target</th>\n",
              "      <th>Baseline mean_absolute_percentage_error</th>\n",
              "      <th>Enriched mean_absolute_percentage_error</th>\n",
              "      <th>Uplift</th>\n",
              "    </tr>\n",
              "  </thead>\n",
              "  <tbody>\n",
              "    <tr>\n",
              "      <th>0</th>\n",
              "      <td>Train</td>\n",
              "      <td>1991</td>\n",
              "      <td>50.4857</td>\n",
              "      <td>0.310902</td>\n",
              "      <td>0.197872</td>\n",
              "      <td>0.113030</td>\n",
              "    </tr>\n",
              "    <tr>\n",
              "      <th>1</th>\n",
              "      <td>Eval 1</td>\n",
              "      <td>1029</td>\n",
              "      <td>58.0826</td>\n",
              "      <td>0.267034</td>\n",
              "      <td>0.162507</td>\n",
              "      <td>0.104527</td>\n",
              "    </tr>\n",
              "  </tbody>\n",
              "</table>\n",
              "</div>\n",
              "    <div class=\"colab-df-buttons\">\n",
              "\n",
              "  <div class=\"colab-df-container\">\n",
              "    <button class=\"colab-df-convert\" onclick=\"convertToInteractive('df-55e07d69-1b36-4b97-820b-e625834f589a')\"\n",
              "            title=\"Convert this dataframe to an interactive table.\"\n",
              "            style=\"display:none;\">\n",
              "\n",
              "  <svg xmlns=\"http://www.w3.org/2000/svg\" height=\"24px\" viewBox=\"0 -960 960 960\">\n",
              "    <path d=\"M120-120v-720h720v720H120Zm60-500h600v-160H180v160Zm220 220h160v-160H400v160Zm0 220h160v-160H400v160ZM180-400h160v-160H180v160Zm440 0h160v-160H620v160ZM180-180h160v-160H180v160Zm440 0h160v-160H620v160Z\"/>\n",
              "  </svg>\n",
              "    </button>\n",
              "\n",
              "  <style>\n",
              "    .colab-df-container {\n",
              "      display:flex;\n",
              "      gap: 12px;\n",
              "    }\n",
              "\n",
              "    .colab-df-convert {\n",
              "      background-color: #E8F0FE;\n",
              "      border: none;\n",
              "      border-radius: 50%;\n",
              "      cursor: pointer;\n",
              "      display: none;\n",
              "      fill: #1967D2;\n",
              "      height: 32px;\n",
              "      padding: 0 0 0 0;\n",
              "      width: 32px;\n",
              "    }\n",
              "\n",
              "    .colab-df-convert:hover {\n",
              "      background-color: #E2EBFA;\n",
              "      box-shadow: 0px 1px 2px rgba(60, 64, 67, 0.3), 0px 1px 3px 1px rgba(60, 64, 67, 0.15);\n",
              "      fill: #174EA6;\n",
              "    }\n",
              "\n",
              "    .colab-df-buttons div {\n",
              "      margin-bottom: 4px;\n",
              "    }\n",
              "\n",
              "    [theme=dark] .colab-df-convert {\n",
              "      background-color: #3B4455;\n",
              "      fill: #D2E3FC;\n",
              "    }\n",
              "\n",
              "    [theme=dark] .colab-df-convert:hover {\n",
              "      background-color: #434B5C;\n",
              "      box-shadow: 0px 1px 3px 1px rgba(0, 0, 0, 0.15);\n",
              "      filter: drop-shadow(0px 1px 2px rgba(0, 0, 0, 0.3));\n",
              "      fill: #FFFFFF;\n",
              "    }\n",
              "  </style>\n",
              "\n",
              "    <script>\n",
              "      const buttonEl =\n",
              "        document.querySelector('#df-55e07d69-1b36-4b97-820b-e625834f589a button.colab-df-convert');\n",
              "      buttonEl.style.display =\n",
              "        google.colab.kernel.accessAllowed ? 'block' : 'none';\n",
              "\n",
              "      async function convertToInteractive(key) {\n",
              "        const element = document.querySelector('#df-55e07d69-1b36-4b97-820b-e625834f589a');\n",
              "        const dataTable =\n",
              "          await google.colab.kernel.invokeFunction('convertToInteractive',\n",
              "                                                    [key], {});\n",
              "        if (!dataTable) return;\n",
              "\n",
              "        const docLinkHtml = 'Like what you see? Visit the ' +\n",
              "          '<a target=\"_blank\" href=https://colab.research.google.com/notebooks/data_table.ipynb>data table notebook</a>'\n",
              "          + ' to learn more about interactive tables.';\n",
              "        element.innerHTML = '';\n",
              "        dataTable['output_type'] = 'display_data';\n",
              "        await google.colab.output.renderOutput(dataTable, element);\n",
              "        const docLink = document.createElement('div');\n",
              "        docLink.innerHTML = docLinkHtml;\n",
              "        element.appendChild(docLink);\n",
              "      }\n",
              "    </script>\n",
              "  </div>\n",
              "\n",
              "\n",
              "<div id=\"df-3c219de4-ef31-4ef1-b27a-fbaafc7471b1\">\n",
              "  <button class=\"colab-df-quickchart\" onclick=\"quickchart('df-3c219de4-ef31-4ef1-b27a-fbaafc7471b1')\"\n",
              "            title=\"Suggest charts\"\n",
              "            style=\"display:none;\">\n",
              "\n",
              "<svg xmlns=\"http://www.w3.org/2000/svg\" height=\"24px\"viewBox=\"0 0 24 24\"\n",
              "     width=\"24px\">\n",
              "    <g>\n",
              "        <path d=\"M19 3H5c-1.1 0-2 .9-2 2v14c0 1.1.9 2 2 2h14c1.1 0 2-.9 2-2V5c0-1.1-.9-2-2-2zM9 17H7v-7h2v7zm4 0h-2V7h2v10zm4 0h-2v-4h2v4z\"/>\n",
              "    </g>\n",
              "</svg>\n",
              "  </button>\n",
              "\n",
              "<style>\n",
              "  .colab-df-quickchart {\n",
              "      --bg-color: #E8F0FE;\n",
              "      --fill-color: #1967D2;\n",
              "      --hover-bg-color: #E2EBFA;\n",
              "      --hover-fill-color: #174EA6;\n",
              "      --disabled-fill-color: #AAA;\n",
              "      --disabled-bg-color: #DDD;\n",
              "  }\n",
              "\n",
              "  [theme=dark] .colab-df-quickchart {\n",
              "      --bg-color: #3B4455;\n",
              "      --fill-color: #D2E3FC;\n",
              "      --hover-bg-color: #434B5C;\n",
              "      --hover-fill-color: #FFFFFF;\n",
              "      --disabled-bg-color: #3B4455;\n",
              "      --disabled-fill-color: #666;\n",
              "  }\n",
              "\n",
              "  .colab-df-quickchart {\n",
              "    background-color: var(--bg-color);\n",
              "    border: none;\n",
              "    border-radius: 50%;\n",
              "    cursor: pointer;\n",
              "    display: none;\n",
              "    fill: var(--fill-color);\n",
              "    height: 32px;\n",
              "    padding: 0;\n",
              "    width: 32px;\n",
              "  }\n",
              "\n",
              "  .colab-df-quickchart:hover {\n",
              "    background-color: var(--hover-bg-color);\n",
              "    box-shadow: 0 1px 2px rgba(60, 64, 67, 0.3), 0 1px 3px 1px rgba(60, 64, 67, 0.15);\n",
              "    fill: var(--button-hover-fill-color);\n",
              "  }\n",
              "\n",
              "  .colab-df-quickchart-complete:disabled,\n",
              "  .colab-df-quickchart-complete:disabled:hover {\n",
              "    background-color: var(--disabled-bg-color);\n",
              "    fill: var(--disabled-fill-color);\n",
              "    box-shadow: none;\n",
              "  }\n",
              "\n",
              "  .colab-df-spinner {\n",
              "    border: 2px solid var(--fill-color);\n",
              "    border-color: transparent;\n",
              "    border-bottom-color: var(--fill-color);\n",
              "    animation:\n",
              "      spin 1s steps(1) infinite;\n",
              "  }\n",
              "\n",
              "  @keyframes spin {\n",
              "    0% {\n",
              "      border-color: transparent;\n",
              "      border-bottom-color: var(--fill-color);\n",
              "      border-left-color: var(--fill-color);\n",
              "    }\n",
              "    20% {\n",
              "      border-color: transparent;\n",
              "      border-left-color: var(--fill-color);\n",
              "      border-top-color: var(--fill-color);\n",
              "    }\n",
              "    30% {\n",
              "      border-color: transparent;\n",
              "      border-left-color: var(--fill-color);\n",
              "      border-top-color: var(--fill-color);\n",
              "      border-right-color: var(--fill-color);\n",
              "    }\n",
              "    40% {\n",
              "      border-color: transparent;\n",
              "      border-right-color: var(--fill-color);\n",
              "      border-top-color: var(--fill-color);\n",
              "    }\n",
              "    60% {\n",
              "      border-color: transparent;\n",
              "      border-right-color: var(--fill-color);\n",
              "    }\n",
              "    80% {\n",
              "      border-color: transparent;\n",
              "      border-right-color: var(--fill-color);\n",
              "      border-bottom-color: var(--fill-color);\n",
              "    }\n",
              "    90% {\n",
              "      border-color: transparent;\n",
              "      border-bottom-color: var(--fill-color);\n",
              "    }\n",
              "  }\n",
              "</style>\n",
              "\n",
              "  <script>\n",
              "    async function quickchart(key) {\n",
              "      const quickchartButtonEl =\n",
              "        document.querySelector('#' + key + ' button');\n",
              "      quickchartButtonEl.disabled = true;  // To prevent multiple clicks.\n",
              "      quickchartButtonEl.classList.add('colab-df-spinner');\n",
              "      try {\n",
              "        const charts = await google.colab.kernel.invokeFunction(\n",
              "            'suggestCharts', [key], {});\n",
              "      } catch (error) {\n",
              "        console.error('Error during call to suggestCharts:', error);\n",
              "      }\n",
              "      quickchartButtonEl.classList.remove('colab-df-spinner');\n",
              "      quickchartButtonEl.classList.add('colab-df-quickchart-complete');\n",
              "    }\n",
              "    (() => {\n",
              "      let quickchartButtonEl =\n",
              "        document.querySelector('#df-3c219de4-ef31-4ef1-b27a-fbaafc7471b1 button');\n",
              "      quickchartButtonEl.style.display =\n",
              "        google.colab.kernel.accessAllowed ? 'block' : 'none';\n",
              "    })();\n",
              "  </script>\n",
              "</div>\n",
              "\n",
              "    </div>\n",
              "  </div>\n"
            ],
            "application/vnd.google.colaboratory.intrinsic+json": {
              "type": "dataframe",
              "summary": "{\n  \"name\": \")\",\n  \"rows\": 2,\n  \"fields\": [\n    {\n      \"column\": \"Dataset type\",\n      \"properties\": {\n        \"dtype\": \"string\",\n        \"num_unique_values\": 2,\n        \"samples\": [\n          \"Eval 1\",\n          \"Train\"\n        ],\n        \"semantic_type\": \"\",\n        \"description\": \"\"\n      }\n    },\n    {\n      \"column\": \"Rows\",\n      \"properties\": {\n        \"dtype\": \"number\",\n        \"std\": 680,\n        \"min\": 1029,\n        \"max\": 1991,\n        \"num_unique_values\": 2,\n        \"samples\": [\n          1029,\n          1991\n        ],\n        \"semantic_type\": \"\",\n        \"description\": \"\"\n      }\n    },\n    {\n      \"column\": \"Mean target\",\n      \"properties\": {\n        \"dtype\": \"number\",\n        \"std\": 5.371819505996082,\n        \"min\": 50.4857,\n        \"max\": 58.0826,\n        \"num_unique_values\": 2,\n        \"samples\": [\n          58.0826,\n          50.4857\n        ],\n        \"semantic_type\": \"\",\n        \"description\": \"\"\n      }\n    },\n    {\n      \"column\": \"Baseline mean_absolute_percentage_error\",\n      \"properties\": {\n        \"dtype\": \"number\",\n        \"std\": 0.031019890179810286,\n        \"min\": 0.267033605906565,\n        \"max\": 0.3109023553021767,\n        \"num_unique_values\": 2,\n        \"samples\": [\n          0.267033605906565,\n          0.3109023553021767\n        ],\n        \"semantic_type\": \"\",\n        \"description\": \"\"\n      }\n    },\n    {\n      \"column\": \"Enriched mean_absolute_percentage_error\",\n      \"properties\": {\n        \"dtype\": \"number\",\n        \"std\": 0.025007147726812604,\n        \"min\": 0.1625068531557384,\n        \"max\": 0.1978723006272643,\n        \"num_unique_values\": 2,\n        \"samples\": [\n          0.1625068531557384,\n          0.1978723006272643\n        ],\n        \"semantic_type\": \"\",\n        \"description\": \"\"\n      }\n    },\n    {\n      \"column\": \"Uplift\",\n      \"properties\": {\n        \"dtype\": \"number\",\n        \"std\": 0.006012742452997685,\n        \"min\": 0.1045267527508266,\n        \"max\": 0.1130300546749124,\n        \"num_unique_values\": 2,\n        \"samples\": [\n          0.1045267527508266,\n          0.1130300546749124\n        ],\n        \"semantic_type\": \"\",\n        \"description\": \"\"\n      }\n    }\n  ]\n}"
            }
          },
          "metadata": {},
          "execution_count": 7
        }
      ]
    },
    {
      "cell_type": "code",
      "source": [
        "enriched_train_features = enricher.transform(train_features, keep_input = True)\n",
        "enriched_test_features = enricher.transform(test_features, keep_input = True)\n",
        "enriched_train_features.head()"
      ],
      "metadata": {
        "colab": {
          "base_uri": "https://localhost:8080/",
          "height": 895
        },
        "collapsed": true,
        "id": "TQB-bQ-bgv-f",
        "outputId": "2862dcbf-e4ef-4cda-ef72-6b739ad06c1a"
      },
      "execution_count": null,
      "outputs": [
        {
          "output_type": "display_data",
          "data": {
            "text/plain": [
              "[============================================================] 100% Finished"
            ],
            "text/html": [
              "<progress style='width:60ex' max='100' value='100'></progress>  100% Finished</br>"
            ]
          },
          "metadata": {}
        },
        {
          "output_type": "stream",
          "name": "stdout",
          "text": [
            "You use Trial access to Upgini data enrichment. Limit for Trial: 10000 rows. You have already enriched: 7512 rows.\n",
            "\n",
            "WARNING: Search started with DATE search key only\n",
            "Try to add other keys like the COUNTRY, POSTAL_CODE, PHONE NUMBER, EMAIL/HEM, IPv4 to your training dataset\n",
            "for search through all the available data sources.\n",
            "See docs https://github.com/upgini/upgini#-total-239-countries-and-up-to-41-years-of-history\n",
            "\n"
          ]
        },
        {
          "output_type": "display_data",
          "data": {
            "text/plain": [
              "<IPython.core.display.HTML object>"
            ],
            "text/html": [
              "<table><tr><th style='font-weight:bold'>Column name</th><th style='font-weight:bold'>Status</th><th style='font-weight:bold'>Errors</th></tr><tr><td>date</td><td style='background-color:#DAF7A6;color:black'>All valid</td><td>-</td></tr></table>"
            ]
          },
          "metadata": {}
        },
        {
          "output_type": "stream",
          "name": "stdout",
          "text": [
            "\n",
            "Running search request, search_id=2016478e-ee52-42bc-a40b-a73e09d9838c\n",
            "We'll send email notification once it's completed, just use your personal api_key from profile.upgini.com\n",
            "\n",
            "Retrieving selected features from data sources...\n"
          ]
        },
        {
          "output_type": "display_data",
          "data": {
            "text/plain": [
              "[============================================================] 100% Finished"
            ],
            "text/html": [
              "<progress style='width:60ex' max='100' value='100'></progress>  100% Finished</br>"
            ]
          },
          "metadata": {}
        },
        {
          "output_type": "stream",
          "name": "stdout",
          "text": [
            "You use Trial access to Upgini data enrichment. Limit for Trial: 10000 rows. You have already enriched: 8618 rows.\n",
            "\n",
            "WARNING: Search started with DATE search key only\n",
            "Try to add other keys like the COUNTRY, POSTAL_CODE, PHONE NUMBER, EMAIL/HEM, IPv4 to your training dataset\n",
            "for search through all the available data sources.\n",
            "See docs https://github.com/upgini/upgini#-total-239-countries-and-up-to-41-years-of-history\n",
            "\n"
          ]
        },
        {
          "output_type": "display_data",
          "data": {
            "text/plain": [
              "<IPython.core.display.HTML object>"
            ],
            "text/html": [
              "<table><tr><th style='font-weight:bold'>Column name</th><th style='font-weight:bold'>Status</th><th style='font-weight:bold'>Errors</th></tr><tr><td>date</td><td style='background-color:#DAF7A6;color:black'>All valid</td><td>-</td></tr></table>"
            ]
          },
          "metadata": {}
        },
        {
          "output_type": "stream",
          "name": "stdout",
          "text": [
            "\n",
            "Running search request, search_id=4132c687-7d3b-43ee-b9b9-cb00214479cc\n",
            "We'll send email notification once it's completed, just use your personal api_key from profile.upgini.com\n",
            "\n",
            "Retrieving selected features from data sources...\n"
          ]
        },
        {
          "output_type": "execute_result",
          "data": {
            "text/plain": [
              "        date store item  f_weather_date_weather_umap_34_c3ef5b4f  \\\n",
              "0 2013-01-01     5   24                                 5.664261   \n",
              "1 2013-01-01    10   21                                 5.664261   \n",
              "2 2013-01-02     2    7                                 5.658197   \n",
              "3 2013-01-02     1   13                                 5.658197   \n",
              "4 2013-01-03     6    1                                 5.684204   \n",
              "\n",
              "   f_autofe_div_89c56a5f  f_autofe_div_0a5adf97  \\\n",
              "0               0.880047               0.294008   \n",
              "1               0.880047               0.294008   \n",
              "2               0.871953               0.293084   \n",
              "3               0.871953               0.293084   \n",
              "4               0.869863               0.302734   \n",
              "\n",
              "   f_weather_date_weather_umap_48_b39cd0c4  \\\n",
              "0                                 4.540985   \n",
              "1                                 4.540985   \n",
              "2                                 4.573898   \n",
              "3                                 4.573898   \n",
              "4                                 4.702521   \n",
              "\n",
              "   f_weather_date_weather_pca_0_d7e0a1fc  f_autofe_div_270392eb  \\\n",
              "0                              29.676683               1.095753   \n",
              "1                              29.676683               1.095753   \n",
              "2                              29.035729               1.109257   \n",
              "3                              29.035729               1.109257   \n",
              "4                              29.165572               1.151284   \n",
              "\n",
              "   f_autofe_div_a152c923  ...  f_autofe_div_3d31a06c  f_autofe_div_d2e29591  \\\n",
              "0               0.003534  ...               0.000000               2.914165   \n",
              "1               0.003534  ...               0.000000               2.914165   \n",
              "2               0.003523  ...               0.585959               2.908085   \n",
              "3               0.003523  ...               0.585959               2.908085   \n",
              "4               0.003511  ...               2.161298               2.899308   \n",
              "\n",
              "   f_autofe_div_b192a036  f_autofe_div_02ddabb4  f_autofe_mul_c4bd8f14  \\\n",
              "0               0.000000              -0.889671               0.956703   \n",
              "1               0.000000              -0.889671               0.956703   \n",
              "2               0.206475               0.618785              -0.433205   \n",
              "3               0.206475               0.618785              -0.433205   \n",
              "4               0.908898              -0.218489              -0.779219   \n",
              "\n",
              "   f_autofe_div_942365dd  f_events_date_week_sin1_847b5db1  \\\n",
              "0               0.004323                          0.781831   \n",
              "1               0.004323                          0.781831   \n",
              "2               0.004323                          0.974928   \n",
              "3               0.004323                          0.974928   \n",
              "4               0.004293                          0.433884   \n",
              "\n",
              "   f_financial_date_finance_umap_3_67036e7c  \\\n",
              "0                                  8.651249   \n",
              "1                                  8.651249   \n",
              "2                                  8.588873   \n",
              "3                                  8.588873   \n",
              "4                                  8.656294   \n",
              "\n",
              "   f_weather_date_weather_pca_5_29805999  \\\n",
              "0                              -2.881250   \n",
              "1                              -2.881250   \n",
              "2                              -1.991177   \n",
              "3                              -1.991177   \n",
              "4                              -3.260600   \n",
              "\n",
              "   f_weather_date_weather_umap_12_d03be9a0  \n",
              "0                                 3.739055  \n",
              "1                                 3.739055  \n",
              "2                                 3.723387  \n",
              "3                                 3.723387  \n",
              "4                                 3.654487  \n",
              "\n",
              "[5 rows x 67 columns]"
            ],
            "text/html": [
              "\n",
              "  <div id=\"df-88adb00c-26d2-40eb-b219-a3bbe4668009\" class=\"colab-df-container\">\n",
              "    <div>\n",
              "<style scoped>\n",
              "    .dataframe tbody tr th:only-of-type {\n",
              "        vertical-align: middle;\n",
              "    }\n",
              "\n",
              "    .dataframe tbody tr th {\n",
              "        vertical-align: top;\n",
              "    }\n",
              "\n",
              "    .dataframe thead th {\n",
              "        text-align: right;\n",
              "    }\n",
              "</style>\n",
              "<table border=\"1\" class=\"dataframe\">\n",
              "  <thead>\n",
              "    <tr style=\"text-align: right;\">\n",
              "      <th></th>\n",
              "      <th>date</th>\n",
              "      <th>store</th>\n",
              "      <th>item</th>\n",
              "      <th>f_weather_date_weather_umap_34_c3ef5b4f</th>\n",
              "      <th>f_autofe_div_89c56a5f</th>\n",
              "      <th>f_autofe_div_0a5adf97</th>\n",
              "      <th>f_weather_date_weather_umap_48_b39cd0c4</th>\n",
              "      <th>f_weather_date_weather_pca_0_d7e0a1fc</th>\n",
              "      <th>f_autofe_div_270392eb</th>\n",
              "      <th>f_autofe_div_a152c923</th>\n",
              "      <th>...</th>\n",
              "      <th>f_autofe_div_3d31a06c</th>\n",
              "      <th>f_autofe_div_d2e29591</th>\n",
              "      <th>f_autofe_div_b192a036</th>\n",
              "      <th>f_autofe_div_02ddabb4</th>\n",
              "      <th>f_autofe_mul_c4bd8f14</th>\n",
              "      <th>f_autofe_div_942365dd</th>\n",
              "      <th>f_events_date_week_sin1_847b5db1</th>\n",
              "      <th>f_financial_date_finance_umap_3_67036e7c</th>\n",
              "      <th>f_weather_date_weather_pca_5_29805999</th>\n",
              "      <th>f_weather_date_weather_umap_12_d03be9a0</th>\n",
              "    </tr>\n",
              "  </thead>\n",
              "  <tbody>\n",
              "    <tr>\n",
              "      <th>0</th>\n",
              "      <td>2013-01-01</td>\n",
              "      <td>5</td>\n",
              "      <td>24</td>\n",
              "      <td>5.664261</td>\n",
              "      <td>0.880047</td>\n",
              "      <td>0.294008</td>\n",
              "      <td>4.540985</td>\n",
              "      <td>29.676683</td>\n",
              "      <td>1.095753</td>\n",
              "      <td>0.003534</td>\n",
              "      <td>...</td>\n",
              "      <td>0.000000</td>\n",
              "      <td>2.914165</td>\n",
              "      <td>0.000000</td>\n",
              "      <td>-0.889671</td>\n",
              "      <td>0.956703</td>\n",
              "      <td>0.004323</td>\n",
              "      <td>0.781831</td>\n",
              "      <td>8.651249</td>\n",
              "      <td>-2.881250</td>\n",
              "      <td>3.739055</td>\n",
              "    </tr>\n",
              "    <tr>\n",
              "      <th>1</th>\n",
              "      <td>2013-01-01</td>\n",
              "      <td>10</td>\n",
              "      <td>21</td>\n",
              "      <td>5.664261</td>\n",
              "      <td>0.880047</td>\n",
              "      <td>0.294008</td>\n",
              "      <td>4.540985</td>\n",
              "      <td>29.676683</td>\n",
              "      <td>1.095753</td>\n",
              "      <td>0.003534</td>\n",
              "      <td>...</td>\n",
              "      <td>0.000000</td>\n",
              "      <td>2.914165</td>\n",
              "      <td>0.000000</td>\n",
              "      <td>-0.889671</td>\n",
              "      <td>0.956703</td>\n",
              "      <td>0.004323</td>\n",
              "      <td>0.781831</td>\n",
              "      <td>8.651249</td>\n",
              "      <td>-2.881250</td>\n",
              "      <td>3.739055</td>\n",
              "    </tr>\n",
              "    <tr>\n",
              "      <th>2</th>\n",
              "      <td>2013-01-02</td>\n",
              "      <td>2</td>\n",
              "      <td>7</td>\n",
              "      <td>5.658197</td>\n",
              "      <td>0.871953</td>\n",
              "      <td>0.293084</td>\n",
              "      <td>4.573898</td>\n",
              "      <td>29.035729</td>\n",
              "      <td>1.109257</td>\n",
              "      <td>0.003523</td>\n",
              "      <td>...</td>\n",
              "      <td>0.585959</td>\n",
              "      <td>2.908085</td>\n",
              "      <td>0.206475</td>\n",
              "      <td>0.618785</td>\n",
              "      <td>-0.433205</td>\n",
              "      <td>0.004323</td>\n",
              "      <td>0.974928</td>\n",
              "      <td>8.588873</td>\n",
              "      <td>-1.991177</td>\n",
              "      <td>3.723387</td>\n",
              "    </tr>\n",
              "    <tr>\n",
              "      <th>3</th>\n",
              "      <td>2013-01-02</td>\n",
              "      <td>1</td>\n",
              "      <td>13</td>\n",
              "      <td>5.658197</td>\n",
              "      <td>0.871953</td>\n",
              "      <td>0.293084</td>\n",
              "      <td>4.573898</td>\n",
              "      <td>29.035729</td>\n",
              "      <td>1.109257</td>\n",
              "      <td>0.003523</td>\n",
              "      <td>...</td>\n",
              "      <td>0.585959</td>\n",
              "      <td>2.908085</td>\n",
              "      <td>0.206475</td>\n",
              "      <td>0.618785</td>\n",
              "      <td>-0.433205</td>\n",
              "      <td>0.004323</td>\n",
              "      <td>0.974928</td>\n",
              "      <td>8.588873</td>\n",
              "      <td>-1.991177</td>\n",
              "      <td>3.723387</td>\n",
              "    </tr>\n",
              "    <tr>\n",
              "      <th>4</th>\n",
              "      <td>2013-01-03</td>\n",
              "      <td>6</td>\n",
              "      <td>1</td>\n",
              "      <td>5.684204</td>\n",
              "      <td>0.869863</td>\n",
              "      <td>0.302734</td>\n",
              "      <td>4.702521</td>\n",
              "      <td>29.165572</td>\n",
              "      <td>1.151284</td>\n",
              "      <td>0.003511</td>\n",
              "      <td>...</td>\n",
              "      <td>2.161298</td>\n",
              "      <td>2.899308</td>\n",
              "      <td>0.908898</td>\n",
              "      <td>-0.218489</td>\n",
              "      <td>-0.779219</td>\n",
              "      <td>0.004293</td>\n",
              "      <td>0.433884</td>\n",
              "      <td>8.656294</td>\n",
              "      <td>-3.260600</td>\n",
              "      <td>3.654487</td>\n",
              "    </tr>\n",
              "  </tbody>\n",
              "</table>\n",
              "<p>5 rows × 67 columns</p>\n",
              "</div>\n",
              "    <div class=\"colab-df-buttons\">\n",
              "\n",
              "  <div class=\"colab-df-container\">\n",
              "    <button class=\"colab-df-convert\" onclick=\"convertToInteractive('df-88adb00c-26d2-40eb-b219-a3bbe4668009')\"\n",
              "            title=\"Convert this dataframe to an interactive table.\"\n",
              "            style=\"display:none;\">\n",
              "\n",
              "  <svg xmlns=\"http://www.w3.org/2000/svg\" height=\"24px\" viewBox=\"0 -960 960 960\">\n",
              "    <path d=\"M120-120v-720h720v720H120Zm60-500h600v-160H180v160Zm220 220h160v-160H400v160Zm0 220h160v-160H400v160ZM180-400h160v-160H180v160Zm440 0h160v-160H620v160ZM180-180h160v-160H180v160Zm440 0h160v-160H620v160Z\"/>\n",
              "  </svg>\n",
              "    </button>\n",
              "\n",
              "  <style>\n",
              "    .colab-df-container {\n",
              "      display:flex;\n",
              "      gap: 12px;\n",
              "    }\n",
              "\n",
              "    .colab-df-convert {\n",
              "      background-color: #E8F0FE;\n",
              "      border: none;\n",
              "      border-radius: 50%;\n",
              "      cursor: pointer;\n",
              "      display: none;\n",
              "      fill: #1967D2;\n",
              "      height: 32px;\n",
              "      padding: 0 0 0 0;\n",
              "      width: 32px;\n",
              "    }\n",
              "\n",
              "    .colab-df-convert:hover {\n",
              "      background-color: #E2EBFA;\n",
              "      box-shadow: 0px 1px 2px rgba(60, 64, 67, 0.3), 0px 1px 3px 1px rgba(60, 64, 67, 0.15);\n",
              "      fill: #174EA6;\n",
              "    }\n",
              "\n",
              "    .colab-df-buttons div {\n",
              "      margin-bottom: 4px;\n",
              "    }\n",
              "\n",
              "    [theme=dark] .colab-df-convert {\n",
              "      background-color: #3B4455;\n",
              "      fill: #D2E3FC;\n",
              "    }\n",
              "\n",
              "    [theme=dark] .colab-df-convert:hover {\n",
              "      background-color: #434B5C;\n",
              "      box-shadow: 0px 1px 3px 1px rgba(0, 0, 0, 0.15);\n",
              "      filter: drop-shadow(0px 1px 2px rgba(0, 0, 0, 0.3));\n",
              "      fill: #FFFFFF;\n",
              "    }\n",
              "  </style>\n",
              "\n",
              "    <script>\n",
              "      const buttonEl =\n",
              "        document.querySelector('#df-88adb00c-26d2-40eb-b219-a3bbe4668009 button.colab-df-convert');\n",
              "      buttonEl.style.display =\n",
              "        google.colab.kernel.accessAllowed ? 'block' : 'none';\n",
              "\n",
              "      async function convertToInteractive(key) {\n",
              "        const element = document.querySelector('#df-88adb00c-26d2-40eb-b219-a3bbe4668009');\n",
              "        const dataTable =\n",
              "          await google.colab.kernel.invokeFunction('convertToInteractive',\n",
              "                                                    [key], {});\n",
              "        if (!dataTable) return;\n",
              "\n",
              "        const docLinkHtml = 'Like what you see? Visit the ' +\n",
              "          '<a target=\"_blank\" href=https://colab.research.google.com/notebooks/data_table.ipynb>data table notebook</a>'\n",
              "          + ' to learn more about interactive tables.';\n",
              "        element.innerHTML = '';\n",
              "        dataTable['output_type'] = 'display_data';\n",
              "        await google.colab.output.renderOutput(dataTable, element);\n",
              "        const docLink = document.createElement('div');\n",
              "        docLink.innerHTML = docLinkHtml;\n",
              "        element.appendChild(docLink);\n",
              "      }\n",
              "    </script>\n",
              "  </div>\n",
              "\n",
              "\n",
              "<div id=\"df-3640152f-13e3-473b-b74d-d91bdae8b8e4\">\n",
              "  <button class=\"colab-df-quickchart\" onclick=\"quickchart('df-3640152f-13e3-473b-b74d-d91bdae8b8e4')\"\n",
              "            title=\"Suggest charts\"\n",
              "            style=\"display:none;\">\n",
              "\n",
              "<svg xmlns=\"http://www.w3.org/2000/svg\" height=\"24px\"viewBox=\"0 0 24 24\"\n",
              "     width=\"24px\">\n",
              "    <g>\n",
              "        <path d=\"M19 3H5c-1.1 0-2 .9-2 2v14c0 1.1.9 2 2 2h14c1.1 0 2-.9 2-2V5c0-1.1-.9-2-2-2zM9 17H7v-7h2v7zm4 0h-2V7h2v10zm4 0h-2v-4h2v4z\"/>\n",
              "    </g>\n",
              "</svg>\n",
              "  </button>\n",
              "\n",
              "<style>\n",
              "  .colab-df-quickchart {\n",
              "      --bg-color: #E8F0FE;\n",
              "      --fill-color: #1967D2;\n",
              "      --hover-bg-color: #E2EBFA;\n",
              "      --hover-fill-color: #174EA6;\n",
              "      --disabled-fill-color: #AAA;\n",
              "      --disabled-bg-color: #DDD;\n",
              "  }\n",
              "\n",
              "  [theme=dark] .colab-df-quickchart {\n",
              "      --bg-color: #3B4455;\n",
              "      --fill-color: #D2E3FC;\n",
              "      --hover-bg-color: #434B5C;\n",
              "      --hover-fill-color: #FFFFFF;\n",
              "      --disabled-bg-color: #3B4455;\n",
              "      --disabled-fill-color: #666;\n",
              "  }\n",
              "\n",
              "  .colab-df-quickchart {\n",
              "    background-color: var(--bg-color);\n",
              "    border: none;\n",
              "    border-radius: 50%;\n",
              "    cursor: pointer;\n",
              "    display: none;\n",
              "    fill: var(--fill-color);\n",
              "    height: 32px;\n",
              "    padding: 0;\n",
              "    width: 32px;\n",
              "  }\n",
              "\n",
              "  .colab-df-quickchart:hover {\n",
              "    background-color: var(--hover-bg-color);\n",
              "    box-shadow: 0 1px 2px rgba(60, 64, 67, 0.3), 0 1px 3px 1px rgba(60, 64, 67, 0.15);\n",
              "    fill: var(--button-hover-fill-color);\n",
              "  }\n",
              "\n",
              "  .colab-df-quickchart-complete:disabled,\n",
              "  .colab-df-quickchart-complete:disabled:hover {\n",
              "    background-color: var(--disabled-bg-color);\n",
              "    fill: var(--disabled-fill-color);\n",
              "    box-shadow: none;\n",
              "  }\n",
              "\n",
              "  .colab-df-spinner {\n",
              "    border: 2px solid var(--fill-color);\n",
              "    border-color: transparent;\n",
              "    border-bottom-color: var(--fill-color);\n",
              "    animation:\n",
              "      spin 1s steps(1) infinite;\n",
              "  }\n",
              "\n",
              "  @keyframes spin {\n",
              "    0% {\n",
              "      border-color: transparent;\n",
              "      border-bottom-color: var(--fill-color);\n",
              "      border-left-color: var(--fill-color);\n",
              "    }\n",
              "    20% {\n",
              "      border-color: transparent;\n",
              "      border-left-color: var(--fill-color);\n",
              "      border-top-color: var(--fill-color);\n",
              "    }\n",
              "    30% {\n",
              "      border-color: transparent;\n",
              "      border-left-color: var(--fill-color);\n",
              "      border-top-color: var(--fill-color);\n",
              "      border-right-color: var(--fill-color);\n",
              "    }\n",
              "    40% {\n",
              "      border-color: transparent;\n",
              "      border-right-color: var(--fill-color);\n",
              "      border-top-color: var(--fill-color);\n",
              "    }\n",
              "    60% {\n",
              "      border-color: transparent;\n",
              "      border-right-color: var(--fill-color);\n",
              "    }\n",
              "    80% {\n",
              "      border-color: transparent;\n",
              "      border-right-color: var(--fill-color);\n",
              "      border-bottom-color: var(--fill-color);\n",
              "    }\n",
              "    90% {\n",
              "      border-color: transparent;\n",
              "      border-bottom-color: var(--fill-color);\n",
              "    }\n",
              "  }\n",
              "</style>\n",
              "\n",
              "  <script>\n",
              "    async function quickchart(key) {\n",
              "      const quickchartButtonEl =\n",
              "        document.querySelector('#' + key + ' button');\n",
              "      quickchartButtonEl.disabled = true;  // To prevent multiple clicks.\n",
              "      quickchartButtonEl.classList.add('colab-df-spinner');\n",
              "      try {\n",
              "        const charts = await google.colab.kernel.invokeFunction(\n",
              "            'suggestCharts', [key], {});\n",
              "      } catch (error) {\n",
              "        console.error('Error during call to suggestCharts:', error);\n",
              "      }\n",
              "      quickchartButtonEl.classList.remove('colab-df-spinner');\n",
              "      quickchartButtonEl.classList.add('colab-df-quickchart-complete');\n",
              "    }\n",
              "    (() => {\n",
              "      let quickchartButtonEl =\n",
              "        document.querySelector('#df-3640152f-13e3-473b-b74d-d91bdae8b8e4 button');\n",
              "      quickchartButtonEl.style.display =\n",
              "        google.colab.kernel.accessAllowed ? 'block' : 'none';\n",
              "    })();\n",
              "  </script>\n",
              "</div>\n",
              "\n",
              "    </div>\n",
              "  </div>\n"
            ],
            "application/vnd.google.colaboratory.intrinsic+json": {
              "type": "dataframe",
              "variable_name": "enriched_train_features"
            }
          },
          "metadata": {},
          "execution_count": 8
        }
      ]
    },
    {
      "cell_type": "code",
      "source": [
        "model.fit(train_features, train_target)\n",
        "preds = model.predict(test_features)\n",
        "eval_metric(test_target.values, preds, \"SMAPE\")\n"
      ],
      "metadata": {
        "id": "39LjqmTmwAwB",
        "colab": {
          "base_uri": "https://localhost:8080/"
        },
        "outputId": "01642fab-49a1-4062-8e51-676dc678578f"
      },
      "execution_count": null,
      "outputs": [
        {
          "output_type": "execute_result",
          "data": {
            "text/plain": [
              "[29.752552915465596]"
            ]
          },
          "metadata": {},
          "execution_count": 9
        }
      ]
    },
    {
      "cell_type": "code",
      "source": [
        "model.fit(enriched_train_features, train_target)\n",
        "enriched_preds = model.predict(enriched_test_features)\n",
        "eval_metric(test_target.values, enriched_preds, \"SMAPE\")"
      ],
      "metadata": {
        "colab": {
          "base_uri": "https://localhost:8080/"
        },
        "id": "IFJUFks6cOjO",
        "outputId": "1a096a51-7d90-4eb9-e980-e8ceb9e23f15"
      },
      "execution_count": null,
      "outputs": [
        {
          "output_type": "execute_result",
          "data": {
            "text/plain": [
              "[14.77499344212545]"
            ]
          },
          "metadata": {},
          "execution_count": 12
        }
      ]
    }
  ]
}